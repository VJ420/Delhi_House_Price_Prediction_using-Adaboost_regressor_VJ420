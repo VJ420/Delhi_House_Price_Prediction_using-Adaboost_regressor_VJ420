{
 "cells": [
  {
   "cell_type": "markdown",
   "id": "c24c4e6e",
   "metadata": {},
   "source": [
    "# Importing all the necessary libraries "
   ]
  },
  {
   "cell_type": "code",
   "execution_count": 132,
   "id": "caba99a0",
   "metadata": {},
   "outputs": [],
   "source": [
    "# Importing all libraries\n",
    "import pandas as pd\n",
    "import numpy as np \n",
    "import matplotlib.pyplot as plt\n",
    "import seaborn as sns\n",
    "from sklearn.model_selection import train_test_split\n",
    "from sklearn.linear_model import LinearRegression\n",
    "from sklearn.preprocessing import StandardScaler\n",
    "from sklearn.metrics import r2_score\n",
    "from sklearn.metrics import accuracy_score\n",
    "from sklearn.preprocessing import OneHotEncoder\n",
    "from sklearn.preprocessing import OrdinalEncoder\n",
    "from sklearn.compose import make_column_transformer\n",
    "from sklearn.pipeline import make_pipeline\n",
    "import pickle"
   ]
  },
  {
   "cell_type": "code",
   "execution_count": 2,
   "id": "9f4e28aa",
   "metadata": {},
   "outputs": [],
   "source": [
    "df=pd.read_csv('MagicBricks.csv')"
   ]
  },
  {
   "cell_type": "code",
   "execution_count": 3,
   "id": "2b807056",
   "metadata": {},
   "outputs": [
    {
     "data": {
      "text/plain": [
       "Index(['Area', 'BHK', 'Bathroom', 'Furnishing', 'Locality', 'Parking', 'Price',\n",
       "       'Status', 'Transaction', 'Type', 'Per_Sqft'],\n",
       "      dtype='object')"
      ]
     },
     "execution_count": 3,
     "metadata": {},
     "output_type": "execute_result"
    }
   ],
   "source": [
    "df.columns"
   ]
  },
  {
   "cell_type": "markdown",
   "id": "b746195b",
   "metadata": {},
   "source": [
    "# Data cleaning "
   ]
  },
  {
   "cell_type": "code",
   "execution_count": 5,
   "id": "4ac29d3f",
   "metadata": {},
   "outputs": [],
   "source": [
    "df_cat=df.select_dtypes(include='object')\n",
    "df_num=df.select_dtypes(include=np.number)"
   ]
  },
  {
   "cell_type": "code",
   "execution_count": 8,
   "id": "882ba99e",
   "metadata": {
    "scrolled": true
   },
   "outputs": [
    {
     "data": {
      "text/plain": [
       "Furnishing     5\n",
       "Locality       0\n",
       "Status         0\n",
       "Transaction    0\n",
       "Type           5\n",
       "dtype: int64"
      ]
     },
     "execution_count": 8,
     "metadata": {},
     "output_type": "execute_result"
    }
   ],
   "source": [
    "df_cat.isnull().sum()"
   ]
  },
  {
   "cell_type": "code",
   "execution_count": 10,
   "id": "cdf63abd",
   "metadata": {},
   "outputs": [],
   "source": [
    "\n",
    "def impute_nulls_with_mode(data):\n",
    "    for col in data.columns:\n",
    "        data[col].fillna(data[col].mode()[0], inplace=True)\n",
    "    return data"
   ]
  },
  {
   "cell_type": "code",
   "execution_count": 12,
   "id": "11456240",
   "metadata": {},
   "outputs": [],
   "source": [
    "df_cat_main=impute_nulls_with_mode(df_cat)"
   ]
  },
  {
   "cell_type": "code",
   "execution_count": 13,
   "id": "9316a86d",
   "metadata": {},
   "outputs": [
    {
     "data": {
      "text/plain": [
       "Furnishing     0\n",
       "Locality       0\n",
       "Status         0\n",
       "Transaction    0\n",
       "Type           0\n",
       "dtype: int64"
      ]
     },
     "execution_count": 13,
     "metadata": {},
     "output_type": "execute_result"
    }
   ],
   "source": [
    "df_cat_main.isnull().sum()"
   ]
  },
  {
   "cell_type": "code",
   "execution_count": 18,
   "id": "c27dd025",
   "metadata": {},
   "outputs": [],
   "source": [
    "def impute_median(data): \n",
    "    for col in data.columns:\n",
    "        data[col].fillna(data[col].median(), inplace = True)\n",
    "    return data"
   ]
  },
  {
   "cell_type": "code",
   "execution_count": 20,
   "id": "8a98c78c",
   "metadata": {},
   "outputs": [],
   "source": [
    "df_num_main=impute_median(df_num)"
   ]
  },
  {
   "cell_type": "code",
   "execution_count": 22,
   "id": "1b32b7ad",
   "metadata": {},
   "outputs": [
    {
     "data": {
      "text/plain": [
       "Area        0\n",
       "BHK         0\n",
       "Bathroom    0\n",
       "Parking     0\n",
       "Price       0\n",
       "Per_Sqft    0\n",
       "dtype: int64"
      ]
     },
     "execution_count": 22,
     "metadata": {},
     "output_type": "execute_result"
    }
   ],
   "source": [
    "df_num_main.isnull().sum()"
   ]
  },
  {
   "cell_type": "code",
   "execution_count": 23,
   "id": "bb453f9e",
   "metadata": {},
   "outputs": [],
   "source": [
    "df_main=pd.concat([df_num_main,df_cat_main],axis=1).reset_index()"
   ]
  },
  {
   "cell_type": "code",
   "execution_count": 25,
   "id": "a230f61a",
   "metadata": {},
   "outputs": [
    {
     "data": {
      "text/plain": [
       "index          0\n",
       "Area           0\n",
       "BHK            0\n",
       "Bathroom       0\n",
       "Parking        0\n",
       "Price          0\n",
       "Per_Sqft       0\n",
       "Furnishing     0\n",
       "Locality       0\n",
       "Status         0\n",
       "Transaction    0\n",
       "Type           0\n",
       "dtype: int64"
      ]
     },
     "execution_count": 25,
     "metadata": {},
     "output_type": "execute_result"
    }
   ],
   "source": [
    "df_main.isnull().sum()"
   ]
  },
  {
   "cell_type": "code",
   "execution_count": 27,
   "id": "e6b880a1",
   "metadata": {},
   "outputs": [],
   "source": [
    "## Checking for Duplicates \n",
    "\n",
    "def check_duplicate_values(dataset): \n",
    "  seen_values = set() \n",
    "  for value in dataset: \n",
    "    if value in seen_values: \n",
    "      return True\n",
    "    else: \n",
    "      seen_values.add(value) \n",
    "  return False"
   ]
  },
  {
   "cell_type": "code",
   "execution_count": 28,
   "id": "4a2b7153",
   "metadata": {},
   "outputs": [
    {
     "data": {
      "text/plain": [
       "False"
      ]
     },
     "execution_count": 28,
     "metadata": {},
     "output_type": "execute_result"
    }
   ],
   "source": [
    "check_duplicate_values(df_main)"
   ]
  },
  {
   "cell_type": "code",
   "execution_count": 29,
   "id": "5808a036",
   "metadata": {},
   "outputs": [],
   "source": [
    "## No duplicate values found "
   ]
  },
  {
   "cell_type": "markdown",
   "id": "c4667b64",
   "metadata": {},
   "source": [
    "# Performing EDA on the dataset "
   ]
  },
  {
   "cell_type": "code",
   "execution_count": 146,
   "id": "401f954b",
   "metadata": {},
   "outputs": [
    {
     "data": {
      "text/html": [
       "<div>\n",
       "<style scoped>\n",
       "    .dataframe tbody tr th:only-of-type {\n",
       "        vertical-align: middle;\n",
       "    }\n",
       "\n",
       "    .dataframe tbody tr th {\n",
       "        vertical-align: top;\n",
       "    }\n",
       "\n",
       "    .dataframe thead th {\n",
       "        text-align: right;\n",
       "    }\n",
       "</style>\n",
       "<table border=\"1\" class=\"dataframe\">\n",
       "  <thead>\n",
       "    <tr style=\"text-align: right;\">\n",
       "      <th></th>\n",
       "      <th>Area</th>\n",
       "      <th>BHK</th>\n",
       "      <th>Bathroom</th>\n",
       "      <th>Furnishing</th>\n",
       "      <th>Locality</th>\n",
       "      <th>Parking</th>\n",
       "      <th>Price</th>\n",
       "      <th>Status</th>\n",
       "      <th>Transaction</th>\n",
       "      <th>Type</th>\n",
       "      <th>Per_Sqft</th>\n",
       "    </tr>\n",
       "  </thead>\n",
       "  <tbody>\n",
       "    <tr>\n",
       "      <th>0</th>\n",
       "      <td>800.0</td>\n",
       "      <td>3</td>\n",
       "      <td>2.0</td>\n",
       "      <td>Semi-Furnished</td>\n",
       "      <td>Rohini Sector 25</td>\n",
       "      <td>1.0</td>\n",
       "      <td>6500000</td>\n",
       "      <td>Ready_to_move</td>\n",
       "      <td>New_Property</td>\n",
       "      <td>Builder_Floor</td>\n",
       "      <td>11291.5</td>\n",
       "    </tr>\n",
       "    <tr>\n",
       "      <th>1</th>\n",
       "      <td>750.0</td>\n",
       "      <td>2</td>\n",
       "      <td>2.0</td>\n",
       "      <td>Semi-Furnished</td>\n",
       "      <td>J R Designers Floors, Rohini Sector 24</td>\n",
       "      <td>1.0</td>\n",
       "      <td>5000000</td>\n",
       "      <td>Ready_to_move</td>\n",
       "      <td>New_Property</td>\n",
       "      <td>Apartment</td>\n",
       "      <td>6667.0</td>\n",
       "    </tr>\n",
       "    <tr>\n",
       "      <th>2</th>\n",
       "      <td>950.0</td>\n",
       "      <td>2</td>\n",
       "      <td>2.0</td>\n",
       "      <td>Furnished</td>\n",
       "      <td>Citizen Apartment, Rohini Sector 13</td>\n",
       "      <td>1.0</td>\n",
       "      <td>15500000</td>\n",
       "      <td>Ready_to_move</td>\n",
       "      <td>Resale</td>\n",
       "      <td>Apartment</td>\n",
       "      <td>6667.0</td>\n",
       "    </tr>\n",
       "    <tr>\n",
       "      <th>3</th>\n",
       "      <td>600.0</td>\n",
       "      <td>2</td>\n",
       "      <td>2.0</td>\n",
       "      <td>Semi-Furnished</td>\n",
       "      <td>Rohini Sector 24</td>\n",
       "      <td>1.0</td>\n",
       "      <td>4200000</td>\n",
       "      <td>Ready_to_move</td>\n",
       "      <td>Resale</td>\n",
       "      <td>Builder_Floor</td>\n",
       "      <td>6667.0</td>\n",
       "    </tr>\n",
       "    <tr>\n",
       "      <th>4</th>\n",
       "      <td>650.0</td>\n",
       "      <td>2</td>\n",
       "      <td>2.0</td>\n",
       "      <td>Semi-Furnished</td>\n",
       "      <td>Rohini Sector 24 carpet area 650 sqft status R...</td>\n",
       "      <td>1.0</td>\n",
       "      <td>6200000</td>\n",
       "      <td>Ready_to_move</td>\n",
       "      <td>New_Property</td>\n",
       "      <td>Builder_Floor</td>\n",
       "      <td>6667.0</td>\n",
       "    </tr>\n",
       "    <tr>\n",
       "      <th>...</th>\n",
       "      <td>...</td>\n",
       "      <td>...</td>\n",
       "      <td>...</td>\n",
       "      <td>...</td>\n",
       "      <td>...</td>\n",
       "      <td>...</td>\n",
       "      <td>...</td>\n",
       "      <td>...</td>\n",
       "      <td>...</td>\n",
       "      <td>...</td>\n",
       "      <td>...</td>\n",
       "    </tr>\n",
       "    <tr>\n",
       "      <th>1254</th>\n",
       "      <td>4118.0</td>\n",
       "      <td>4</td>\n",
       "      <td>5.0</td>\n",
       "      <td>Unfurnished</td>\n",
       "      <td>Chittaranjan Park</td>\n",
       "      <td>3.0</td>\n",
       "      <td>55000000</td>\n",
       "      <td>Ready_to_move</td>\n",
       "      <td>New_Property</td>\n",
       "      <td>Builder_Floor</td>\n",
       "      <td>12916.0</td>\n",
       "    </tr>\n",
       "    <tr>\n",
       "      <th>1255</th>\n",
       "      <td>1050.0</td>\n",
       "      <td>3</td>\n",
       "      <td>2.0</td>\n",
       "      <td>Semi-Furnished</td>\n",
       "      <td>Chittaranjan Park</td>\n",
       "      <td>3.0</td>\n",
       "      <td>12500000</td>\n",
       "      <td>Ready_to_move</td>\n",
       "      <td>Resale</td>\n",
       "      <td>Builder_Floor</td>\n",
       "      <td>12916.0</td>\n",
       "    </tr>\n",
       "    <tr>\n",
       "      <th>1256</th>\n",
       "      <td>875.0</td>\n",
       "      <td>3</td>\n",
       "      <td>3.0</td>\n",
       "      <td>Semi-Furnished</td>\n",
       "      <td>Chittaranjan Park</td>\n",
       "      <td>3.0</td>\n",
       "      <td>17500000</td>\n",
       "      <td>Ready_to_move</td>\n",
       "      <td>New_Property</td>\n",
       "      <td>Builder_Floor</td>\n",
       "      <td>12916.0</td>\n",
       "    </tr>\n",
       "    <tr>\n",
       "      <th>1257</th>\n",
       "      <td>990.0</td>\n",
       "      <td>2</td>\n",
       "      <td>2.0</td>\n",
       "      <td>Unfurnished</td>\n",
       "      <td>Chittaranjan Park Block A</td>\n",
       "      <td>1.0</td>\n",
       "      <td>11500000</td>\n",
       "      <td>Ready_to_move</td>\n",
       "      <td>Resale</td>\n",
       "      <td>Builder_Floor</td>\n",
       "      <td>12916.0</td>\n",
       "    </tr>\n",
       "    <tr>\n",
       "      <th>1258</th>\n",
       "      <td>11050.0</td>\n",
       "      <td>3</td>\n",
       "      <td>3.0</td>\n",
       "      <td>Unfurnished</td>\n",
       "      <td>Chittaranjan Park</td>\n",
       "      <td>1.0</td>\n",
       "      <td>18500000</td>\n",
       "      <td>Ready_to_move</td>\n",
       "      <td>New_Property</td>\n",
       "      <td>Builder_Floor</td>\n",
       "      <td>12916.0</td>\n",
       "    </tr>\n",
       "  </tbody>\n",
       "</table>\n",
       "<p>1259 rows × 11 columns</p>\n",
       "</div>"
      ],
      "text/plain": [
       "         Area  BHK  Bathroom      Furnishing  \\\n",
       "0       800.0    3       2.0  Semi-Furnished   \n",
       "1       750.0    2       2.0  Semi-Furnished   \n",
       "2       950.0    2       2.0       Furnished   \n",
       "3       600.0    2       2.0  Semi-Furnished   \n",
       "4       650.0    2       2.0  Semi-Furnished   \n",
       "...       ...  ...       ...             ...   \n",
       "1254   4118.0    4       5.0     Unfurnished   \n",
       "1255   1050.0    3       2.0  Semi-Furnished   \n",
       "1256    875.0    3       3.0  Semi-Furnished   \n",
       "1257    990.0    2       2.0     Unfurnished   \n",
       "1258  11050.0    3       3.0     Unfurnished   \n",
       "\n",
       "                                               Locality  Parking     Price  \\\n",
       "0                                      Rohini Sector 25      1.0   6500000   \n",
       "1                J R Designers Floors, Rohini Sector 24      1.0   5000000   \n",
       "2                   Citizen Apartment, Rohini Sector 13      1.0  15500000   \n",
       "3                                      Rohini Sector 24      1.0   4200000   \n",
       "4     Rohini Sector 24 carpet area 650 sqft status R...      1.0   6200000   \n",
       "...                                                 ...      ...       ...   \n",
       "1254                                  Chittaranjan Park      3.0  55000000   \n",
       "1255                                  Chittaranjan Park      3.0  12500000   \n",
       "1256                                  Chittaranjan Park      3.0  17500000   \n",
       "1257                          Chittaranjan Park Block A      1.0  11500000   \n",
       "1258                                  Chittaranjan Park      1.0  18500000   \n",
       "\n",
       "             Status   Transaction           Type  Per_Sqft  \n",
       "0     Ready_to_move  New_Property  Builder_Floor   11291.5  \n",
       "1     Ready_to_move  New_Property      Apartment    6667.0  \n",
       "2     Ready_to_move        Resale      Apartment    6667.0  \n",
       "3     Ready_to_move        Resale  Builder_Floor    6667.0  \n",
       "4     Ready_to_move  New_Property  Builder_Floor    6667.0  \n",
       "...             ...           ...            ...       ...  \n",
       "1254  Ready_to_move  New_Property  Builder_Floor   12916.0  \n",
       "1255  Ready_to_move        Resale  Builder_Floor   12916.0  \n",
       "1256  Ready_to_move  New_Property  Builder_Floor   12916.0  \n",
       "1257  Ready_to_move        Resale  Builder_Floor   12916.0  \n",
       "1258  Ready_to_move  New_Property  Builder_Floor   12916.0  \n",
       "\n",
       "[1259 rows x 11 columns]"
      ]
     },
     "execution_count": 146,
     "metadata": {},
     "output_type": "execute_result"
    }
   ],
   "source": [
    "df"
   ]
  },
  {
   "cell_type": "code",
   "execution_count": 138,
   "id": "c4ccc79a",
   "metadata": {},
   "outputs": [
    {
     "name": "stdout",
     "output_type": "stream",
     "text": [
      "Semi-Furnished    713\n",
      "Unfurnished       363\n",
      "Furnished         183\n",
      "Name: Furnishing, dtype: int64\n"
     ]
    },
    {
     "name": "stderr",
     "output_type": "stream",
     "text": [
      "D:\\ANAconda\\lib\\site-packages\\seaborn\\_decorators.py:36: FutureWarning: Pass the following variable as a keyword arg: x. From version 0.12, the only valid positional argument will be `data`, and passing other arguments without an explicit keyword will result in an error or misinterpretation.\n",
      "  warnings.warn(\n"
     ]
    },
    {
     "data": {
      "image/png": "[encoded data removed]",
      "text/plain": [
       "<Figure size 576x576 with 1 Axes>"
      ]
     },
     "metadata": {
      "needs_background": "light"
     },
     "output_type": "display_data"
    }
   ],
   "source": [
    "import seaborn as sns \n",
    "plt.figure(figsize=(8,8))\n",
    "sns.countplot(df['Furnishing'])\n",
    "print(df['Furnishing'].value_counts())"
   ]
  },
  {
   "cell_type": "code",
   "execution_count": 139,
   "id": "5b3bbc94",
   "metadata": {},
   "outputs": [
    {
     "name": "stdout",
     "output_type": "stream",
     "text": [
      "Ready_to_move    1184\n",
      "Almost_ready       75\n",
      "Name: Status, dtype: int64\n"
     ]
    },
    {
     "name": "stderr",
     "output_type": "stream",
     "text": [
      "D:\\ANAconda\\lib\\site-packages\\seaborn\\_decorators.py:36: FutureWarning: Pass the following variable as a keyword arg: x. From version 0.12, the only valid positional argument will be `data`, and passing other arguments without an explicit keyword will result in an error or misinterpretation.\n",
      "  warnings.warn(\n"
     ]
    },
    {
     "data": {
      "image/png": "[encoded data removed]",
      "text/plain": [
       "<Figure size 576x576 with 1 Axes>"
      ]
     },
     "metadata": {
      "needs_background": "light"
     },
     "output_type": "display_data"
    }
   ],
   "source": [
    "plt.figure(figsize=(8,8))\n",
    "sns.countplot(df['Status'])\n",
    "print(df['Status'].value_counts())"
   ]
  },
  {
   "cell_type": "code",
   "execution_count": 145,
   "id": "3e3a61a4",
   "metadata": {},
   "outputs": [
    {
     "name": "stdout",
     "output_type": "stream",
     "text": [
      "3     541\n",
      "2     367\n",
      "4     220\n",
      "1      96\n",
      "5      27\n",
      "6       6\n",
      "7       1\n",
      "10      1\n",
      "Name: BHK, dtype: int64\n"
     ]
    },
    {
     "name": "stderr",
     "output_type": "stream",
     "text": [
      "D:\\ANAconda\\lib\\site-packages\\seaborn\\_decorators.py:36: FutureWarning: Pass the following variable as a keyword arg: x. From version 0.12, the only valid positional argument will be `data`, and passing other arguments without an explicit keyword will result in an error or misinterpretation.\n",
      "  warnings.warn(\n"
     ]
    },
    {
     "data": {
      "image/png": "[encoded data removed]",
      "text/plain": [
       "<Figure size 720x576 with 1 Axes>"
      ]
     },
     "metadata": {
      "needs_background": "light"
     },
     "output_type": "display_data"
    }
   ],
   "source": [
    "plt.figure(figsize=(10,8))\n",
    "sns.countplot(df['BHK'])\n",
    "print(df['BHK'].value_counts())"
   ]
  },
  {
   "cell_type": "code",
   "execution_count": 148,
   "id": "20a64b11",
   "metadata": {},
   "outputs": [
    {
     "name": "stdout",
     "output_type": "stream",
     "text": [
      "1.0      829\n",
      "2.0      341\n",
      "3.0       54\n",
      "4.0       16\n",
      "5.0        7\n",
      "39.0       7\n",
      "114.0      3\n",
      "9.0        1\n",
      "10.0       1\n",
      "Name: Parking, dtype: int64\n"
     ]
    },
    {
     "name": "stderr",
     "output_type": "stream",
     "text": [
      "D:\\ANAconda\\lib\\site-packages\\seaborn\\_decorators.py:36: FutureWarning: Pass the following variable as a keyword arg: x. From version 0.12, the only valid positional argument will be `data`, and passing other arguments without an explicit keyword will result in an error or misinterpretation.\n",
      "  warnings.warn(\n"
     ]
    },
    {
     "data": {
      "image/png": "[encoded data removed]",
      "text/plain": [
       "<Figure size 576x576 with 1 Axes>"
      ]
     },
     "metadata": {
      "needs_background": "light"
     },
     "output_type": "display_data"
    }
   ],
   "source": [
    "plt.figure(figsize=(8,8))\n",
    "sns.countplot(df['Parking'])\n",
    "print(df['Parking'].value_counts())"
   ]
  },
  {
   "cell_type": "code",
   "execution_count": 151,
   "id": "3c9b5c8d",
   "metadata": {},
   "outputs": [
    {
     "name": "stdout",
     "output_type": "stream",
     "text": [
      "Builder_Floor    666\n",
      "Apartment        593\n",
      "Name: Type, dtype: int64\n"
     ]
    },
    {
     "name": "stderr",
     "output_type": "stream",
     "text": [
      "D:\\ANAconda\\lib\\site-packages\\seaborn\\_decorators.py:36: FutureWarning: Pass the following variable as a keyword arg: x. From version 0.12, the only valid positional argument will be `data`, and passing other arguments without an explicit keyword will result in an error or misinterpretation.\n",
      "  warnings.warn(\n"
     ]
    },
    {
     "data": {
      "image/png": "[encoded data removed]",
      "text/plain": [
       "<Figure size 720x576 with 1 Axes>"
      ]
     },
     "metadata": {
      "needs_background": "light"
     },
     "output_type": "display_data"
    }
   ],
   "source": [
    "plt.figure(figsize=(10,8))\n",
    "sns.countplot(df['Type'])\n",
    "print(df['Type'].value_counts())"
   ]
  },
  {
   "cell_type": "code",
   "execution_count": 232,
   "id": "e62564e1",
   "metadata": {},
   "outputs": [],
   "source": [
    "def calculate_mean_median_mode(data):\n",
    "    # Calculate mean\n",
    "    mean = sum(data) / len(data)\n",
    "\n",
    "    # Calculate median\n",
    "    sorted_data = sorted(data)\n",
    "    midpoint = len(sorted_data) // 2\n",
    "    if len(sorted_data) % 2 == 0:\n",
    "        median = (sorted_data[midpoint] + sorted_data[midpoint - 1]) / 2\n",
    "    else:\n",
    "        median = sorted_data[midpoint]\n",
    "\n",
    "    # Calculate mode\n",
    "    mode_dict = {}\n",
    "    for num in data:\n",
    "        if num in mode_dict:\n",
    "            mode_dict[num] += 1\n",
    "        else:\n",
    "            mode_dict[num] = 1\n",
    "    max_freq = max(mode_dict.values())\n",
    "    mode = [num for num, freq in mode_dict.items() if freq == max_freq]\n",
    "\n",
    "    return mean, median, mode\n",
    "\n"
   ]
  },
  {
   "cell_type": "code",
   "execution_count": 236,
   "id": "b26bbfcc",
   "metadata": {},
   "outputs": [
    {
     "name": "stdout",
     "output_type": "stream",
     "text": [
      "Mean_Price = 21306703.733121525, Median_Price = 14200000, Mode_Price = [15000000]\n"
     ]
    },
    {
     "name": "stderr",
     "output_type": "stream",
     "text": [
      "D:\\ANAconda\\lib\\site-packages\\seaborn\\_decorators.py:36: FutureWarning: Pass the following variable as a keyword arg: x. From version 0.12, the only valid positional argument will be `data`, and passing other arguments without an explicit keyword will result in an error or misinterpretation.\n",
      "  warnings.warn(\n"
     ]
    },
    {
     "data": {
      "image/png": "[encoded data removed]",
      "text/plain": [
       "<Figure size 1440x720 with 1 Axes>"
      ]
     },
     "metadata": {
      "needs_background": "light"
     },
     "output_type": "display_data"
    }
   ],
   "source": [
    "fig, ax = plt.subplots(figsize=(20, 10))\n",
    "sns.boxplot(df['Price'],ax=ax)\n",
    "\n",
    "\n",
    "mean, median, mode = calculate_mean_median_mode(df['Price'])\n",
    "print(f\"Mean_Price = {mean}, Median_Price = {median}, Mode_Price = {mode}\")"
   ]
  },
  {
   "cell_type": "code",
   "execution_count": 237,
   "id": "1e3b7a60",
   "metadata": {},
   "outputs": [
    {
     "name": "stdout",
     "output_type": "stream",
     "text": [
      "Mean_Area = 1466.4527241461476, Median_Area = 1200.0, Mode_Area = [900.0]\n"
     ]
    },
    {
     "name": "stderr",
     "output_type": "stream",
     "text": [
      "D:\\ANAconda\\lib\\site-packages\\seaborn\\_decorators.py:36: FutureWarning: Pass the following variable as a keyword arg: x. From version 0.12, the only valid positional argument will be `data`, and passing other arguments without an explicit keyword will result in an error or misinterpretation.\n",
      "  warnings.warn(\n"
     ]
    },
    {
     "data": {
      "image/png": "[encoded data removed]",
      "text/plain": [
       "<Figure size 1440x720 with 1 Axes>"
      ]
     },
     "metadata": {
      "needs_background": "light"
     },
     "output_type": "display_data"
    }
   ],
   "source": [
    "fig, ax = plt.subplots(figsize=(20, 10))\n",
    "sns.boxplot(df['Area'],ax=ax)\n",
    "mean, median, mode = calculate_mean_median_mode(df['Area'])\n",
    "print(f\"Mean_Area = {mean}, Median_Area = {median}, Mode_Area = {mode}\")"
   ]
  },
  {
   "cell_type": "code",
   "execution_count": 260,
   "id": "c0b08c10",
   "metadata": {},
   "outputs": [
    {
     "name": "stdout",
     "output_type": "stream",
     "text": [
      "Mean_Per_Sqft = 14848.141779189833, Median_Per_Sqft = 11291.5, Mode_Per_Sqft = [11291.5]\n"
     ]
    },
    {
     "name": "stderr",
     "output_type": "stream",
     "text": [
      "D:\\ANAconda\\lib\\site-packages\\seaborn\\_decorators.py:36: FutureWarning: Pass the following variable as a keyword arg: x. From version 0.12, the only valid positional argument will be `data`, and passing other arguments without an explicit keyword will result in an error or misinterpretation.\n",
      "  warnings.warn(\n"
     ]
    },
    {
     "data": {
      "image/png": "[encoded data removed]",
      "text/plain": [
       "<Figure size 1440x720 with 1 Axes>"
      ]
     },
     "metadata": {
      "needs_background": "light"
     },
     "output_type": "display_data"
    }
   ],
   "source": [
    "fig, ax = plt.subplots(figsize=(20, 10))\n",
    "sns.boxplot(df['Per_Sqft'],ax=ax)\n",
    "mean, median, mode = calculate_mean_median_mode(df['Per_Sqft'])\n",
    "print(f\"Mean_Per_Sqft = {mean}, Median_Per_Sqft = {median}, Mode_Per_Sqft = {mode}\")"
   ]
  },
  {
   "cell_type": "code",
   "execution_count": 373,
   "id": "9c89e17b",
   "metadata": {},
   "outputs": [
    {
     "name": "stderr",
     "output_type": "stream",
     "text": [
      "D:\\ANAconda\\lib\\site-packages\\seaborn\\distributions.py:2619: FutureWarning: `distplot` is a deprecated function and will be removed in a future version. Please adapt your code to use either `displot` (a figure-level function with similar flexibility) or `histplot` (an axes-level function for histograms).\n",
      "  warnings.warn(msg, FutureWarning)\n"
     ]
    },
    {
     "data": {
      "text/plain": [
       "<AxesSubplot:ylabel='Density'>"
      ]
     },
     "execution_count": 373,
     "metadata": {},
     "output_type": "execute_result"
    },
    {
     "data": {
      "image/png": "[encoded data removed]",
      "text/plain": [
       "<Figure size 864x576 with 1 Axes>"
      ]
     },
     "metadata": {
      "needs_background": "light"
     },
     "output_type": "display_data"
    }
   ],
   "source": [
    "plt.figure(figsize=(12,8))\n",
    "sns.distplot(x=df[\"Price\"],color=\"blue\")"
   ]
  },
  {
   "cell_type": "markdown",
   "id": "4452e205",
   "metadata": {},
   "source": [
    "# Clearly price seems to be skewed and resembles a right skewed distribtion\n"
   ]
  },
  {
   "cell_type": "code",
   "execution_count": 410,
   "id": "5562c9d8",
   "metadata": {},
   "outputs": [
    {
     "name": "stderr",
     "output_type": "stream",
     "text": [
      "D:\\ANAconda\\lib\\site-packages\\seaborn\\distributions.py:2619: FutureWarning: `distplot` is a deprecated function and will be removed in a future version. Please adapt your code to use either `displot` (a figure-level function with similar flexibility) or `histplot` (an axes-level function for histograms).\n",
      "  warnings.warn(msg, FutureWarning)\n"
     ]
    },
    {
     "data": {
      "text/plain": [
       "<AxesSubplot:ylabel='Density'>"
      ]
     },
     "execution_count": 410,
     "metadata": {},
     "output_type": "execute_result"
    },
    {
     "data": {
      "image/png": "[encoded data removed]",
      "text/plain": [
       "<Figure size 864x576 with 1 Axes>"
      ]
     },
     "metadata": {
      "needs_background": "light"
     },
     "output_type": "display_data"
    }
   ],
   "source": [
    "plt.figure(figsize=(12,8))\n",
    "sns.distplot(x=df[\"Area\"],color=\"blue\")"
   ]
  },
  {
   "cell_type": "markdown",
   "id": "35eb1b04",
   "metadata": {},
   "source": [
    "# Area also seems to be skewed and resembles a right skewed distribtution "
   ]
  },
  {
   "cell_type": "code",
   "execution_count": 417,
   "id": "62f4a77f",
   "metadata": {},
   "outputs": [
    {
     "name": "stderr",
     "output_type": "stream",
     "text": [
      "D:\\ANAconda\\lib\\site-packages\\seaborn\\distributions.py:2619: FutureWarning: `distplot` is a deprecated function and will be removed in a future version. Please adapt your code to use either `displot` (a figure-level function with similar flexibility) or `histplot` (an axes-level function for histograms).\n",
      "  warnings.warn(msg, FutureWarning)\n"
     ]
    },
    {
     "data": {
      "text/plain": [
       "<AxesSubplot:ylabel='Density'>"
      ]
     },
     "execution_count": 417,
     "metadata": {},
     "output_type": "execute_result"
    },
    {
     "data": {
      "image/png": "[encoded data removed]",
      "text/plain": [
       "<Figure size 864x576 with 1 Axes>"
      ]
     },
     "metadata": {
      "needs_background": "light"
     },
     "output_type": "display_data"
    }
   ],
   "source": [
    "plt.figure(figsize=(12,8))\n",
    "sns.distplot(x=df[\"Per_Sqft\"],color=\"blue\")"
   ]
  },
  {
   "cell_type": "markdown",
   "id": "4da88c4f",
   "metadata": {},
   "source": [
    "# Per Sqft also seems to be skewed and resembles a right skewed distribtution "
   ]
  },
  {
   "cell_type": "markdown",
   "id": "5b43f599",
   "metadata": {},
   "source": [
    "## Performing column Transformation"
   ]
  },
  {
   "cell_type": "code",
   "execution_count": 379,
   "id": "280a8b55",
   "metadata": {},
   "outputs": [],
   "source": [
    "df['Price']=np.log(df['Price'])"
   ]
  },
  {
   "cell_type": "code",
   "execution_count": null,
   "id": "c2717cd0",
   "metadata": {},
   "outputs": [],
   "source": [
    "df['Area']=np.log(df['Area'])"
   ]
  },
  {
   "cell_type": "code",
   "execution_count": 418,
   "id": "4df2226d",
   "metadata": {},
   "outputs": [],
   "source": [
    "df['Per_Sqft']=np.log(df['Per_Sqft'])"
   ]
  },
  {
   "cell_type": "code",
   "execution_count": 413,
   "id": "775a8ffb",
   "metadata": {},
   "outputs": [
    {
     "name": "stderr",
     "output_type": "stream",
     "text": [
      "D:\\ANAconda\\lib\\site-packages\\seaborn\\distributions.py:2619: FutureWarning: `distplot` is a deprecated function and will be removed in a future version. Please adapt your code to use either `displot` (a figure-level function with similar flexibility) or `histplot` (an axes-level function for histograms).\n",
      "  warnings.warn(msg, FutureWarning)\n"
     ]
    },
    {
     "data": {
      "text/plain": [
       "Text(0.5, 0, 'Price')"
      ]
     },
     "execution_count": 413,
     "metadata": {},
     "output_type": "execute_result"
    },
    {
     "data": {
      "image/png": "[encoded data removed]",
      "text/plain": [
       "<Figure size 864x576 with 1 Axes>"
      ]
     },
     "metadata": {
      "needs_background": "light"
     },
     "output_type": "display_data"
    }
   ],
   "source": [
    "plt.figure(figsize=(12,8))\n",
    "sns.distplot(x=df['Price'],color=\"blue\")\n",
    "plt.xlabel(\"Price\")"
   ]
  },
  {
   "cell_type": "code",
   "execution_count": 414,
   "id": "2688527c",
   "metadata": {},
   "outputs": [
    {
     "name": "stderr",
     "output_type": "stream",
     "text": [
      "D:\\ANAconda\\lib\\site-packages\\seaborn\\distributions.py:2619: FutureWarning: `distplot` is a deprecated function and will be removed in a future version. Please adapt your code to use either `displot` (a figure-level function with similar flexibility) or `histplot` (an axes-level function for histograms).\n",
      "  warnings.warn(msg, FutureWarning)\n"
     ]
    },
    {
     "data": {
      "text/plain": [
       "Text(0.5, 0, 'Area')"
      ]
     },
     "execution_count": 414,
     "metadata": {},
     "output_type": "execute_result"
    },
    {
     "data": {
      "image/png": "[encoded data removed]",
      "text/plain": [
       "<Figure size 864x576 with 1 Axes>"
      ]
     },
     "metadata": {
      "needs_background": "light"
     },
     "output_type": "display_data"
    }
   ],
   "source": [
    "plt.figure(figsize=(12,8))\n",
    "sns.distplot(x=df['Area'],color=\"blue\")\n",
    "plt.xlabel('Area')"
   ]
  },
  {
   "cell_type": "code",
   "execution_count": 419,
   "id": "f5dc7387",
   "metadata": {},
   "outputs": [
    {
     "name": "stderr",
     "output_type": "stream",
     "text": [
      "D:\\ANAconda\\lib\\site-packages\\seaborn\\distributions.py:2619: FutureWarning: `distplot` is a deprecated function and will be removed in a future version. Please adapt your code to use either `displot` (a figure-level function with similar flexibility) or `histplot` (an axes-level function for histograms).\n",
      "  warnings.warn(msg, FutureWarning)\n"
     ]
    },
    {
     "data": {
      "text/plain": [
       "Text(0.5, 0, 'Price')"
      ]
     },
     "execution_count": 419,
     "metadata": {},
     "output_type": "execute_result"
    },
    {
     "data": {
      "image/png": "[encoded data removed]",
      "text/plain": [
       "<Figure size 864x576 with 1 Axes>"
      ]
     },
     "metadata": {
      "needs_background": "light"
     },
     "output_type": "display_data"
    }
   ],
   "source": [
    "plt.figure(figsize=(12,8))\n",
    "sns.distplot(x=df['Per_Sqft'],color=\"blue\")\n",
    "plt.xlabel(\"Price\")"
   ]
  },
  {
   "cell_type": "markdown",
   "id": "0db2c475",
   "metadata": {},
   "source": [
    "# Bivariate Analysis"
   ]
  },
  {
   "cell_type": "code",
   "execution_count": 147,
   "id": "e414766f",
   "metadata": {},
   "outputs": [
    {
     "data": {
      "image/png": "[encoded data removed]",
      "text/plain": [
       "<Figure size 720x576 with 1 Axes>"
      ]
     },
     "metadata": {
      "needs_background": "light"
     },
     "output_type": "display_data"
    }
   ],
   "source": [
    "plt.figure(figsize=(10,8))\n",
    "plt.scatter('Area', 'Price',data=df)\n",
    "plt.title('Area vs Price Relation')\n",
    "plt.xlabel(\"Price\")\n",
    "plt.ylabel(\"Area\")\n",
    "plt.show()"
   ]
  },
  {
   "cell_type": "code",
   "execution_count": 162,
   "id": "dad182a8",
   "metadata": {},
   "outputs": [
    {
     "data": {
      "image/png": "[encoded data removed]",
      "text/plain": [
       "<Figure size 720x576 with 1 Axes>"
      ]
     },
     "metadata": {
      "needs_background": "light"
     },
     "output_type": "display_data"
    }
   ],
   "source": [
    "x1=df.Per_Sqft.astype(int)\n",
    "plt.figure(figsize=(10,8))\n",
    "plt.scatter(x1, 'Price',data=df)\n",
    "plt.title('Per_sqft vs Price Relation')\n",
    "plt.xlabel(\"Price\")\n",
    "plt.ylabel(\"Per_sqft\")\n",
    "plt.show()"
   ]
  },
  {
   "cell_type": "code",
   "execution_count": 247,
   "id": "d104c047",
   "metadata": {},
   "outputs": [
    {
     "data": {
      "text/html": [
       "<div>\n",
       "<style scoped>\n",
       "    .dataframe tbody tr th:only-of-type {\n",
       "        vertical-align: middle;\n",
       "    }\n",
       "\n",
       "    .dataframe tbody tr th {\n",
       "        vertical-align: top;\n",
       "    }\n",
       "\n",
       "    .dataframe thead th {\n",
       "        text-align: right;\n",
       "    }\n",
       "</style>\n",
       "<table border=\"1\" class=\"dataframe\">\n",
       "  <thead>\n",
       "    <tr style=\"text-align: right;\">\n",
       "      <th></th>\n",
       "      <th>Area</th>\n",
       "      <th>BHK</th>\n",
       "      <th>Bathroom</th>\n",
       "      <th>Furnishing</th>\n",
       "      <th>Locality</th>\n",
       "      <th>Parking</th>\n",
       "      <th>Price</th>\n",
       "      <th>Status</th>\n",
       "      <th>Transaction</th>\n",
       "      <th>Type</th>\n",
       "      <th>Per_Sqft</th>\n",
       "    </tr>\n",
       "  </thead>\n",
       "  <tbody>\n",
       "    <tr>\n",
       "      <th>0</th>\n",
       "      <td>800.0</td>\n",
       "      <td>3</td>\n",
       "      <td>2.0</td>\n",
       "      <td>Semi-Furnished</td>\n",
       "      <td>Rohini Sector 25</td>\n",
       "      <td>1.0</td>\n",
       "      <td>6500000</td>\n",
       "      <td>Ready_to_move</td>\n",
       "      <td>New_Property</td>\n",
       "      <td>Builder_Floor</td>\n",
       "      <td>11291.5</td>\n",
       "    </tr>\n",
       "    <tr>\n",
       "      <th>1</th>\n",
       "      <td>750.0</td>\n",
       "      <td>2</td>\n",
       "      <td>2.0</td>\n",
       "      <td>Semi-Furnished</td>\n",
       "      <td>J R Designers Floors, Rohini Sector 24</td>\n",
       "      <td>1.0</td>\n",
       "      <td>5000000</td>\n",
       "      <td>Ready_to_move</td>\n",
       "      <td>New_Property</td>\n",
       "      <td>Apartment</td>\n",
       "      <td>6667.0</td>\n",
       "    </tr>\n",
       "    <tr>\n",
       "      <th>2</th>\n",
       "      <td>950.0</td>\n",
       "      <td>2</td>\n",
       "      <td>2.0</td>\n",
       "      <td>Furnished</td>\n",
       "      <td>Citizen Apartment, Rohini Sector 13</td>\n",
       "      <td>1.0</td>\n",
       "      <td>15500000</td>\n",
       "      <td>Ready_to_move</td>\n",
       "      <td>Resale</td>\n",
       "      <td>Apartment</td>\n",
       "      <td>6667.0</td>\n",
       "    </tr>\n",
       "    <tr>\n",
       "      <th>3</th>\n",
       "      <td>600.0</td>\n",
       "      <td>2</td>\n",
       "      <td>2.0</td>\n",
       "      <td>Semi-Furnished</td>\n",
       "      <td>Rohini Sector 24</td>\n",
       "      <td>1.0</td>\n",
       "      <td>4200000</td>\n",
       "      <td>Ready_to_move</td>\n",
       "      <td>Resale</td>\n",
       "      <td>Builder_Floor</td>\n",
       "      <td>6667.0</td>\n",
       "    </tr>\n",
       "    <tr>\n",
       "      <th>4</th>\n",
       "      <td>650.0</td>\n",
       "      <td>2</td>\n",
       "      <td>2.0</td>\n",
       "      <td>Semi-Furnished</td>\n",
       "      <td>Rohini Sector 24 carpet area 650 sqft status R...</td>\n",
       "      <td>1.0</td>\n",
       "      <td>6200000</td>\n",
       "      <td>Ready_to_move</td>\n",
       "      <td>New_Property</td>\n",
       "      <td>Builder_Floor</td>\n",
       "      <td>6667.0</td>\n",
       "    </tr>\n",
       "    <tr>\n",
       "      <th>...</th>\n",
       "      <td>...</td>\n",
       "      <td>...</td>\n",
       "      <td>...</td>\n",
       "      <td>...</td>\n",
       "      <td>...</td>\n",
       "      <td>...</td>\n",
       "      <td>...</td>\n",
       "      <td>...</td>\n",
       "      <td>...</td>\n",
       "      <td>...</td>\n",
       "      <td>...</td>\n",
       "    </tr>\n",
       "    <tr>\n",
       "      <th>1254</th>\n",
       "      <td>4118.0</td>\n",
       "      <td>4</td>\n",
       "      <td>5.0</td>\n",
       "      <td>Unfurnished</td>\n",
       "      <td>Chittaranjan Park</td>\n",
       "      <td>3.0</td>\n",
       "      <td>55000000</td>\n",
       "      <td>Ready_to_move</td>\n",
       "      <td>New_Property</td>\n",
       "      <td>Builder_Floor</td>\n",
       "      <td>12916.0</td>\n",
       "    </tr>\n",
       "    <tr>\n",
       "      <th>1255</th>\n",
       "      <td>1050.0</td>\n",
       "      <td>3</td>\n",
       "      <td>2.0</td>\n",
       "      <td>Semi-Furnished</td>\n",
       "      <td>Chittaranjan Park</td>\n",
       "      <td>3.0</td>\n",
       "      <td>12500000</td>\n",
       "      <td>Ready_to_move</td>\n",
       "      <td>Resale</td>\n",
       "      <td>Builder_Floor</td>\n",
       "      <td>12916.0</td>\n",
       "    </tr>\n",
       "    <tr>\n",
       "      <th>1256</th>\n",
       "      <td>875.0</td>\n",
       "      <td>3</td>\n",
       "      <td>3.0</td>\n",
       "      <td>Semi-Furnished</td>\n",
       "      <td>Chittaranjan Park</td>\n",
       "      <td>3.0</td>\n",
       "      <td>17500000</td>\n",
       "      <td>Ready_to_move</td>\n",
       "      <td>New_Property</td>\n",
       "      <td>Builder_Floor</td>\n",
       "      <td>12916.0</td>\n",
       "    </tr>\n",
       "    <tr>\n",
       "      <th>1257</th>\n",
       "      <td>990.0</td>\n",
       "      <td>2</td>\n",
       "      <td>2.0</td>\n",
       "      <td>Unfurnished</td>\n",
       "      <td>Chittaranjan Park Block A</td>\n",
       "      <td>1.0</td>\n",
       "      <td>11500000</td>\n",
       "      <td>Ready_to_move</td>\n",
       "      <td>Resale</td>\n",
       "      <td>Builder_Floor</td>\n",
       "      <td>12916.0</td>\n",
       "    </tr>\n",
       "    <tr>\n",
       "      <th>1258</th>\n",
       "      <td>11050.0</td>\n",
       "      <td>3</td>\n",
       "      <td>3.0</td>\n",
       "      <td>Unfurnished</td>\n",
       "      <td>Chittaranjan Park</td>\n",
       "      <td>1.0</td>\n",
       "      <td>18500000</td>\n",
       "      <td>Ready_to_move</td>\n",
       "      <td>New_Property</td>\n",
       "      <td>Builder_Floor</td>\n",
       "      <td>12916.0</td>\n",
       "    </tr>\n",
       "  </tbody>\n",
       "</table>\n",
       "<p>1259 rows × 11 columns</p>\n",
       "</div>"
      ],
      "text/plain": [
       "         Area  BHK  Bathroom      Furnishing  \\\n",
       "0       800.0    3       2.0  Semi-Furnished   \n",
       "1       750.0    2       2.0  Semi-Furnished   \n",
       "2       950.0    2       2.0       Furnished   \n",
       "3       600.0    2       2.0  Semi-Furnished   \n",
       "4       650.0    2       2.0  Semi-Furnished   \n",
       "...       ...  ...       ...             ...   \n",
       "1254   4118.0    4       5.0     Unfurnished   \n",
       "1255   1050.0    3       2.0  Semi-Furnished   \n",
       "1256    875.0    3       3.0  Semi-Furnished   \n",
       "1257    990.0    2       2.0     Unfurnished   \n",
       "1258  11050.0    3       3.0     Unfurnished   \n",
       "\n",
       "                                               Locality  Parking     Price  \\\n",
       "0                                      Rohini Sector 25      1.0   6500000   \n",
       "1                J R Designers Floors, Rohini Sector 24      1.0   5000000   \n",
       "2                   Citizen Apartment, Rohini Sector 13      1.0  15500000   \n",
       "3                                      Rohini Sector 24      1.0   4200000   \n",
       "4     Rohini Sector 24 carpet area 650 sqft status R...      1.0   6200000   \n",
       "...                                                 ...      ...       ...   \n",
       "1254                                  Chittaranjan Park      3.0  55000000   \n",
       "1255                                  Chittaranjan Park      3.0  12500000   \n",
       "1256                                  Chittaranjan Park      3.0  17500000   \n",
       "1257                          Chittaranjan Park Block A      1.0  11500000   \n",
       "1258                                  Chittaranjan Park      1.0  18500000   \n",
       "\n",
       "             Status   Transaction           Type  Per_Sqft  \n",
       "0     Ready_to_move  New_Property  Builder_Floor   11291.5  \n",
       "1     Ready_to_move  New_Property      Apartment    6667.0  \n",
       "2     Ready_to_move        Resale      Apartment    6667.0  \n",
       "3     Ready_to_move        Resale  Builder_Floor    6667.0  \n",
       "4     Ready_to_move  New_Property  Builder_Floor    6667.0  \n",
       "...             ...           ...            ...       ...  \n",
       "1254  Ready_to_move  New_Property  Builder_Floor   12916.0  \n",
       "1255  Ready_to_move        Resale  Builder_Floor   12916.0  \n",
       "1256  Ready_to_move  New_Property  Builder_Floor   12916.0  \n",
       "1257  Ready_to_move        Resale  Builder_Floor   12916.0  \n",
       "1258  Ready_to_move  New_Property  Builder_Floor   12916.0  \n",
       "\n",
       "[1259 rows x 11 columns]"
      ]
     },
     "execution_count": 247,
     "metadata": {},
     "output_type": "execute_result"
    }
   ],
   "source": [
    "df"
   ]
  },
  {
   "cell_type": "code",
   "execution_count": 272,
   "id": "f7cec97c",
   "metadata": {},
   "outputs": [
    {
     "data": {
      "image/png": "[encoded data removed]",
      "text/plain": [
       "<Figure size 360x360 with 1 Axes>"
      ]
     },
     "metadata": {
      "needs_background": "light"
     },
     "output_type": "display_data"
    }
   ],
   "source": [
    "sns.catplot(x='Furnishing', y='BHK', kind='bar', data=df)\n",
    "\n",
    "# Show the plot\n",
    "plt.show()"
   ]
  },
  {
   "cell_type": "code",
   "execution_count": 277,
   "id": "cada3e05",
   "metadata": {},
   "outputs": [
    {
     "data": {
      "image/png": "[encoded data removed]",
      "text/plain": [
       "<Figure size 360x360 with 1 Axes>"
      ]
     },
     "metadata": {
      "needs_background": "light"
     },
     "output_type": "display_data"
    }
   ],
   "source": [
    "sns.catplot(x='Type', y='BHK', kind='bar', data=df)\n",
    "plt.show()"
   ]
  },
  {
   "cell_type": "markdown",
   "id": "c7814d57",
   "metadata": {},
   "source": [
    "# Checking for Correlation "
   ]
  },
  {
   "cell_type": "code",
   "execution_count": 171,
   "id": "811391a4",
   "metadata": {},
   "outputs": [
    {
     "data": {
      "text/plain": [
       "<AxesSubplot:>"
      ]
     },
     "execution_count": 171,
     "metadata": {},
     "output_type": "execute_result"
    },
    {
     "data": {
      "image/png": "[encoded data removed]",
      "text/plain": [
       "<Figure size 864x576 with 2 Axes>"
      ]
     },
     "metadata": {
      "needs_background": "light"
     },
     "output_type": "display_data"
    }
   ],
   "source": [
    "plt.figure(figsize=(12,8))\n",
    "sns.heatmap(df.corr(),annot=True)"
   ]
  },
  {
   "cell_type": "code",
   "execution_count": 197,
   "id": "8ae3714a",
   "metadata": {},
   "outputs": [],
   "source": [
    "def correlated_columns(df):\n",
    "    # List to store column names\n",
    "    col_corr = []\n",
    "    # Iterate through columns of the dataframe\n",
    "    for i in range(0, df.shape[1]):\n",
    "        # Store the column name\n",
    "        col_name = df.columns[i]\n",
    "        # Calculate correlation with other columns\n",
    "        corr = df.corr()[col_name].abs().sort_values(ascending=False)[1:]\n",
    "        # Store columns with correlation greater than 0.8\n",
    "        if len(corr[corr > 0.8]) > 0:\n",
    "            col_corr.append(col_name) \n",
    "    # Print out the list of highly correlated columns\n",
    "    print(col_corr)\n",
    "    \n"
   ]
  },
  {
   "cell_type": "code",
   "execution_count": 198,
   "id": "41835a77",
   "metadata": {},
   "outputs": [
    {
     "name": "stdout",
     "output_type": "stream",
     "text": [
      "[]\n"
     ]
    }
   ],
   "source": [
    "df_numerical=df.select_dtypes(include=np.number)\n",
    "correlated_columns(df_numerical)"
   ]
  },
  {
   "cell_type": "raw",
   "id": "7fc274eb",
   "metadata": {},
   "source": [
    "So at a threshold of 0.8 we can see that there are no correlated columns in this dataframe "
   ]
  },
  {
   "cell_type": "markdown",
   "id": "edcb1c29",
   "metadata": {},
   "source": [
    "# #Performing feature encoding on the dataset \n"
   ]
  },
  {
   "cell_type": "code",
   "execution_count": 32,
   "id": "8abe397b",
   "metadata": {},
   "outputs": [],
   "source": [
    "df_dummy=pd.get_dummies(df_main.Type,drop_first=True)"
   ]
  },
  {
   "cell_type": "code",
   "execution_count": 35,
   "id": "d890fcd2",
   "metadata": {},
   "outputs": [],
   "source": [
    "df_main.drop(columns='Type',inplace=True)"
   ]
  },
  {
   "cell_type": "code",
   "execution_count": 37,
   "id": "44af940a",
   "metadata": {},
   "outputs": [],
   "source": [
    "df_main=pd.concat([df_main,df_dummy],axis=1)"
   ]
  },
  {
   "cell_type": "code",
   "execution_count": 39,
   "id": "b3cafce1",
   "metadata": {},
   "outputs": [],
   "source": [
    "df_main.Area=df_main.Area.astype(int)"
   ]
  },
  {
   "cell_type": "code",
   "execution_count": 41,
   "id": "94b3bb53",
   "metadata": {},
   "outputs": [],
   "source": [
    "df_main.Bathroom=df_main.Bathroom.astype(int)"
   ]
  },
  {
   "cell_type": "code",
   "execution_count": 43,
   "id": "3877dce4",
   "metadata": {},
   "outputs": [],
   "source": [
    "df_main.Parking=df_main.Parking.astype(int)"
   ]
  },
  {
   "cell_type": "code",
   "execution_count": 45,
   "id": "09289991",
   "metadata": {},
   "outputs": [
    {
     "data": {
      "text/plain": [
       "array(['Semi-Furnished', 'Furnished', 'Unfurnished'], dtype=object)"
      ]
     },
     "execution_count": 45,
     "metadata": {},
     "output_type": "execute_result"
    }
   ],
   "source": [
    "df_main.Furnishing.unique()"
   ]
  },
  {
   "cell_type": "code",
   "execution_count": 47,
   "id": "91b85f92",
   "metadata": {},
   "outputs": [],
   "source": [
    "df_main.Furnishing=df_main.Furnishing.map({'Semi-Furnished':1,'Furnished':2,'Unfurnished':0})"
   ]
  },
  {
   "cell_type": "code",
   "execution_count": 52,
   "id": "e2a14fd0",
   "metadata": {},
   "outputs": [
    {
     "data": {
      "text/plain": [
       "array(['Ready_to_move', 'Almost_ready'], dtype=object)"
      ]
     },
     "execution_count": 52,
     "metadata": {},
     "output_type": "execute_result"
    }
   ],
   "source": [
    "df_main.Status.unique()"
   ]
  },
  {
   "cell_type": "code",
   "execution_count": 53,
   "id": "6bf57052",
   "metadata": {},
   "outputs": [],
   "source": [
    "df_main.Status=df_main.Status.map({'Ready_to_move':1,'Almost_ready':0})"
   ]
  },
  {
   "cell_type": "code",
   "execution_count": 55,
   "id": "ac637a57",
   "metadata": {},
   "outputs": [
    {
     "data": {
      "text/plain": [
       "array(['New_Property', 'Resale'], dtype=object)"
      ]
     },
     "execution_count": 55,
     "metadata": {},
     "output_type": "execute_result"
    }
   ],
   "source": [
    "df_main.Transaction.unique()"
   ]
  },
  {
   "cell_type": "code",
   "execution_count": 56,
   "id": "acf39bf6",
   "metadata": {},
   "outputs": [],
   "source": [
    "df_main.Transaction=df_main.Transaction.map({'New_Property':1,'Resale':0})"
   ]
  },
  {
   "cell_type": "code",
   "execution_count": 381,
   "id": "2528df6c",
   "metadata": {},
   "outputs": [],
   "source": [
    "df_main['Price']=np.log(df_main['Price'])"
   ]
  },
  {
   "cell_type": "code",
   "execution_count": 415,
   "id": "8ed96e25",
   "metadata": {},
   "outputs": [],
   "source": [
    "df_main['Area']=np.log(df_main['Area'])"
   ]
  },
  {
   "cell_type": "code",
   "execution_count": 420,
   "id": "2b96b762",
   "metadata": {},
   "outputs": [],
   "source": [
    "df_main['Per_Sqft']=np.log(df_main['Per_Sqft'])"
   ]
  },
  {
   "cell_type": "code",
   "execution_count": 421,
   "id": "a4dfb2d6",
   "metadata": {},
   "outputs": [
    {
     "data": {
      "text/html": [
       "<div>\n",
       "<style scoped>\n",
       "    .dataframe tbody tr th:only-of-type {\n",
       "        vertical-align: middle;\n",
       "    }\n",
       "\n",
       "    .dataframe tbody tr th {\n",
       "        vertical-align: top;\n",
       "    }\n",
       "\n",
       "    .dataframe thead th {\n",
       "        text-align: right;\n",
       "    }\n",
       "</style>\n",
       "<table border=\"1\" class=\"dataframe\">\n",
       "  <thead>\n",
       "    <tr style=\"text-align: right;\">\n",
       "      <th></th>\n",
       "      <th>Area</th>\n",
       "      <th>BHK</th>\n",
       "      <th>Bathroom</th>\n",
       "      <th>Parking</th>\n",
       "      <th>Price</th>\n",
       "      <th>Per_Sqft</th>\n",
       "      <th>Furnishing</th>\n",
       "      <th>Status</th>\n",
       "      <th>Transaction</th>\n",
       "      <th>Builder_Floor</th>\n",
       "    </tr>\n",
       "  </thead>\n",
       "  <tbody>\n",
       "    <tr>\n",
       "      <th>0</th>\n",
       "      <td>6.684612</td>\n",
       "      <td>3</td>\n",
       "      <td>2</td>\n",
       "      <td>1</td>\n",
       "      <td>15.687313</td>\n",
       "      <td>9.331806</td>\n",
       "      <td>1</td>\n",
       "      <td>1</td>\n",
       "      <td>1</td>\n",
       "      <td>1</td>\n",
       "    </tr>\n",
       "    <tr>\n",
       "      <th>1</th>\n",
       "      <td>6.620073</td>\n",
       "      <td>2</td>\n",
       "      <td>2</td>\n",
       "      <td>1</td>\n",
       "      <td>15.424948</td>\n",
       "      <td>8.804925</td>\n",
       "      <td>1</td>\n",
       "      <td>1</td>\n",
       "      <td>1</td>\n",
       "      <td>0</td>\n",
       "    </tr>\n",
       "    <tr>\n",
       "      <th>2</th>\n",
       "      <td>6.856462</td>\n",
       "      <td>2</td>\n",
       "      <td>2</td>\n",
       "      <td>1</td>\n",
       "      <td>16.556351</td>\n",
       "      <td>8.804925</td>\n",
       "      <td>2</td>\n",
       "      <td>1</td>\n",
       "      <td>0</td>\n",
       "      <td>0</td>\n",
       "    </tr>\n",
       "    <tr>\n",
       "      <th>3</th>\n",
       "      <td>6.396930</td>\n",
       "      <td>2</td>\n",
       "      <td>2</td>\n",
       "      <td>1</td>\n",
       "      <td>15.250595</td>\n",
       "      <td>8.804925</td>\n",
       "      <td>1</td>\n",
       "      <td>1</td>\n",
       "      <td>0</td>\n",
       "      <td>1</td>\n",
       "    </tr>\n",
       "    <tr>\n",
       "      <th>4</th>\n",
       "      <td>6.476972</td>\n",
       "      <td>2</td>\n",
       "      <td>2</td>\n",
       "      <td>1</td>\n",
       "      <td>15.640060</td>\n",
       "      <td>8.804925</td>\n",
       "      <td>1</td>\n",
       "      <td>1</td>\n",
       "      <td>1</td>\n",
       "      <td>1</td>\n",
       "    </tr>\n",
       "    <tr>\n",
       "      <th>...</th>\n",
       "      <td>...</td>\n",
       "      <td>...</td>\n",
       "      <td>...</td>\n",
       "      <td>...</td>\n",
       "      <td>...</td>\n",
       "      <td>...</td>\n",
       "      <td>...</td>\n",
       "      <td>...</td>\n",
       "      <td>...</td>\n",
       "      <td>...</td>\n",
       "    </tr>\n",
       "    <tr>\n",
       "      <th>1254</th>\n",
       "      <td>8.323123</td>\n",
       "      <td>4</td>\n",
       "      <td>5</td>\n",
       "      <td>3</td>\n",
       "      <td>17.822844</td>\n",
       "      <td>9.466222</td>\n",
       "      <td>0</td>\n",
       "      <td>1</td>\n",
       "      <td>1</td>\n",
       "      <td>1</td>\n",
       "    </tr>\n",
       "    <tr>\n",
       "      <th>1255</th>\n",
       "      <td>6.956545</td>\n",
       "      <td>3</td>\n",
       "      <td>2</td>\n",
       "      <td>3</td>\n",
       "      <td>16.341239</td>\n",
       "      <td>9.466222</td>\n",
       "      <td>1</td>\n",
       "      <td>1</td>\n",
       "      <td>0</td>\n",
       "      <td>1</td>\n",
       "    </tr>\n",
       "    <tr>\n",
       "      <th>1256</th>\n",
       "      <td>6.774224</td>\n",
       "      <td>3</td>\n",
       "      <td>3</td>\n",
       "      <td>3</td>\n",
       "      <td>16.677711</td>\n",
       "      <td>9.466222</td>\n",
       "      <td>1</td>\n",
       "      <td>1</td>\n",
       "      <td>1</td>\n",
       "      <td>1</td>\n",
       "    </tr>\n",
       "    <tr>\n",
       "      <th>1257</th>\n",
       "      <td>6.897705</td>\n",
       "      <td>2</td>\n",
       "      <td>2</td>\n",
       "      <td>1</td>\n",
       "      <td>16.257858</td>\n",
       "      <td>9.466222</td>\n",
       "      <td>0</td>\n",
       "      <td>1</td>\n",
       "      <td>0</td>\n",
       "      <td>1</td>\n",
       "    </tr>\n",
       "    <tr>\n",
       "      <th>1258</th>\n",
       "      <td>9.310186</td>\n",
       "      <td>3</td>\n",
       "      <td>3</td>\n",
       "      <td>1</td>\n",
       "      <td>16.733281</td>\n",
       "      <td>9.466222</td>\n",
       "      <td>0</td>\n",
       "      <td>1</td>\n",
       "      <td>1</td>\n",
       "      <td>1</td>\n",
       "    </tr>\n",
       "  </tbody>\n",
       "</table>\n",
       "<p>1259 rows × 10 columns</p>\n",
       "</div>"
      ],
      "text/plain": [
       "          Area  BHK  Bathroom  Parking      Price  Per_Sqft  Furnishing  \\\n",
       "0     6.684612    3         2        1  15.687313  9.331806           1   \n",
       "1     6.620073    2         2        1  15.424948  8.804925           1   \n",
       "2     6.856462    2         2        1  16.556351  8.804925           2   \n",
       "3     6.396930    2         2        1  15.250595  8.804925           1   \n",
       "4     6.476972    2         2        1  15.640060  8.804925           1   \n",
       "...        ...  ...       ...      ...        ...       ...         ...   \n",
       "1254  8.323123    4         5        3  17.822844  9.466222           0   \n",
       "1255  6.956545    3         2        3  16.341239  9.466222           1   \n",
       "1256  6.774224    3         3        3  16.677711  9.466222           1   \n",
       "1257  6.897705    2         2        1  16.257858  9.466222           0   \n",
       "1258  9.310186    3         3        1  16.733281  9.466222           0   \n",
       "\n",
       "      Status  Transaction  Builder_Floor  \n",
       "0          1            1              1  \n",
       "1          1            1              0  \n",
       "2          1            0              0  \n",
       "3          1            0              1  \n",
       "4          1            1              1  \n",
       "...      ...          ...            ...  \n",
       "1254       1            1              1  \n",
       "1255       1            0              1  \n",
       "1256       1            1              1  \n",
       "1257       1            0              1  \n",
       "1258       1            1              1  \n",
       "\n",
       "[1259 rows x 10 columns]"
      ]
     },
     "execution_count": 421,
     "metadata": {},
     "output_type": "execute_result"
    }
   ],
   "source": [
    "df_main"
   ]
  },
  {
   "cell_type": "markdown",
   "id": "573bfb27",
   "metadata": {},
   "source": [
    "# Dropping Locality \n"
   ]
  },
  {
   "cell_type": "code",
   "execution_count": null,
   "id": "eb9bfa18",
   "metadata": {},
   "outputs": [],
   "source": [
    "##df_main.drop(columns='Locality',inplace=True)"
   ]
  },
  {
   "cell_type": "markdown",
   "id": "d0e952f5",
   "metadata": {},
   "source": [
    "# Performing Train Test Split"
   ]
  },
  {
   "cell_type": "code",
   "execution_count": 446,
   "id": "90d26d01",
   "metadata": {},
   "outputs": [],
   "source": [
    "X=df_main.drop(columns='Price')\n",
    "y=df_main['Price']"
   ]
  },
  {
   "cell_type": "code",
   "execution_count": 447,
   "id": "ecd0ba97",
   "metadata": {},
   "outputs": [
    {
     "data": {
      "text/html": [
       "<div>\n",
       "<style scoped>\n",
       "    .dataframe tbody tr th:only-of-type {\n",
       "        vertical-align: middle;\n",
       "    }\n",
       "\n",
       "    .dataframe tbody tr th {\n",
       "        vertical-align: top;\n",
       "    }\n",
       "\n",
       "    .dataframe thead th {\n",
       "        text-align: right;\n",
       "    }\n",
       "</style>\n",
       "<table border=\"1\" class=\"dataframe\">\n",
       "  <thead>\n",
       "    <tr style=\"text-align: right;\">\n",
       "      <th></th>\n",
       "      <th>Area</th>\n",
       "      <th>BHK</th>\n",
       "      <th>Bathroom</th>\n",
       "      <th>Parking</th>\n",
       "      <th>Per_Sqft</th>\n",
       "      <th>Furnishing</th>\n",
       "      <th>Status</th>\n",
       "      <th>Transaction</th>\n",
       "      <th>Builder_Floor</th>\n",
       "    </tr>\n",
       "  </thead>\n",
       "  <tbody>\n",
       "    <tr>\n",
       "      <th>0</th>\n",
       "      <td>6.684612</td>\n",
       "      <td>3</td>\n",
       "      <td>2</td>\n",
       "      <td>1</td>\n",
       "      <td>9.331806</td>\n",
       "      <td>1</td>\n",
       "      <td>1</td>\n",
       "      <td>1</td>\n",
       "      <td>1</td>\n",
       "    </tr>\n",
       "    <tr>\n",
       "      <th>1</th>\n",
       "      <td>6.620073</td>\n",
       "      <td>2</td>\n",
       "      <td>2</td>\n",
       "      <td>1</td>\n",
       "      <td>8.804925</td>\n",
       "      <td>1</td>\n",
       "      <td>1</td>\n",
       "      <td>1</td>\n",
       "      <td>0</td>\n",
       "    </tr>\n",
       "    <tr>\n",
       "      <th>2</th>\n",
       "      <td>6.856462</td>\n",
       "      <td>2</td>\n",
       "      <td>2</td>\n",
       "      <td>1</td>\n",
       "      <td>8.804925</td>\n",
       "      <td>2</td>\n",
       "      <td>1</td>\n",
       "      <td>0</td>\n",
       "      <td>0</td>\n",
       "    </tr>\n",
       "    <tr>\n",
       "      <th>3</th>\n",
       "      <td>6.396930</td>\n",
       "      <td>2</td>\n",
       "      <td>2</td>\n",
       "      <td>1</td>\n",
       "      <td>8.804925</td>\n",
       "      <td>1</td>\n",
       "      <td>1</td>\n",
       "      <td>0</td>\n",
       "      <td>1</td>\n",
       "    </tr>\n",
       "    <tr>\n",
       "      <th>4</th>\n",
       "      <td>6.476972</td>\n",
       "      <td>2</td>\n",
       "      <td>2</td>\n",
       "      <td>1</td>\n",
       "      <td>8.804925</td>\n",
       "      <td>1</td>\n",
       "      <td>1</td>\n",
       "      <td>1</td>\n",
       "      <td>1</td>\n",
       "    </tr>\n",
       "    <tr>\n",
       "      <th>...</th>\n",
       "      <td>...</td>\n",
       "      <td>...</td>\n",
       "      <td>...</td>\n",
       "      <td>...</td>\n",
       "      <td>...</td>\n",
       "      <td>...</td>\n",
       "      <td>...</td>\n",
       "      <td>...</td>\n",
       "      <td>...</td>\n",
       "    </tr>\n",
       "    <tr>\n",
       "      <th>1254</th>\n",
       "      <td>8.323123</td>\n",
       "      <td>4</td>\n",
       "      <td>5</td>\n",
       "      <td>3</td>\n",
       "      <td>9.466222</td>\n",
       "      <td>0</td>\n",
       "      <td>1</td>\n",
       "      <td>1</td>\n",
       "      <td>1</td>\n",
       "    </tr>\n",
       "    <tr>\n",
       "      <th>1255</th>\n",
       "      <td>6.956545</td>\n",
       "      <td>3</td>\n",
       "      <td>2</td>\n",
       "      <td>3</td>\n",
       "      <td>9.466222</td>\n",
       "      <td>1</td>\n",
       "      <td>1</td>\n",
       "      <td>0</td>\n",
       "      <td>1</td>\n",
       "    </tr>\n",
       "    <tr>\n",
       "      <th>1256</th>\n",
       "      <td>6.774224</td>\n",
       "      <td>3</td>\n",
       "      <td>3</td>\n",
       "      <td>3</td>\n",
       "      <td>9.466222</td>\n",
       "      <td>1</td>\n",
       "      <td>1</td>\n",
       "      <td>1</td>\n",
       "      <td>1</td>\n",
       "    </tr>\n",
       "    <tr>\n",
       "      <th>1257</th>\n",
       "      <td>6.897705</td>\n",
       "      <td>2</td>\n",
       "      <td>2</td>\n",
       "      <td>1</td>\n",
       "      <td>9.466222</td>\n",
       "      <td>0</td>\n",
       "      <td>1</td>\n",
       "      <td>0</td>\n",
       "      <td>1</td>\n",
       "    </tr>\n",
       "    <tr>\n",
       "      <th>1258</th>\n",
       "      <td>9.310186</td>\n",
       "      <td>3</td>\n",
       "      <td>3</td>\n",
       "      <td>1</td>\n",
       "      <td>9.466222</td>\n",
       "      <td>0</td>\n",
       "      <td>1</td>\n",
       "      <td>1</td>\n",
       "      <td>1</td>\n",
       "    </tr>\n",
       "  </tbody>\n",
       "</table>\n",
       "<p>1259 rows × 9 columns</p>\n",
       "</div>"
      ],
      "text/plain": [
       "          Area  BHK  Bathroom  Parking  Per_Sqft  Furnishing  Status  \\\n",
       "0     6.684612    3         2        1  9.331806           1       1   \n",
       "1     6.620073    2         2        1  8.804925           1       1   \n",
       "2     6.856462    2         2        1  8.804925           2       1   \n",
       "3     6.396930    2         2        1  8.804925           1       1   \n",
       "4     6.476972    2         2        1  8.804925           1       1   \n",
       "...        ...  ...       ...      ...       ...         ...     ...   \n",
       "1254  8.323123    4         5        3  9.466222           0       1   \n",
       "1255  6.956545    3         2        3  9.466222           1       1   \n",
       "1256  6.774224    3         3        3  9.466222           1       1   \n",
       "1257  6.897705    2         2        1  9.466222           0       1   \n",
       "1258  9.310186    3         3        1  9.466222           0       1   \n",
       "\n",
       "      Transaction  Builder_Floor  \n",
       "0               1              1  \n",
       "1               1              0  \n",
       "2               0              0  \n",
       "3               0              1  \n",
       "4               1              1  \n",
       "...           ...            ...  \n",
       "1254            1              1  \n",
       "1255            0              1  \n",
       "1256            1              1  \n",
       "1257            0              1  \n",
       "1258            1              1  \n",
       "\n",
       "[1259 rows x 9 columns]"
      ]
     },
     "execution_count": 447,
     "metadata": {},
     "output_type": "execute_result"
    }
   ],
   "source": [
    "X"
   ]
  },
  {
   "cell_type": "code",
   "execution_count": 448,
   "id": "f34d8f75",
   "metadata": {},
   "outputs": [
    {
     "data": {
      "text/plain": [
       "0       15.687313\n",
       "1       15.424948\n",
       "2       16.556351\n",
       "3       15.250595\n",
       "4       15.640060\n",
       "          ...    \n",
       "1254    17.822844\n",
       "1255    16.341239\n",
       "1256    16.677711\n",
       "1257    16.257858\n",
       "1258    16.733281\n",
       "Name: Price, Length: 1259, dtype: float64"
      ]
     },
     "execution_count": 448,
     "metadata": {},
     "output_type": "execute_result"
    }
   ],
   "source": [
    "y"
   ]
  },
  {
   "cell_type": "code",
   "execution_count": 425,
   "id": "f60467b9",
   "metadata": {},
   "outputs": [
    {
     "name": "stdout",
     "output_type": "stream",
     "text": [
      "Shape of X_train: (1007, 9)\n",
      "Shape of X_test: (252, 9)\n",
      "Shape of y_train: (1007,)\n",
      "Shape of y_test: (252,)\n"
     ]
    }
   ],
   "source": [
    "from sklearn.model_selection import train_test_split\n",
    "X_train, X_test, y_train, y_test = train_test_split(X, y, test_size=0.2, random_state=1)\n",
    "\n",
    "print(\"Shape of X_train:\", X_train.shape)\n",
    "print(\"Shape of X_test:\", X_test.shape)\n",
    "print(\"Shape of y_train:\", y_train.shape)\n",
    "print(\"Shape of y_test:\", y_test.shape)"
   ]
  },
  {
   "cell_type": "markdown",
   "id": "752ff62c",
   "metadata": {},
   "source": [
    "# Scaling the dataset"
   ]
  },
  {
   "cell_type": "code",
   "execution_count": 426,
   "id": "911feca6",
   "metadata": {},
   "outputs": [],
   "source": [
    "from sklearn.preprocessing import StandardScaler\n",
    "sc = StandardScaler()\n",
    "X_train = sc.fit_transform(X_train)\n",
    "X_test = sc.transform (X_test)"
   ]
  },
  {
   "cell_type": "code",
   "execution_count": 427,
   "id": "000fc58f",
   "metadata": {},
   "outputs": [],
   "source": [
    "from sklearn.ensemble import AdaBoostRegressor\n",
    "from sklearn.model_selection import train_test_split\n",
    "from sklearn.model_selection import cross_val_score, KFold\n",
    "from sklearn.metrics import mean_squared_error\n",
    "import matplotlib.pyplot as plt\n"
   ]
  },
  {
   "cell_type": "code",
   "execution_count": 428,
   "id": "e42b35ad",
   "metadata": {},
   "outputs": [],
   "source": [
    "from sklearn.ensemble import AdaBoostRegressor\n",
    "\n",
    "\n",
    "# Load the Boston dataset\n",
    "\n",
    "X = X_train\n",
    "y = y_train\n",
    "\n",
    "# Create an AdaBoost regressor\n",
    "regr = AdaBoostRegressor()\n",
    "\n",
    "# Fit the model\n",
    "regr.fit(X,y)\n",
    "\n",
    "# Make predictions\n",
    "predictions = regr.predict(X_test)"
   ]
  },
  {
   "cell_type": "code",
   "execution_count": 429,
   "id": "4428c8de",
   "metadata": {},
   "outputs": [
    {
     "data": {
      "text/plain": [
       "array([16.46602657, 16.4866192 , 15.7148247 , 16.69898357, 16.48670439,\n",
       "       16.91414844, 17.03349871, 16.73327441, 16.86856939, 17.53685286,\n",
       "       14.86046839, 16.10177384, 16.72011637, 16.72011637, 15.29514842,\n",
       "       16.91414844, 16.17020452, 16.8872555 , 16.60812656, 16.17187736,\n",
       "       16.71064041, 16.36940699, 17.03349871, 17.27131297, 16.03355693,\n",
       "       16.38498061, 16.92640772, 16.60812656, 16.91414844, 17.11185433,\n",
       "       16.91414844, 16.4866192 , 18.18181949, 16.48670439, 15.7148247 ,\n",
       "       16.19692049, 15.61248148, 16.86856939, 15.29514842, 16.38498061,\n",
       "       16.88445786, 14.65229838, 16.86770798, 16.79110209, 15.69159306,\n",
       "       16.99515974, 16.10177384, 16.01273476, 16.8872555 , 16.47061935,\n",
       "       15.94099667, 15.44601027, 14.86046839, 16.38498061, 17.27131297,\n",
       "       16.69898357, 16.91414844, 15.79074768, 17.0114452 , 15.69159306,\n",
       "       16.52439407, 16.91414844, 15.6831601 , 16.36940699, 16.19692049,\n",
       "       16.48670439, 15.29075921, 15.79074768, 17.11185433, 14.83744721,\n",
       "       16.49496067, 16.14928647, 15.69338401, 16.10177384, 15.79074768,\n",
       "       16.86770798, 17.92293011, 15.71083165, 15.59129235, 16.38498061,\n",
       "       16.3019213 , 14.8540337 , 16.91414844, 16.16878255, 16.86770798,\n",
       "       16.72011637, 17.87809338, 16.38498061, 16.73327441, 15.29075921,\n",
       "       16.90030773, 15.32263695, 16.92730843, 16.69898357, 16.45259075,\n",
       "       18.01568004, 17.07021988, 15.7148247 , 15.69338401, 15.45153458,\n",
       "       18.43735879, 15.63129839, 16.91414844, 14.72746803, 16.03355693,\n",
       "       16.37910072, 16.10177384, 16.10177384, 14.69498946, 16.91414844,\n",
       "       15.63129839, 16.79110209, 17.58135105, 15.69159306, 16.23600346,\n",
       "       17.1009885 , 17.11185433, 16.71064041, 17.29878651, 15.69338401,\n",
       "       14.86046839, 16.67318599, 15.38463588, 16.10177384, 16.73327441,\n",
       "       18.01568004, 15.71083165, 15.20934269, 17.70722265, 14.86046839,\n",
       "       14.90902742, 16.03923956, 16.10177384, 17.58135105, 15.69159306,\n",
       "       14.90902742, 16.95843604, 15.59129235, 16.69898357, 15.69555073,\n",
       "       17.95896416, 15.83476454, 15.53727301, 16.37910072, 15.83476454,\n",
       "       16.52439407, 18.43735879, 17.19240302, 15.69159306, 15.55240746,\n",
       "       14.75010289, 15.79074768, 15.19942583, 16.29316546, 18.01568004,\n",
       "       16.8872555 , 16.48670439, 15.63129839, 17.19240302, 16.74910281,\n",
       "       15.07114096, 16.69898357, 18.03423513, 17.71524809, 15.69338401,\n",
       "       15.00307174, 15.07114096, 16.45259075, 16.10177384, 16.2310898 ,\n",
       "       15.7148247 , 16.2310898 , 16.86770798, 16.86856939, 16.46602657,\n",
       "       16.69898357, 17.27131297, 16.10177384, 16.60123348, 14.98330022,\n",
       "       16.01273476, 18.01568004, 16.86770798, 16.67318599, 17.18297295,\n",
       "       16.22934286, 16.17020452, 16.38498061, 16.10208462, 14.8540337 ,\n",
       "       17.71524809, 15.07114096, 15.22213582, 15.45153458, 15.32263695,\n",
       "       14.69498946, 15.67990256, 16.38498061, 16.49496067, 14.83744721,\n",
       "       16.16878255, 14.81312992, 16.52439407, 18.01568004, 14.80900427,\n",
       "       15.7148247 , 16.49496067, 16.45259075, 16.94712268, 17.03349871,\n",
       "       16.49496067, 16.03923956, 16.27121013, 17.70722265, 16.42641957,\n",
       "       16.45259075, 16.22950692, 15.59129235, 14.80900427, 16.03355693,\n",
       "       15.71083165, 16.88445786, 16.48670439, 16.91414844, 16.47061935,\n",
       "       16.03355693, 15.83476454, 16.23600346, 16.10208462, 16.79110209,\n",
       "       14.86046839, 18.01568004, 16.86856939, 16.42960565, 18.40613649,\n",
       "       16.72011637, 16.36940699, 15.52234024, 16.52439407, 16.17020452,\n",
       "       16.48670439, 16.88445786, 15.69159306, 16.03355693, 15.39738615,\n",
       "       15.94099667, 16.48670439, 17.1009885 , 17.95896416, 15.52234024,\n",
       "       16.22934286, 14.61258547])"
      ]
     },
     "execution_count": 429,
     "metadata": {},
     "output_type": "execute_result"
    }
   ],
   "source": [
    "predictions"
   ]
  },
  {
   "cell_type": "code",
   "execution_count": 430,
   "id": "e6cf4d60",
   "metadata": {},
   "outputs": [
    {
     "name": "stdout",
     "output_type": "stream",
     "text": [
      "Mean cross-validataion score: 0.79\n"
     ]
    }
   ],
   "source": [
    "scores = cross_val_score(regr, X_train,y_train,cv=5)\n",
    "print(\"Mean cross-validataion score: %.2f\" % scores.mean())\n"
   ]
  },
  {
   "cell_type": "code",
   "execution_count": 431,
   "id": "ed89e636",
   "metadata": {},
   "outputs": [
    {
     "name": "stdout",
     "output_type": "stream",
     "text": [
      "K-fold CV average score: 0.79\n"
     ]
    }
   ],
   "source": [
    "kfold = KFold(n_splits=10, shuffle=True)\n",
    "kf_cv_scores = cross_val_score(regr, X_train, y_train, cv=kfold )\n",
    "print(\"K-fold CV average score: %.2f\" % kf_cv_scores.mean())"
   ]
  },
  {
   "cell_type": "code",
   "execution_count": 432,
   "id": "1ce6dc9d",
   "metadata": {},
   "outputs": [
    {
     "name": "stdout",
     "output_type": "stream",
     "text": [
      "MSE: 0.21\n",
      "RMSE: 0.46\n"
     ]
    }
   ],
   "source": [
    "ypred = regr.predict(X_test)\n",
    "mse = mean_squared_error(y_test,ypred)\n",
    "print(\"MSE: %.2f\" % mse)\n",
    "MSE: 15.82 \n",
    "print(\"RMSE: %.2f\" % np.sqrt(mse))\n",
    "RMSE: 3.98  "
   ]
  },
  {
   "cell_type": "code",
   "execution_count": 433,
   "id": "482a7854",
   "metadata": {},
   "outputs": [
    {
     "name": "stdout",
     "output_type": "stream",
     "text": [
      "{'learning_rate': 0.1, 'loss': 'exponential', 'n_estimators': 100}\n",
      "AdaBoostRegressor(learning_rate=0.1, loss='exponential', n_estimators=100)\n"
     ]
    }
   ],
   "source": [
    "from sklearn.model_selection import GridSearchCV\n",
    "\n",
    "# create a dictionary of all values we want to test\n",
    "param_grid = {'n_estimators':[100, 500, 1000], \n",
    "              'learning_rate': [0.001, 0.01, 0.1, 0.5, 1], \n",
    "              'loss':['linear', 'square', 'exponential']\n",
    "             }\n",
    "\n",
    "# use gridsearch to test all values\n",
    "grid = GridSearchCV(regr, param_grid, cv = 3)\n",
    "\n",
    "# fit model to data\n",
    "grid.fit(X_train, y_train)\n",
    "\n",
    "# print best parameter after tuning \n",
    "print(grid.best_params_)\n",
    "\n",
    "# print how our model looks after hyper-parameter tuning \n",
    "print(grid.best_estimator_)"
   ]
  },
  {
   "cell_type": "code",
   "execution_count": 434,
   "id": "2eddcd0a",
   "metadata": {},
   "outputs": [],
   "source": [
    "from sklearn.ensemble import AdaBoostRegressor\n",
    "\n",
    "\n",
    "# Load the Boston dataset\n",
    "\n",
    "X = X_train\n",
    "y = y_train\n",
    "\n",
    "# Create an AdaBoost regressor\n",
    "regr_final = AdaBoostRegressor(learning_rate=0.1, loss='exponential', n_estimators=100)\n",
    "\n",
    "# Fit the model\n",
    "regr_final.fit(X,y)\n",
    "\n",
    "# Make predictions\n",
    "predictions = regr_final.predict(X_test)"
   ]
  },
  {
   "cell_type": "code",
   "execution_count": 435,
   "id": "618f2896",
   "metadata": {},
   "outputs": [
    {
     "data": {
      "text/plain": [
       "array([16.52452172, 16.61113097, 15.95735969, 16.78999514, 16.64385221,\n",
       "       16.96519829, 17.13404172, 16.9340871 , 16.81025776, 17.598727  ,\n",
       "       14.86364341, 16.0819208 , 16.79972793, 16.81025776, 15.29599651,\n",
       "       16.9340871 , 16.18742296, 16.87373571, 16.6505722 , 16.15129477,\n",
       "       16.79972065, 16.3364392 , 17.13404172, 17.55738628, 16.11951668,\n",
       "       16.3364392 , 16.9340871 , 16.6505722 , 16.96519829, 17.32269932,\n",
       "       16.9340871 , 16.61113097, 18.08449625, 16.34813391, 15.99832925,\n",
       "       16.22910618, 15.62852251, 16.79972793, 15.01172986, 16.34700468,\n",
       "       16.85309946, 14.69152702, 16.79527497, 16.78378514, 15.62852251,\n",
       "       17.11511964, 16.11406002, 16.0760291 , 16.89528606, 16.64385221,\n",
       "       16.07010055, 15.47515809, 14.86318095, 16.76798907, 17.59897618,\n",
       "       16.78999514, 16.9671935 , 16.02593315, 17.28100464, 15.64250795,\n",
       "       16.7502366 , 16.96519829, 15.57403008, 16.34700468, 16.32522064,\n",
       "       16.46204184, 15.17729901, 15.99325307, 17.38439415, 15.19119144,\n",
       "       16.63872503, 16.0819208 , 15.44655605, 15.99513647, 16.1373921 ,\n",
       "       16.79527497, 17.9088673 , 16.03919805, 15.33812092, 16.34700468,\n",
       "       16.33151112, 14.79173736, 16.96519829, 16.21325939, 16.9756169 ,\n",
       "       16.79972793, 17.79243782, 16.34700468, 16.96519829, 15.17729901,\n",
       "       16.85309946, 15.19119144, 16.9671935 , 16.78999514, 16.5151624 ,\n",
       "       18.01698355, 17.42927848, 15.41987449, 15.73299768, 15.31459595,\n",
       "       18.22126355, 15.44655605, 16.9340871 , 14.69946159, 16.11951668,\n",
       "       16.37824563, 15.93828205, 16.28455725, 14.70917109, 16.89528606,\n",
       "       15.45814193, 16.78378514, 17.09584957, 15.41987449, 16.24675898,\n",
       "       17.16079621, 17.38439415, 16.80396448, 17.61317922, 15.95224931,\n",
       "       14.87048659, 17.32269932, 15.29599651, 16.11406002, 16.9340871 ,\n",
       "       18.01698355, 16.03919805, 15.03095861, 17.570654  , 14.87048659,\n",
       "       14.87558137, 16.11951668, 16.07392748, 17.09584957, 15.95224931,\n",
       "       14.87558137, 16.98710553, 15.50100226, 16.78999514, 15.95905802,\n",
       "       18.03063332, 16.02593315, 15.35465903, 16.38982429, 15.99325307,\n",
       "       16.76798907, 18.22126355, 17.09584957, 15.54949762, 15.98275093,\n",
       "       14.70917109, 15.98275093, 15.28297721, 16.23512947, 18.02548817,\n",
       "       16.9340871 , 16.34813391, 15.54801018, 17.09584957, 16.64385221,\n",
       "       15.07137479, 16.79527497, 18.08718129, 17.52201128, 15.95224931,\n",
       "       15.23150456, 15.28310996, 16.44949727, 16.28455725, 16.17123372,\n",
       "       16.03919805, 16.18786188, 16.78999514, 16.79972793, 16.5930821 ,\n",
       "       16.78999514, 17.55738628, 16.07392748, 16.64509172, 14.86364341,\n",
       "       16.08031795, 18.01526751, 16.79527497, 16.79972793, 17.51115945,\n",
       "       16.11406002, 16.07392748, 16.35182652, 16.28455725, 14.77124075,\n",
       "       17.51115945, 15.07137479, 15.29618576, 15.31459595, 15.19119144,\n",
       "       14.69946159, 15.67212906, 16.34813391, 16.63872503, 14.77252092,\n",
       "       16.21325939, 14.77252092, 16.7502366 , 18.060231  , 14.77252092,\n",
       "       15.96944131, 16.60508623, 16.52452172, 17.16069018, 17.11511964,\n",
       "       16.61113097, 16.08031795, 16.19841988, 17.58535883, 16.25437015,\n",
       "       16.45451481, 16.32522064, 15.50100226, 14.7535683 , 15.98160015,\n",
       "       15.9819913 , 16.87793347, 16.61113097, 16.96519829, 16.52452172,\n",
       "       16.08031795, 16.04492416, 16.37824563, 16.30996825, 16.78378514,\n",
       "       14.87048659, 18.05894893, 16.81025776, 16.52452172, 18.24426517,\n",
       "       16.79972793, 16.23066017, 15.40234799, 16.7502366 , 16.11951668,\n",
       "       16.60508623, 16.96375722, 15.95562883, 16.08031795, 15.37119552,\n",
       "       16.0748782 , 16.46204184, 17.17731109, 18.03063332, 15.50100226,\n",
       "       16.18030406, 14.69152702])"
      ]
     },
     "execution_count": 435,
     "metadata": {},
     "output_type": "execute_result"
    }
   ],
   "source": [
    "predictions "
   ]
  },
  {
   "cell_type": "code",
   "execution_count": 436,
   "id": "e065e308",
   "metadata": {},
   "outputs": [
    {
     "name": "stdout",
     "output_type": "stream",
     "text": [
      "Mean cross-validataion score: 0.81\n"
     ]
    }
   ],
   "source": [
    "scores = cross_val_score(regr_final, X_train,y_train,cv=5)\n",
    "print(\"Mean cross-validataion score: %.2f\" % scores.mean())\n"
   ]
  },
  {
   "cell_type": "code",
   "execution_count": 437,
   "id": "9ca02baf",
   "metadata": {},
   "outputs": [],
   "source": [
    "ypred = regr_final.predict(X_test)"
   ]
  },
  {
   "cell_type": "code",
   "execution_count": 438,
   "id": "8c33dee9",
   "metadata": {},
   "outputs": [],
   "source": [
    "from sklearn.metrics import mean_absolute_error, mean_squared_error, r2_score"
   ]
  },
  {
   "cell_type": "code",
   "execution_count": 439,
   "id": "8580b07e",
   "metadata": {},
   "outputs": [
    {
     "name": "stdout",
     "output_type": "stream",
     "text": [
      "Mean Absolute Error: 0.35\n",
      "Mean Squared Error: 0.19\n",
      "R2 Score: 0.82\n"
     ]
    }
   ],
   "source": [
    "mae = mean_absolute_error(y_test, ypred)\n",
    "mse = mean_squared_error(y_test, ypred)\n",
    "r2 = r2_score(y_test, ypred)\n",
    "\n",
    "# Print the evaluation metrics\n",
    "print(\"Mean Absolute Error: %.2f\" % mae)\n",
    "print(\"Mean Squared Error: %.2f\" % mse)\n",
    "print(\"R2 Score: %.2f\" % r2)"
   ]
  },
  {
   "cell_type": "code",
   "execution_count": 452,
   "id": "20ffb8c8",
   "metadata": {},
   "outputs": [
    {
     "data": {
      "image/png": "[encoded data removed]",
      "text/plain": [
       "<Figure size 1440x576 with 1 Axes>"
      ]
     },
     "metadata": {
      "needs_background": "light"
     },
     "output_type": "display_data"
    }
   ],
   "source": [
    "x_ax = range(len(y_test))\n",
    "plt.scatter(x_ax, y_test, s=5, color=\"blue\", label=\"original\")\n",
    "plt.plot(x_ax, ypred, lw=0.8, color=\"red\", label=\"predicted\")\n",
    "plt.rcParams['figure.figsize'] = (20, 8)\n",
    "\n",
    "plt.legend()\n",
    "plt.show()\n"
   ]
  },
  {
   "cell_type": "code",
   "execution_count": 449,
   "id": "91f4a278",
   "metadata": {},
   "outputs": [
    {
     "name": "stdout",
     "output_type": "stream",
     "text": [
      "Feature ranking:\n",
      "1. feature 0 (0.538917)\n",
      "2. feature 2 (0.285976)\n",
      "3. feature 4 (0.087357)\n",
      "4. feature 1 (0.083198)\n",
      "5. feature 5 (0.002516)\n",
      "6. feature 8 (0.001604)\n",
      "7. feature 3 (0.000431)\n",
      "8. feature 7 (0.000000)\n",
      "9. feature 6 (0.000000)\n"
     ]
    }
   ],
   "source": [
    "# Calculate the feature importances\n",
    "importances = regr_final.feature_importances_\n",
    "\n",
    "# Sort the feature importances in descending order\n",
    "indices = np.argsort(importances)[::-1]\n",
    "\n",
    "# Print the feature ranking\n",
    "print(\"Feature ranking:\")\n",
    "\n",
    "for f in range(X.shape[1]):\n",
    "    print(\"%d. feature %d (%f)\" % (f + 1, indices[f], importances[indices[f]]))"
   ]
  },
  {
   "cell_type": "code",
   "execution_count": 450,
   "id": "bd836c39",
   "metadata": {
    "scrolled": true
   },
   "outputs": [
    {
     "data": {
      "image/png": "[encoded data removed]",
      "text/plain": [
       "<Figure size 1080x576 with 1 Axes>"
      ]
     },
     "metadata": {
      "needs_background": "light"
     },
     "output_type": "display_data"
    }
   ],
   "source": [
    "importances = regr_final.feature_importances_\n",
    "\n",
    "# Sort the feature importances in descending order\n",
    "indices = np.argsort(importances)[::-1]\n",
    "\n",
    "# Get the names of the features\n",
    "feature_names = X.columns[indices]\n",
    "\n",
    "# Plot the feature importances\n",
    "plt.figure(figsize=(15,8))\n",
    "plt.title(\"Feature importances\")\n",
    "plt.bar(range(X.shape[1]), importances[indices],\n",
    "       color=\"red\", align=\"center\")\n",
    "plt.xticks(range(X.shape[1]), feature_names, rotation=90)\n",
    "plt.xlim([-1, X.shape[1]])\n",
    "plt.show()\n"
   ]
  },
  {
   "cell_type": "markdown",
   "id": "cb7a4f5e",
   "metadata": {},
   "source": [
    "# From this Model we can conclude that Area , Bathroom and Per_Sqft seem to be the Most important features when it comes to predicting the price. The final R2 score for the Model is coming out to be around 0.82. "
   ]
  },
  {
   "cell_type": "code",
   "execution_count": null,
   "id": "9a0dc47f",
   "metadata": {},
   "outputs": [],
   "source": []
  }
 ],
 "metadata": {
  "kernelspec": {
   "display_name": "Python 3 (ipykernel)",
   "language": "python",
   "name": "python3"
  },
  "language_info": {
   "codemirror_mode": {
    "name": "ipython",
    "version": 3
   },
   "file_extension": ".py",
   "mimetype": "text/x-python",
   "name": "python",
   "nbconvert_exporter": "python",
   "pygments_lexer": "ipython3",
   "version": "3.9.12"
  }
 },
 "nbformat": 4,
 "nbformat_minor": 5
}
