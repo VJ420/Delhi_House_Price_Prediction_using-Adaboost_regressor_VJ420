{
 "cells": [
  {
   "cell_type": "markdown",
   "id": "c24c4e6e",
   "metadata": {},
   "source": [
    "# Importing all the necessary libraries "
   ]
  },
  {
   "cell_type": "code",
   "execution_count": 132,
   "id": "caba99a0",
   "metadata": {},
   "outputs": [],
   "source": [
    "# Importing all libraries\n",
    "import pandas as pd\n",
    "import numpy as np \n",
    "import matplotlib.pyplot as plt\n",
    "import seaborn as sns\n",
    "from sklearn.model_selection import train_test_split\n",
    "from sklearn.linear_model import LinearRegression\n",
    "from sklearn.preprocessing import StandardScaler\n",
    "from sklearn.metrics import r2_score\n",
    "from sklearn.metrics import accuracy_score\n",
    "from sklearn.preprocessing import OneHotEncoder\n",
    "from sklearn.preprocessing import OrdinalEncoder\n",
    "from sklearn.compose import make_column_transformer\n",
    "from sklearn.pipeline import make_pipeline\n",
    "import pickle"
   ]
  },
  {
   "cell_type": "code",
   "execution_count": 2,
   "id": "9f4e28aa",
   "metadata": {},
   "outputs": [],
   "source": [
    "df=pd.read_csv('MagicBricks.csv')"
   ]
  },
  {
   "cell_type": "code",
   "execution_count": 3,
   "id": "2b807056",
   "metadata": {},
   "outputs": [
    {
     "data": {
      "text/plain": [
       "Index(['Area', 'BHK', 'Bathroom', 'Furnishing', 'Locality', 'Parking', 'Price',\n",
       "       'Status', 'Transaction', 'Type', 'Per_Sqft'],\n",
       "      dtype='object')"
      ]
     },
     "execution_count": 3,
     "metadata": {},
     "output_type": "execute_result"
    }
   ],
   "source": [
    "df.columns"
   ]
  },
  {
   "cell_type": "markdown",
   "id": "b746195b",
   "metadata": {},
   "source": [
    "# Data cleaning "
   ]
  },
  {
   "cell_type": "code",
   "execution_count": 5,
   "id": "4ac29d3f",
   "metadata": {},
   "outputs": [],
   "source": [
    "df_cat=df.select_dtypes(include='object')\n",
    "df_num=df.select_dtypes(include=np.number)"
   ]
  },
  {
   "cell_type": "code",
   "execution_count": 8,
   "id": "882ba99e",
   "metadata": {
    "scrolled": true
   },
   "outputs": [
    {
     "data": {
      "text/plain": [
       "Furnishing     5\n",
       "Locality       0\n",
       "Status         0\n",
       "Transaction    0\n",
       "Type           5\n",
       "dtype: int64"
      ]
     },
     "execution_count": 8,
     "metadata": {},
     "output_type": "execute_result"
    }
   ],
   "source": [
    "df_cat.isnull().sum()"
   ]
  },
  {
   "cell_type": "code",
   "execution_count": 10,
   "id": "cdf63abd",
   "metadata": {},
   "outputs": [],
   "source": [
    "\n",
    "def impute_nulls_with_mode(data):\n",
    "    for col in data.columns:\n",
    "        data[col].fillna(data[col].mode()[0], inplace=True)\n",
    "    return data"
   ]
  },
  {
   "cell_type": "code",
   "execution_count": 12,
   "id": "11456240",
   "metadata": {},
   "outputs": [],
   "source": [
    "df_cat_main=impute_nulls_with_mode(df_cat)"
   ]
  },
  {
   "cell_type": "code",
   "execution_count": 13,
   "id": "9316a86d",
   "metadata": {},
   "outputs": [
    {
     "data": {
      "text/plain": [
       "Furnishing     0\n",
       "Locality       0\n",
       "Status         0\n",
       "Transaction    0\n",
       "Type           0\n",
       "dtype: int64"
      ]
     },
     "execution_count": 13,
     "metadata": {},
     "output_type": "execute_result"
    }
   ],
   "source": [
    "df_cat_main.isnull().sum()"
   ]
  },
  {
   "cell_type": "code",
   "execution_count": 18,
   "id": "c27dd025",
   "metadata": {},
   "outputs": [],
   "source": [
    "def impute_median(data): \n",
    "    for col in data.columns:\n",
    "        data[col].fillna(data[col].median(), inplace = True)\n",
    "    return data"
   ]
  },
  {
   "cell_type": "code",
   "execution_count": 20,
   "id": "8a98c78c",
   "metadata": {},
   "outputs": [],
   "source": [
    "df_num_main=impute_median(df_num)"
   ]
  },
  {
   "cell_type": "code",
   "execution_count": 22,
   "id": "1b32b7ad",
   "metadata": {},
   "outputs": [
    {
     "data": {
      "text/plain": [
       "Area        0\n",
       "BHK         0\n",
       "Bathroom    0\n",
       "Parking     0\n",
       "Price       0\n",
       "Per_Sqft    0\n",
       "dtype: int64"
      ]
     },
     "execution_count": 22,
     "metadata": {},
     "output_type": "execute_result"
    }
   ],
   "source": [
    "df_num_main.isnull().sum()"
   ]
  },
  {
   "cell_type": "code",
   "execution_count": 23,
   "id": "bb453f9e",
   "metadata": {},
   "outputs": [],
   "source": [
    "df_main=pd.concat([df_num_main,df_cat_main],axis=1).reset_index()"
   ]
  },
  {
   "cell_type": "code",
   "execution_count": 25,
   "id": "a230f61a",
   "metadata": {},
   "outputs": [
    {
     "data": {
      "text/plain": [
       "index          0\n",
       "Area           0\n",
       "BHK            0\n",
       "Bathroom       0\n",
       "Parking        0\n",
       "Price          0\n",
       "Per_Sqft       0\n",
       "Furnishing     0\n",
       "Locality       0\n",
       "Status         0\n",
       "Transaction    0\n",
       "Type           0\n",
       "dtype: int64"
      ]
     },
     "execution_count": 25,
     "metadata": {},
     "output_type": "execute_result"
    }
   ],
   "source": [
    "df_main.isnull().sum()"
   ]
  },
  {
   "cell_type": "code",
   "execution_count": 27,
   "id": "e6b880a1",
   "metadata": {},
   "outputs": [],
   "source": [
    "## Checking for Duplicates \n",
    "\n",
    "def check_duplicate_values(dataset): \n",
    "  seen_values = set() \n",
    "  for value in dataset: \n",
    "    if value in seen_values: \n",
    "      return True\n",
    "    else: \n",
    "      seen_values.add(value) \n",
    "  return False"
   ]
  },
  {
   "cell_type": "code",
   "execution_count": 28,
   "id": "4a2b7153",
   "metadata": {},
   "outputs": [
    {
     "data": {
      "text/plain": [
       "False"
      ]
     },
     "execution_count": 28,
     "metadata": {},
     "output_type": "execute_result"
    }
   ],
   "source": [
    "check_duplicate_values(df_main)"
   ]
  },
  {
   "cell_type": "code",
   "execution_count": 29,
   "id": "5808a036",
   "metadata": {},
   "outputs": [],
   "source": [
    "## No duplicate values found "
   ]
  },
  {
   "cell_type": "markdown",
   "id": "c4667b64",
   "metadata": {},
   "source": [
    "# Performing EDA on the dataset "
   ]
  },
  {
   "cell_type": "code",
   "execution_count": 146,
   "id": "401f954b",
   "metadata": {},
   "outputs": [
    {
     "data": {
      "text/html": [
       "<div>\n",
       "<style scoped>\n",
       "    .dataframe tbody tr th:only-of-type {\n",
       "        vertical-align: middle;\n",
       "    }\n",
       "\n",
       "    .dataframe tbody tr th {\n",
       "        vertical-align: top;\n",
       "    }\n",
       "\n",
       "    .dataframe thead th {\n",
       "        text-align: right;\n",
       "    }\n",
       "</style>\n",
       "<table border=\"1\" class=\"dataframe\">\n",
       "  <thead>\n",
       "    <tr style=\"text-align: right;\">\n",
       "      <th></th>\n",
       "      <th>Area</th>\n",
       "      <th>BHK</th>\n",
       "      <th>Bathroom</th>\n",
       "      <th>Furnishing</th>\n",
       "      <th>Locality</th>\n",
       "      <th>Parking</th>\n",
       "      <th>Price</th>\n",
       "      <th>Status</th>\n",
       "      <th>Transaction</th>\n",
       "      <th>Type</th>\n",
       "      <th>Per_Sqft</th>\n",
       "    </tr>\n",
       "  </thead>\n",
       "  <tbody>\n",
       "    <tr>\n",
       "      <th>0</th>\n",
       "      <td>800.0</td>\n",
       "      <td>3</td>\n",
       "      <td>2.0</td>\n",
       "      <td>Semi-Furnished</td>\n",
       "      <td>Rohini Sector 25</td>\n",
       "      <td>1.0</td>\n",
       "      <td>6500000</td>\n",
       "      <td>Ready_to_move</td>\n",
       "      <td>New_Property</td>\n",
       "      <td>Builder_Floor</td>\n",
       "      <td>11291.5</td>\n",
       "    </tr>\n",
       "    <tr>\n",
       "      <th>1</th>\n",
       "      <td>750.0</td>\n",
       "      <td>2</td>\n",
       "      <td>2.0</td>\n",
       "      <td>Semi-Furnished</td>\n",
       "      <td>J R Designers Floors, Rohini Sector 24</td>\n",
       "      <td>1.0</td>\n",
       "      <td>5000000</td>\n",
       "      <td>Ready_to_move</td>\n",
       "      <td>New_Property</td>\n",
       "      <td>Apartment</td>\n",
       "      <td>6667.0</td>\n",
       "    </tr>\n",
       "    <tr>\n",
       "      <th>2</th>\n",
       "      <td>950.0</td>\n",
       "      <td>2</td>\n",
       "      <td>2.0</td>\n",
       "      <td>Furnished</td>\n",
       "      <td>Citizen Apartment, Rohini Sector 13</td>\n",
       "      <td>1.0</td>\n",
       "      <td>15500000</td>\n",
       "      <td>Ready_to_move</td>\n",
       "      <td>Resale</td>\n",
       "      <td>Apartment</td>\n",
       "      <td>6667.0</td>\n",
       "    </tr>\n",
       "    <tr>\n",
       "      <th>3</th>\n",
       "      <td>600.0</td>\n",
       "      <td>2</td>\n",
       "      <td>2.0</td>\n",
       "      <td>Semi-Furnished</td>\n",
       "      <td>Rohini Sector 24</td>\n",
       "      <td>1.0</td>\n",
       "      <td>4200000</td>\n",
       "      <td>Ready_to_move</td>\n",
       "      <td>Resale</td>\n",
       "      <td>Builder_Floor</td>\n",
       "      <td>6667.0</td>\n",
       "    </tr>\n",
       "    <tr>\n",
       "      <th>4</th>\n",
       "      <td>650.0</td>\n",
       "      <td>2</td>\n",
       "      <td>2.0</td>\n",
       "      <td>Semi-Furnished</td>\n",
       "      <td>Rohini Sector 24 carpet area 650 sqft status R...</td>\n",
       "      <td>1.0</td>\n",
       "      <td>6200000</td>\n",
       "      <td>Ready_to_move</td>\n",
       "      <td>New_Property</td>\n",
       "      <td>Builder_Floor</td>\n",
       "      <td>6667.0</td>\n",
       "    </tr>\n",
       "    <tr>\n",
       "      <th>...</th>\n",
       "      <td>...</td>\n",
       "      <td>...</td>\n",
       "      <td>...</td>\n",
       "      <td>...</td>\n",
       "      <td>...</td>\n",
       "      <td>...</td>\n",
       "      <td>...</td>\n",
       "      <td>...</td>\n",
       "      <td>...</td>\n",
       "      <td>...</td>\n",
       "      <td>...</td>\n",
       "    </tr>\n",
       "    <tr>\n",
       "      <th>1254</th>\n",
       "      <td>4118.0</td>\n",
       "      <td>4</td>\n",
       "      <td>5.0</td>\n",
       "      <td>Unfurnished</td>\n",
       "      <td>Chittaranjan Park</td>\n",
       "      <td>3.0</td>\n",
       "      <td>55000000</td>\n",
       "      <td>Ready_to_move</td>\n",
       "      <td>New_Property</td>\n",
       "      <td>Builder_Floor</td>\n",
       "      <td>12916.0</td>\n",
       "    </tr>\n",
       "    <tr>\n",
       "      <th>1255</th>\n",
       "      <td>1050.0</td>\n",
       "      <td>3</td>\n",
       "      <td>2.0</td>\n",
       "      <td>Semi-Furnished</td>\n",
       "      <td>Chittaranjan Park</td>\n",
       "      <td>3.0</td>\n",
       "      <td>12500000</td>\n",
       "      <td>Ready_to_move</td>\n",
       "      <td>Resale</td>\n",
       "      <td>Builder_Floor</td>\n",
       "      <td>12916.0</td>\n",
       "    </tr>\n",
       "    <tr>\n",
       "      <th>1256</th>\n",
       "      <td>875.0</td>\n",
       "      <td>3</td>\n",
       "      <td>3.0</td>\n",
       "      <td>Semi-Furnished</td>\n",
       "      <td>Chittaranjan Park</td>\n",
       "      <td>3.0</td>\n",
       "      <td>17500000</td>\n",
       "      <td>Ready_to_move</td>\n",
       "      <td>New_Property</td>\n",
       "      <td>Builder_Floor</td>\n",
       "      <td>12916.0</td>\n",
       "    </tr>\n",
       "    <tr>\n",
       "      <th>1257</th>\n",
       "      <td>990.0</td>\n",
       "      <td>2</td>\n",
       "      <td>2.0</td>\n",
       "      <td>Unfurnished</td>\n",
       "      <td>Chittaranjan Park Block A</td>\n",
       "      <td>1.0</td>\n",
       "      <td>11500000</td>\n",
       "      <td>Ready_to_move</td>\n",
       "      <td>Resale</td>\n",
       "      <td>Builder_Floor</td>\n",
       "      <td>12916.0</td>\n",
       "    </tr>\n",
       "    <tr>\n",
       "      <th>1258</th>\n",
       "      <td>11050.0</td>\n",
       "      <td>3</td>\n",
       "      <td>3.0</td>\n",
       "      <td>Unfurnished</td>\n",
       "      <td>Chittaranjan Park</td>\n",
       "      <td>1.0</td>\n",
       "      <td>18500000</td>\n",
       "      <td>Ready_to_move</td>\n",
       "      <td>New_Property</td>\n",
       "      <td>Builder_Floor</td>\n",
       "      <td>12916.0</td>\n",
       "    </tr>\n",
       "  </tbody>\n",
       "</table>\n",
       "<p>1259 rows × 11 columns</p>\n",
       "</div>"
      ],
      "text/plain": [
       "         Area  BHK  Bathroom      Furnishing  \\\n",
       "0       800.0    3       2.0  Semi-Furnished   \n",
       "1       750.0    2       2.0  Semi-Furnished   \n",
       "2       950.0    2       2.0       Furnished   \n",
       "3       600.0    2       2.0  Semi-Furnished   \n",
       "4       650.0    2       2.0  Semi-Furnished   \n",
       "...       ...  ...       ...             ...   \n",
       "1254   4118.0    4       5.0     Unfurnished   \n",
       "1255   1050.0    3       2.0  Semi-Furnished   \n",
       "1256    875.0    3       3.0  Semi-Furnished   \n",
       "1257    990.0    2       2.0     Unfurnished   \n",
       "1258  11050.0    3       3.0     Unfurnished   \n",
       "\n",
       "                                               Locality  Parking     Price  \\\n",
       "0                                      Rohini Sector 25      1.0   6500000   \n",
       "1                J R Designers Floors, Rohini Sector 24      1.0   5000000   \n",
       "2                   Citizen Apartment, Rohini Sector 13      1.0  15500000   \n",
       "3                                      Rohini Sector 24      1.0   4200000   \n",
       "4     Rohini Sector 24 carpet area 650 sqft status R...      1.0   6200000   \n",
       "...                                                 ...      ...       ...   \n",
       "1254                                  Chittaranjan Park      3.0  55000000   \n",
       "1255                                  Chittaranjan Park      3.0  12500000   \n",
       "1256                                  Chittaranjan Park      3.0  17500000   \n",
       "1257                          Chittaranjan Park Block A      1.0  11500000   \n",
       "1258                                  Chittaranjan Park      1.0  18500000   \n",
       "\n",
       "             Status   Transaction           Type  Per_Sqft  \n",
       "0     Ready_to_move  New_Property  Builder_Floor   11291.5  \n",
       "1     Ready_to_move  New_Property      Apartment    6667.0  \n",
       "2     Ready_to_move        Resale      Apartment    6667.0  \n",
       "3     Ready_to_move        Resale  Builder_Floor    6667.0  \n",
       "4     Ready_to_move  New_Property  Builder_Floor    6667.0  \n",
       "...             ...           ...            ...       ...  \n",
       "1254  Ready_to_move  New_Property  Builder_Floor   12916.0  \n",
       "1255  Ready_to_move        Resale  Builder_Floor   12916.0  \n",
       "1256  Ready_to_move  New_Property  Builder_Floor   12916.0  \n",
       "1257  Ready_to_move        Resale  Builder_Floor   12916.0  \n",
       "1258  Ready_to_move  New_Property  Builder_Floor   12916.0  \n",
       "\n",
       "[1259 rows x 11 columns]"
      ]
     },
     "execution_count": 146,
     "metadata": {},
     "output_type": "execute_result"
    }
   ],
   "source": [
    "df"
   ]
  },
  {
   "cell_type": "code",
   "execution_count": 138,
   "id": "c4ccc79a",
   "metadata": {},
   "outputs": [
    {
     "name": "stdout",
     "output_type": "stream",
     "text": [
      "Semi-Furnished    713\n",
      "Unfurnished       363\n",
      "Furnished         183\n",
      "Name: Furnishing, dtype: int64\n"
     ]
    },
    {
     "name": "stderr",
     "output_type": "stream",
     "text": [
      "D:\\ANAconda\\lib\\site-packages\\seaborn\\_decorators.py:36: FutureWarning: Pass the following variable as a keyword arg: x. From version 0.12, the only valid positional argument will be `data`, and passing other arguments without an explicit keyword will result in an error or misinterpretation.\n",
      "  warnings.warn(\n"
     ]
    },
    {
     "data": {
      "image/png": "[encoded data removed]",
      "text/plain": [
       "<Figure size 576x576 with 1 Axes>"
      ]
     },
     "metadata": {
      "needs_background": "light"
     },
     "output_type": "display_data"
    }
   ],
   "source": [
    "import seaborn as sns \n",
    "plt.figure(figsize=(8,8))\n",
    "sns.countplot(df['Furnishing'])\n",
    "print(df['Furnishing'].value_counts())"
   ]
  },
  {
   "cell_type": "code",
   "execution_count": 139,
   "id": "5b3bbc94",
   "metadata": {},
   "outputs": [
    {
     "name": "stdout",
     "output_type": "stream",
     "text": [
      "Ready_to_move    1184\n",
      "Almost_ready       75\n",
      "Name: Status, dtype: int64\n"
     ]
    },
    {
     "name": "stderr",
     "output_type": "stream",
     "text": [
      "D:\\ANAconda\\lib\\site-packages\\seaborn\\_decorators.py:36: FutureWarning: Pass the following variable as a keyword arg: x. From version 0.12, the only valid positional argument will be `data`, and passing other arguments without an explicit keyword will result in an error or misinterpretation.\n",
      "  warnings.warn(\n"
     ]
    },
    {
     "data": {
      "image/png": "[encoded data removed]",
      "text/plain": [
       "<Figure size 576x576 with 1 Axes>"
      ]
     },
     "metadata": {
      "needs_background": "light"
     },
     "output_type": "display_data"
    }
   ],
   "source": [
    "plt.figure(figsize=(8,8))\n",
    "sns.countplot(df['Status'])\n",
    "print(df['Status'].value_counts())"
   ]
  },
  {
   "cell_type": "code",
   "execution_count": 145,
   "id": "3e3a61a4",
   "metadata": {},
   "outputs": [
    {
     "name": "stdout",
     "output_type": "stream",
     "text": [
      "3     541\n",
      "2     367\n",
      "4     220\n",
      "1      96\n",
      "5      27\n",
      "6       6\n",
      "7       1\n",
      "10      1\n",
      "Name: BHK, dtype: int64\n"
     ]
    },
    {
     "name": "stderr",
     "output_type": "stream",
     "text": [
      "D:\\ANAconda\\lib\\site-packages\\seaborn\\_decorators.py:36: FutureWarning: Pass the following variable as a keyword arg: x. From version 0.12, the only valid positional argument will be `data`, and passing other arguments without an explicit keyword will result in an error or misinterpretation.\n",
      "  warnings.warn(\n"
     ]
    },
    {
     "data": {
      "image/png": "[encoded data removed]",
      "text/plain": [
       "<Figure size 720x576 with 1 Axes>"
      ]
     },
     "metadata": {
      "needs_background": "light"
     },
     "output_type": "display_data"
    }
   ],
   "source": [
    "plt.figure(figsize=(10,8))\n",
    "sns.countplot(df['BHK'])\n",
    "print(df['BHK'].value_counts())"
   ]
  },
  {
   "cell_type": "code",
   "execution_count": 148,
   "id": "20a64b11",
   "metadata": {},
   "outputs": [
    {
     "name": "stdout",
     "output_type": "stream",
     "text": [
      "1.0      829\n",
      "2.0      341\n",
      "3.0       54\n",
      "4.0       16\n",
      "5.0        7\n",
      "39.0       7\n",
      "114.0      3\n",
      "9.0        1\n",
      "10.0       1\n",
      "Name: Parking, dtype: int64\n"
     ]
    },
    {
     "name": "stderr",
     "output_type": "stream",
     "text": [
      "D:\\ANAconda\\lib\\site-packages\\seaborn\\_decorators.py:36: FutureWarning: Pass the following variable as a keyword arg: x. From version 0.12, the only valid positional argument will be `data`, and passing other arguments without an explicit keyword will result in an error or misinterpretation.\n",
      "  warnings.warn(\n"
     ]
    },
    {
     "data": {
      "image/png": "[encoded data removed]",
      "text/plain": [
       "<Figure size 576x576 with 1 Axes>"
      ]
     },
     "metadata": {
      "needs_background": "light"
     },
     "output_type": "display_data"
    }
   ],
   "source": [
    "plt.figure(figsize=(8,8))\n",
    "sns.countplot(df['Parking'])\n",
    "print(df['Parking'].value_counts())"
   ]
  },
  {
   "cell_type": "code",
   "execution_count": 151,
   "id": "3c9b5c8d",
   "metadata": {},
   "outputs": [
    {
     "name": "stdout",
     "output_type": "stream",
     "text": [
      "Builder_Floor    666\n",
      "Apartment        593\n",
      "Name: Type, dtype: int64\n"
     ]
    },
    {
     "name": "stderr",
     "output_type": "stream",
     "text": [
      "D:\\ANAconda\\lib\\site-packages\\seaborn\\_decorators.py:36: FutureWarning: Pass the following variable as a keyword arg: x. From version 0.12, the only valid positional argument will be `data`, and passing other arguments without an explicit keyword will result in an error or misinterpretation.\n",
      "  warnings.warn(\n"
     ]
    },
    {
     "data": {
      "image/png": "[encoded data removed]",
      "text/plain": [
       "<Figure size 720x576 with 1 Axes>"
      ]
     },
     "metadata": {
      "needs_background": "light"
     },
     "output_type": "display_data"
    }
   ],
   "source": [
    "plt.figure(figsize=(10,8))\n",
    "sns.countplot(df['Type'])\n",
    "print(df['Type'].value_counts())"
   ]
  },
  {
   "cell_type": "code",
   "execution_count": 232,
   "id": "e62564e1",
   "metadata": {},
   "outputs": [],
   "source": [
    "def calculate_mean_median_mode(data):\n",
    "    # Calculate mean\n",
    "    mean = sum(data) / len(data)\n",
    "\n",
    "    # Calculate median\n",
    "    sorted_data = sorted(data)\n",
    "    midpoint = len(sorted_data) // 2\n",
    "    if len(sorted_data) % 2 == 0:\n",
    "        median = (sorted_data[midpoint] + sorted_data[midpoint - 1]) / 2\n",
    "    else:\n",
    "        median = sorted_data[midpoint]\n",
    "\n",
    "    # Calculate mode\n",
    "    mode_dict = {}\n",
    "    for num in data:\n",
    "        if num in mode_dict:\n",
    "            mode_dict[num] += 1\n",
    "        else:\n",
    "            mode_dict[num] = 1\n",
    "    max_freq = max(mode_dict.values())\n",
    "    mode = [num for num, freq in mode_dict.items() if freq == max_freq]\n",
    "\n",
    "    return mean, median, mode\n",
    "\n"
   ]
  },
  {
   "cell_type": "code",
   "execution_count": 236,
   "id": "b26bbfcc",
   "metadata": {},
   "outputs": [
    {
     "name": "stdout",
     "output_type": "stream",
     "text": [
      "Mean_Price = 21306703.733121525, Median_Price = 14200000, Mode_Price = [15000000]\n"
     ]
    },
    {
     "name": "stderr",
     "output_type": "stream",
     "text": [
      "D:\\ANAconda\\lib\\site-packages\\seaborn\\_decorators.py:36: FutureWarning: Pass the following variable as a keyword arg: x. From version 0.12, the only valid positional argument will be `data`, and passing other arguments without an explicit keyword will result in an error or misinterpretation.\n",
      "  warnings.warn(\n"
     ]
    },
    {
     "data": {
      "image/png": "[encoded data removed]",
      "text/plain": [
       "<Figure size 1440x720 with 1 Axes>"
      ]
     },
     "metadata": {
      "needs_background": "light"
     },
     "output_type": "display_data"
    }
   ],
   "source": [
    "fig, ax = plt.subplots(figsize=(20, 10))\n",
    "sns.boxplot(df['Price'],ax=ax)\n",
    "\n",
    "\n",
    "mean, median, mode = calculate_mean_median_mode(df['Price'])\n",
    "print(f\"Mean_Price = {mean}, Median_Price = {median}, Mode_Price = {mode}\")"
   ]
  },
  {
   "cell_type": "code",
   "execution_count": 237,
   "id": "1e3b7a60",
   "metadata": {},
   "outputs": [
    {
     "name": "stdout",
     "output_type": "stream",
     "text": [
      "Mean_Area = 1466.4527241461476, Median_Area = 1200.0, Mode_Area = [900.0]\n"
     ]
    },
    {
     "name": "stderr",
     "output_type": "stream",
     "text": [
      "D:\\ANAconda\\lib\\site-packages\\seaborn\\_decorators.py:36: FutureWarning: Pass the following variable as a keyword arg: x. From version 0.12, the only valid positional argument will be `data`, and passing other arguments without an explicit keyword will result in an error or misinterpretation.\n",
      "  warnings.warn(\n"
     ]
    },
    {
     "data": {
      "image/png": "[encoded data removed]",
      "text/plain": [
       "<Figure size 1440x720 with 1 Axes>"
      ]
     },
     "metadata": {
      "needs_background": "light"
     },
     "output_type": "display_data"
    }
   ],
   "source": [
    "fig, ax = plt.subplots(figsize=(20, 10))\n",
    "sns.boxplot(df['Area'],ax=ax)\n",
    "mean, median, mode = calculate_mean_median_mode(df['Area'])\n",
    "print(f\"Mean_Area = {mean}, Median_Area = {median}, Mode_Area = {mode}\")"
   ]
  },
  {
   "cell_type": "code",
   "execution_count": 260,
   "id": "c0b08c10",
   "metadata": {},
   "outputs": [
    {
     "name": "stdout",
     "output_type": "stream",
     "text": [
      "Mean_Per_Sqft = 14848.141779189833, Median_Per_Sqft = 11291.5, Mode_Per_Sqft = [11291.5]\n"
     ]
    },
    {
     "name": "stderr",
     "output_type": "stream",
     "text": [
      "D:\\ANAconda\\lib\\site-packages\\seaborn\\_decorators.py:36: FutureWarning: Pass the following variable as a keyword arg: x. From version 0.12, the only valid positional argument will be `data`, and passing other arguments without an explicit keyword will result in an error or misinterpretation.\n",
      "  warnings.warn(\n"
     ]
    },
    {
     "data": {
      "image/png": "[encoded data removed]",
      "text/plain": [
       "<Figure size 1440x720 with 1 Axes>"
      ]
     },
     "metadata": {
      "needs_background": "light"
     },
     "output_type": "display_data"
    }
   ],
   "source": [
    "fig, ax = plt.subplots(figsize=(20, 10))\n",
    "sns.boxplot(df['Per_Sqft'],ax=ax)\n",
    "mean, median, mode = calculate_mean_median_mode(df['Per_Sqft'])\n",
    "print(f\"Mean_Per_Sqft = {mean}, Median_Per_Sqft = {median}, Mode_Per_Sqft = {mode}\")"
   ]
  },
  {
   "cell_type": "code",
   "execution_count": 373,
   "id": "9c89e17b",
   "metadata": {},
   "outputs": [
    {
     "name": "stderr",
     "output_type": "stream",
     "text": [
      "D:\\ANAconda\\lib\\site-packages\\seaborn\\distributions.py:2619: FutureWarning: `distplot` is a deprecated function and will be removed in a future version. Please adapt your code to use either `displot` (a figure-level function with similar flexibility) or `histplot` (an axes-level function for histograms).\n",
      "  warnings.warn(msg, FutureWarning)\n"
     ]
    },
    {
     "data": {
      "text/plain": [
       "<AxesSubplot:ylabel='Density'>"
      ]
     },
     "execution_count": 373,
     "metadata": {},
     "output_type": "execute_result"
    },
    {
     "data": {
      "image/png": "[encoded data removed]",
      "text/plain": [
       "<Figure size 864x576 with 1 Axes>"
      ]
     },
     "metadata": {
      "needs_background": "light"
     },
     "output_type": "display_data"
    }
   ],
   "source": [
    "plt.figure(figsize=(12,8))\n",
    "sns.distplot(x=df[\"Price\"],color=\"blue\")"
   ]
  },
  {
   "cell_type": "raw",
   "id": "a27a1d94",
   "metadata": {},
   "source": [
    "Clearly price seems to be skewed and resembles a right skewed distribtion"
   ]
  },
  {
   "cell_type": "markdown",
   "id": "0db2c475",
   "metadata": {},
   "source": [
    "# Bivariate Analysis"
   ]
  },
  {
   "cell_type": "code",
   "execution_count": 147,
   "id": "e414766f",
   "metadata": {},
   "outputs": [
    {
     "data": {
      "image/png": "[encoded data removed]",
      "text/plain": [
       "<Figure size 720x576 with 1 Axes>"
      ]
     },
     "metadata": {
      "needs_background": "light"
     },
     "output_type": "display_data"
    }
   ],
   "source": [
    "plt.figure(figsize=(10,8))\n",
    "plt.scatter('Area', 'Price',data=df)\n",
    "plt.title('Area vs Price Relation')\n",
    "plt.xlabel(\"Price\")\n",
    "plt.ylabel(\"Area\")\n",
    "plt.show()"
   ]
  },
  {
   "cell_type": "code",
   "execution_count": 162,
   "id": "dad182a8",
   "metadata": {},
   "outputs": [
    {
     "data": {
      "image/png": "[encoded data removed]",
      "text/plain": [
       "<Figure size 720x576 with 1 Axes>"
      ]
     },
     "metadata": {
      "needs_background": "light"
     },
     "output_type": "display_data"
    }
   ],
   "source": [
    "x1=df.Per_Sqft.astype(int)\n",
    "plt.figure(figsize=(10,8))\n",
    "plt.scatter(x1, 'Price',data=df)\n",
    "plt.title('Per_sqft vs Price Relation')\n",
    "plt.xlabel(\"Price\")\n",
    "plt.ylabel(\"Per_sqft\")\n",
    "plt.show()"
   ]
  },
  {
   "cell_type": "code",
   "execution_count": 247,
   "id": "d104c047",
   "metadata": {},
   "outputs": [
    {
     "data": {
      "text/html": [
       "<div>\n",
       "<style scoped>\n",
       "    .dataframe tbody tr th:only-of-type {\n",
       "        vertical-align: middle;\n",
       "    }\n",
       "\n",
       "    .dataframe tbody tr th {\n",
       "        vertical-align: top;\n",
       "    }\n",
       "\n",
       "    .dataframe thead th {\n",
       "        text-align: right;\n",
       "    }\n",
       "</style>\n",
       "<table border=\"1\" class=\"dataframe\">\n",
       "  <thead>\n",
       "    <tr style=\"text-align: right;\">\n",
       "      <th></th>\n",
       "      <th>Area</th>\n",
       "      <th>BHK</th>\n",
       "      <th>Bathroom</th>\n",
       "      <th>Furnishing</th>\n",
       "      <th>Locality</th>\n",
       "      <th>Parking</th>\n",
       "      <th>Price</th>\n",
       "      <th>Status</th>\n",
       "      <th>Transaction</th>\n",
       "      <th>Type</th>\n",
       "      <th>Per_Sqft</th>\n",
       "    </tr>\n",
       "  </thead>\n",
       "  <tbody>\n",
       "    <tr>\n",
       "      <th>0</th>\n",
       "      <td>800.0</td>\n",
       "      <td>3</td>\n",
       "      <td>2.0</td>\n",
       "      <td>Semi-Furnished</td>\n",
       "      <td>Rohini Sector 25</td>\n",
       "      <td>1.0</td>\n",
       "      <td>6500000</td>\n",
       "      <td>Ready_to_move</td>\n",
       "      <td>New_Property</td>\n",
       "      <td>Builder_Floor</td>\n",
       "      <td>11291.5</td>\n",
       "    </tr>\n",
       "    <tr>\n",
       "      <th>1</th>\n",
       "      <td>750.0</td>\n",
       "      <td>2</td>\n",
       "      <td>2.0</td>\n",
       "      <td>Semi-Furnished</td>\n",
       "      <td>J R Designers Floors, Rohini Sector 24</td>\n",
       "      <td>1.0</td>\n",
       "      <td>5000000</td>\n",
       "      <td>Ready_to_move</td>\n",
       "      <td>New_Property</td>\n",
       "      <td>Apartment</td>\n",
       "      <td>6667.0</td>\n",
       "    </tr>\n",
       "    <tr>\n",
       "      <th>2</th>\n",
       "      <td>950.0</td>\n",
       "      <td>2</td>\n",
       "      <td>2.0</td>\n",
       "      <td>Furnished</td>\n",
       "      <td>Citizen Apartment, Rohini Sector 13</td>\n",
       "      <td>1.0</td>\n",
       "      <td>15500000</td>\n",
       "      <td>Ready_to_move</td>\n",
       "      <td>Resale</td>\n",
       "      <td>Apartment</td>\n",
       "      <td>6667.0</td>\n",
       "    </tr>\n",
       "    <tr>\n",
       "      <th>3</th>\n",
       "      <td>600.0</td>\n",
       "      <td>2</td>\n",
       "      <td>2.0</td>\n",
       "      <td>Semi-Furnished</td>\n",
       "      <td>Rohini Sector 24</td>\n",
       "      <td>1.0</td>\n",
       "      <td>4200000</td>\n",
       "      <td>Ready_to_move</td>\n",
       "      <td>Resale</td>\n",
       "      <td>Builder_Floor</td>\n",
       "      <td>6667.0</td>\n",
       "    </tr>\n",
       "    <tr>\n",
       "      <th>4</th>\n",
       "      <td>650.0</td>\n",
       "      <td>2</td>\n",
       "      <td>2.0</td>\n",
       "      <td>Semi-Furnished</td>\n",
       "      <td>Rohini Sector 24 carpet area 650 sqft status R...</td>\n",
       "      <td>1.0</td>\n",
       "      <td>6200000</td>\n",
       "      <td>Ready_to_move</td>\n",
       "      <td>New_Property</td>\n",
       "      <td>Builder_Floor</td>\n",
       "      <td>6667.0</td>\n",
       "    </tr>\n",
       "    <tr>\n",
       "      <th>...</th>\n",
       "      <td>...</td>\n",
       "      <td>...</td>\n",
       "      <td>...</td>\n",
       "      <td>...</td>\n",
       "      <td>...</td>\n",
       "      <td>...</td>\n",
       "      <td>...</td>\n",
       "      <td>...</td>\n",
       "      <td>...</td>\n",
       "      <td>...</td>\n",
       "      <td>...</td>\n",
       "    </tr>\n",
       "    <tr>\n",
       "      <th>1254</th>\n",
       "      <td>4118.0</td>\n",
       "      <td>4</td>\n",
       "      <td>5.0</td>\n",
       "      <td>Unfurnished</td>\n",
       "      <td>Chittaranjan Park</td>\n",
       "      <td>3.0</td>\n",
       "      <td>55000000</td>\n",
       "      <td>Ready_to_move</td>\n",
       "      <td>New_Property</td>\n",
       "      <td>Builder_Floor</td>\n",
       "      <td>12916.0</td>\n",
       "    </tr>\n",
       "    <tr>\n",
       "      <th>1255</th>\n",
       "      <td>1050.0</td>\n",
       "      <td>3</td>\n",
       "      <td>2.0</td>\n",
       "      <td>Semi-Furnished</td>\n",
       "      <td>Chittaranjan Park</td>\n",
       "      <td>3.0</td>\n",
       "      <td>12500000</td>\n",
       "      <td>Ready_to_move</td>\n",
       "      <td>Resale</td>\n",
       "      <td>Builder_Floor</td>\n",
       "      <td>12916.0</td>\n",
       "    </tr>\n",
       "    <tr>\n",
       "      <th>1256</th>\n",
       "      <td>875.0</td>\n",
       "      <td>3</td>\n",
       "      <td>3.0</td>\n",
       "      <td>Semi-Furnished</td>\n",
       "      <td>Chittaranjan Park</td>\n",
       "      <td>3.0</td>\n",
       "      <td>17500000</td>\n",
       "      <td>Ready_to_move</td>\n",
       "      <td>New_Property</td>\n",
       "      <td>Builder_Floor</td>\n",
       "      <td>12916.0</td>\n",
       "    </tr>\n",
       "    <tr>\n",
       "      <th>1257</th>\n",
       "      <td>990.0</td>\n",
       "      <td>2</td>\n",
       "      <td>2.0</td>\n",
       "      <td>Unfurnished</td>\n",
       "      <td>Chittaranjan Park Block A</td>\n",
       "      <td>1.0</td>\n",
       "      <td>11500000</td>\n",
       "      <td>Ready_to_move</td>\n",
       "      <td>Resale</td>\n",
       "      <td>Builder_Floor</td>\n",
       "      <td>12916.0</td>\n",
       "    </tr>\n",
       "    <tr>\n",
       "      <th>1258</th>\n",
       "      <td>11050.0</td>\n",
       "      <td>3</td>\n",
       "      <td>3.0</td>\n",
       "      <td>Unfurnished</td>\n",
       "      <td>Chittaranjan Park</td>\n",
       "      <td>1.0</td>\n",
       "      <td>18500000</td>\n",
       "      <td>Ready_to_move</td>\n",
       "      <td>New_Property</td>\n",
       "      <td>Builder_Floor</td>\n",
       "      <td>12916.0</td>\n",
       "    </tr>\n",
       "  </tbody>\n",
       "</table>\n",
       "<p>1259 rows × 11 columns</p>\n",
       "</div>"
      ],
      "text/plain": [
       "         Area  BHK  Bathroom      Furnishing  \\\n",
       "0       800.0    3       2.0  Semi-Furnished   \n",
       "1       750.0    2       2.0  Semi-Furnished   \n",
       "2       950.0    2       2.0       Furnished   \n",
       "3       600.0    2       2.0  Semi-Furnished   \n",
       "4       650.0    2       2.0  Semi-Furnished   \n",
       "...       ...  ...       ...             ...   \n",
       "1254   4118.0    4       5.0     Unfurnished   \n",
       "1255   1050.0    3       2.0  Semi-Furnished   \n",
       "1256    875.0    3       3.0  Semi-Furnished   \n",
       "1257    990.0    2       2.0     Unfurnished   \n",
       "1258  11050.0    3       3.0     Unfurnished   \n",
       "\n",
       "                                               Locality  Parking     Price  \\\n",
       "0                                      Rohini Sector 25      1.0   6500000   \n",
       "1                J R Designers Floors, Rohini Sector 24      1.0   5000000   \n",
       "2                   Citizen Apartment, Rohini Sector 13      1.0  15500000   \n",
       "3                                      Rohini Sector 24      1.0   4200000   \n",
       "4     Rohini Sector 24 carpet area 650 sqft status R...      1.0   6200000   \n",
       "...                                                 ...      ...       ...   \n",
       "1254                                  Chittaranjan Park      3.0  55000000   \n",
       "1255                                  Chittaranjan Park      3.0  12500000   \n",
       "1256                                  Chittaranjan Park      3.0  17500000   \n",
       "1257                          Chittaranjan Park Block A      1.0  11500000   \n",
       "1258                                  Chittaranjan Park      1.0  18500000   \n",
       "\n",
       "             Status   Transaction           Type  Per_Sqft  \n",
       "0     Ready_to_move  New_Property  Builder_Floor   11291.5  \n",
       "1     Ready_to_move  New_Property      Apartment    6667.0  \n",
       "2     Ready_to_move        Resale      Apartment    6667.0  \n",
       "3     Ready_to_move        Resale  Builder_Floor    6667.0  \n",
       "4     Ready_to_move  New_Property  Builder_Floor    6667.0  \n",
       "...             ...           ...            ...       ...  \n",
       "1254  Ready_to_move  New_Property  Builder_Floor   12916.0  \n",
       "1255  Ready_to_move        Resale  Builder_Floor   12916.0  \n",
       "1256  Ready_to_move  New_Property  Builder_Floor   12916.0  \n",
       "1257  Ready_to_move        Resale  Builder_Floor   12916.0  \n",
       "1258  Ready_to_move  New_Property  Builder_Floor   12916.0  \n",
       "\n",
       "[1259 rows x 11 columns]"
      ]
     },
     "execution_count": 247,
     "metadata": {},
     "output_type": "execute_result"
    }
   ],
   "source": [
    "df"
   ]
  },
  {
   "cell_type": "code",
   "execution_count": 272,
   "id": "f7cec97c",
   "metadata": {},
   "outputs": [
    {
     "data": {
      "image/png": "[encoded data removed]",
      "text/plain": [
       "<Figure size 360x360 with 1 Axes>"
      ]
     },
     "metadata": {
      "needs_background": "light"
     },
     "output_type": "display_data"
    }
   ],
   "source": [
    "sns.catplot(x='Furnishing', y='BHK', kind='bar', data=df)\n",
    "\n",
    "# Show the plot\n",
    "plt.show()"
   ]
  },
  {
   "cell_type": "code",
   "execution_count": 277,
   "id": "cada3e05",
   "metadata": {},
   "outputs": [
    {
     "data": {
      "image/png": "[encoded data removed]",
      "text/plain": [
       "<Figure size 360x360 with 1 Axes>"
      ]
     },
     "metadata": {
      "needs_background": "light"
     },
     "output_type": "display_data"
    }
   ],
   "source": [
    "sns.catplot(x='Type', y='BHK', kind='bar', data=df)\n",
    "plt.show()"
   ]
  },
  {
   "cell_type": "markdown",
   "id": "c7814d57",
   "metadata": {},
   "source": [
    "# Checking for Correlation "
   ]
  },
  {
   "cell_type": "code",
   "execution_count": 171,
   "id": "811391a4",
   "metadata": {},
   "outputs": [
    {
     "data": {
      "text/plain": [
       "<AxesSubplot:>"
      ]
     },
     "execution_count": 171,
     "metadata": {},
     "output_type": "execute_result"
    },
    {
     "data": {
      "image/png": "[encoded data removed]",
      "text/plain": [
       "<Figure size 864x576 with 2 Axes>"
      ]
     },
     "metadata": {
      "needs_background": "light"
     },
     "output_type": "display_data"
    }
   ],
   "source": [
    "plt.figure(figsize=(12,8))\n",
    "sns.heatmap(df.corr(),annot=True)"
   ]
  },
  {
   "cell_type": "code",
   "execution_count": 197,
   "id": "8ae3714a",
   "metadata": {},
   "outputs": [],
   "source": [
    "def correlated_columns(df):\n",
    "    # List to store column names\n",
    "    col_corr = []\n",
    "    # Iterate through columns of the dataframe\n",
    "    for i in range(0, df.shape[1]):\n",
    "        # Store the column name\n",
    "        col_name = df.columns[i]\n",
    "        # Calculate correlation with other columns\n",
    "        corr = df.corr()[col_name].abs().sort_values(ascending=False)[1:]\n",
    "        # Store columns with correlation greater than 0.8\n",
    "        if len(corr[corr > 0.8]) > 0:\n",
    "            col_corr.append(col_name) \n",
    "    # Print out the list of highly correlated columns\n",
    "    print(col_corr)\n",
    "    \n"
   ]
  },
  {
   "cell_type": "code",
   "execution_count": 198,
   "id": "41835a77",
   "metadata": {},
   "outputs": [
    {
     "name": "stdout",
     "output_type": "stream",
     "text": [
      "[]\n"
     ]
    }
   ],
   "source": [
    "df_numerical=df.select_dtypes(include=np.number)\n",
    "correlated_columns(df_numerical)"
   ]
  },
  {
   "cell_type": "raw",
   "id": "7fc274eb",
   "metadata": {},
   "source": [
    "So at a threshold of 0.8 we can see that there are no correlated columns in this dataframe "
   ]
  },
  {
   "cell_type": "markdown",
   "id": "edcb1c29",
   "metadata": {},
   "source": [
    "# #Performing feature encoding on the dataset \n"
   ]
  },
  {
   "cell_type": "code",
   "execution_count": 32,
   "id": "8abe397b",
   "metadata": {},
   "outputs": [],
   "source": [
    "df_dummy=pd.get_dummies(df_main.Type,drop_first=True)"
   ]
  },
  {
   "cell_type": "code",
   "execution_count": 35,
   "id": "d890fcd2",
   "metadata": {},
   "outputs": [],
   "source": [
    "df_main.drop(columns='Type',inplace=True)"
   ]
  },
  {
   "cell_type": "code",
   "execution_count": 37,
   "id": "44af940a",
   "metadata": {},
   "outputs": [],
   "source": [
    "df_main=pd.concat([df_main,df_dummy],axis=1)"
   ]
  },
  {
   "cell_type": "code",
   "execution_count": 39,
   "id": "b3cafce1",
   "metadata": {},
   "outputs": [],
   "source": [
    "df_main.Area=df_main.Area.astype(int)"
   ]
  },
  {
   "cell_type": "code",
   "execution_count": 41,
   "id": "94b3bb53",
   "metadata": {},
   "outputs": [],
   "source": [
    "df_main.Bathroom=df_main.Bathroom.astype(int)"
   ]
  },
  {
   "cell_type": "code",
   "execution_count": 43,
   "id": "3877dce4",
   "metadata": {},
   "outputs": [],
   "source": [
    "df_main.Parking=df_main.Parking.astype(int)"
   ]
  },
  {
   "cell_type": "code",
   "execution_count": 45,
   "id": "09289991",
   "metadata": {},
   "outputs": [
    {
     "data": {
      "text/plain": [
       "array(['Semi-Furnished', 'Furnished', 'Unfurnished'], dtype=object)"
      ]
     },
     "execution_count": 45,
     "metadata": {},
     "output_type": "execute_result"
    }
   ],
   "source": [
    "df_main.Furnishing.unique()"
   ]
  },
  {
   "cell_type": "code",
   "execution_count": 47,
   "id": "91b85f92",
   "metadata": {},
   "outputs": [],
   "source": [
    "df_main.Furnishing=df_main.Furnishing.map({'Semi-Furnished':1,'Furnished':2,'Unfurnished':0})"
   ]
  },
  {
   "cell_type": "code",
   "execution_count": 52,
   "id": "e2a14fd0",
   "metadata": {},
   "outputs": [
    {
     "data": {
      "text/plain": [
       "array(['Ready_to_move', 'Almost_ready'], dtype=object)"
      ]
     },
     "execution_count": 52,
     "metadata": {},
     "output_type": "execute_result"
    }
   ],
   "source": [
    "df_main.Status.unique()"
   ]
  },
  {
   "cell_type": "code",
   "execution_count": 53,
   "id": "6bf57052",
   "metadata": {},
   "outputs": [],
   "source": [
    "df_main.Status=df_main.Status.map({'Ready_to_move':1,'Almost_ready':0})"
   ]
  },
  {
   "cell_type": "code",
   "execution_count": 55,
   "id": "ac637a57",
   "metadata": {},
   "outputs": [
    {
     "data": {
      "text/plain": [
       "array(['New_Property', 'Resale'], dtype=object)"
      ]
     },
     "execution_count": 55,
     "metadata": {},
     "output_type": "execute_result"
    }
   ],
   "source": [
    "df_main.Transaction.unique()"
   ]
  },
  {
   "cell_type": "code",
   "execution_count": 56,
   "id": "acf39bf6",
   "metadata": {},
   "outputs": [],
   "source": [
    "df_main.Transaction=df_main.Transaction.map({'New_Property':1,'Resale':0})"
   ]
  },
  {
   "cell_type": "code",
   "execution_count": 57,
   "id": "2528df6c",
   "metadata": {},
   "outputs": [
    {
     "data": {
      "text/html": [
       "<div>\n",
       "<style scoped>\n",
       "    .dataframe tbody tr th:only-of-type {\n",
       "        vertical-align: middle;\n",
       "    }\n",
       "\n",
       "    .dataframe tbody tr th {\n",
       "        vertical-align: top;\n",
       "    }\n",
       "\n",
       "    .dataframe thead th {\n",
       "        text-align: right;\n",
       "    }\n",
       "</style>\n",
       "<table border=\"1\" class=\"dataframe\">\n",
       "  <thead>\n",
       "    <tr style=\"text-align: right;\">\n",
       "      <th></th>\n",
       "      <th>index</th>\n",
       "      <th>Area</th>\n",
       "      <th>BHK</th>\n",
       "      <th>Bathroom</th>\n",
       "      <th>Parking</th>\n",
       "      <th>Price</th>\n",
       "      <th>Per_Sqft</th>\n",
       "      <th>Furnishing</th>\n",
       "      <th>Locality</th>\n",
       "      <th>Status</th>\n",
       "      <th>Transaction</th>\n",
       "      <th>Builder_Floor</th>\n",
       "    </tr>\n",
       "  </thead>\n",
       "  <tbody>\n",
       "    <tr>\n",
       "      <th>0</th>\n",
       "      <td>0</td>\n",
       "      <td>800</td>\n",
       "      <td>3</td>\n",
       "      <td>2</td>\n",
       "      <td>1</td>\n",
       "      <td>6500000</td>\n",
       "      <td>11291.5</td>\n",
       "      <td>1</td>\n",
       "      <td>Rohini Sector 25</td>\n",
       "      <td>1</td>\n",
       "      <td>1</td>\n",
       "      <td>1</td>\n",
       "    </tr>\n",
       "    <tr>\n",
       "      <th>1</th>\n",
       "      <td>1</td>\n",
       "      <td>750</td>\n",
       "      <td>2</td>\n",
       "      <td>2</td>\n",
       "      <td>1</td>\n",
       "      <td>5000000</td>\n",
       "      <td>6667.0</td>\n",
       "      <td>1</td>\n",
       "      <td>J R Designers Floors, Rohini Sector 24</td>\n",
       "      <td>1</td>\n",
       "      <td>1</td>\n",
       "      <td>0</td>\n",
       "    </tr>\n",
       "    <tr>\n",
       "      <th>2</th>\n",
       "      <td>2</td>\n",
       "      <td>950</td>\n",
       "      <td>2</td>\n",
       "      <td>2</td>\n",
       "      <td>1</td>\n",
       "      <td>15500000</td>\n",
       "      <td>6667.0</td>\n",
       "      <td>2</td>\n",
       "      <td>Citizen Apartment, Rohini Sector 13</td>\n",
       "      <td>1</td>\n",
       "      <td>0</td>\n",
       "      <td>0</td>\n",
       "    </tr>\n",
       "    <tr>\n",
       "      <th>3</th>\n",
       "      <td>3</td>\n",
       "      <td>600</td>\n",
       "      <td>2</td>\n",
       "      <td>2</td>\n",
       "      <td>1</td>\n",
       "      <td>4200000</td>\n",
       "      <td>6667.0</td>\n",
       "      <td>1</td>\n",
       "      <td>Rohini Sector 24</td>\n",
       "      <td>1</td>\n",
       "      <td>0</td>\n",
       "      <td>1</td>\n",
       "    </tr>\n",
       "    <tr>\n",
       "      <th>4</th>\n",
       "      <td>4</td>\n",
       "      <td>650</td>\n",
       "      <td>2</td>\n",
       "      <td>2</td>\n",
       "      <td>1</td>\n",
       "      <td>6200000</td>\n",
       "      <td>6667.0</td>\n",
       "      <td>1</td>\n",
       "      <td>Rohini Sector 24 carpet area 650 sqft status R...</td>\n",
       "      <td>1</td>\n",
       "      <td>1</td>\n",
       "      <td>1</td>\n",
       "    </tr>\n",
       "    <tr>\n",
       "      <th>...</th>\n",
       "      <td>...</td>\n",
       "      <td>...</td>\n",
       "      <td>...</td>\n",
       "      <td>...</td>\n",
       "      <td>...</td>\n",
       "      <td>...</td>\n",
       "      <td>...</td>\n",
       "      <td>...</td>\n",
       "      <td>...</td>\n",
       "      <td>...</td>\n",
       "      <td>...</td>\n",
       "      <td>...</td>\n",
       "    </tr>\n",
       "    <tr>\n",
       "      <th>1254</th>\n",
       "      <td>1254</td>\n",
       "      <td>4118</td>\n",
       "      <td>4</td>\n",
       "      <td>5</td>\n",
       "      <td>3</td>\n",
       "      <td>55000000</td>\n",
       "      <td>12916.0</td>\n",
       "      <td>0</td>\n",
       "      <td>Chittaranjan Park</td>\n",
       "      <td>1</td>\n",
       "      <td>1</td>\n",
       "      <td>1</td>\n",
       "    </tr>\n",
       "    <tr>\n",
       "      <th>1255</th>\n",
       "      <td>1255</td>\n",
       "      <td>1050</td>\n",
       "      <td>3</td>\n",
       "      <td>2</td>\n",
       "      <td>3</td>\n",
       "      <td>12500000</td>\n",
       "      <td>12916.0</td>\n",
       "      <td>1</td>\n",
       "      <td>Chittaranjan Park</td>\n",
       "      <td>1</td>\n",
       "      <td>0</td>\n",
       "      <td>1</td>\n",
       "    </tr>\n",
       "    <tr>\n",
       "      <th>1256</th>\n",
       "      <td>1256</td>\n",
       "      <td>875</td>\n",
       "      <td>3</td>\n",
       "      <td>3</td>\n",
       "      <td>3</td>\n",
       "      <td>17500000</td>\n",
       "      <td>12916.0</td>\n",
       "      <td>1</td>\n",
       "      <td>Chittaranjan Park</td>\n",
       "      <td>1</td>\n",
       "      <td>1</td>\n",
       "      <td>1</td>\n",
       "    </tr>\n",
       "    <tr>\n",
       "      <th>1257</th>\n",
       "      <td>1257</td>\n",
       "      <td>990</td>\n",
       "      <td>2</td>\n",
       "      <td>2</td>\n",
       "      <td>1</td>\n",
       "      <td>11500000</td>\n",
       "      <td>12916.0</td>\n",
       "      <td>0</td>\n",
       "      <td>Chittaranjan Park Block A</td>\n",
       "      <td>1</td>\n",
       "      <td>0</td>\n",
       "      <td>1</td>\n",
       "    </tr>\n",
       "    <tr>\n",
       "      <th>1258</th>\n",
       "      <td>1258</td>\n",
       "      <td>11050</td>\n",
       "      <td>3</td>\n",
       "      <td>3</td>\n",
       "      <td>1</td>\n",
       "      <td>18500000</td>\n",
       "      <td>12916.0</td>\n",
       "      <td>0</td>\n",
       "      <td>Chittaranjan Park</td>\n",
       "      <td>1</td>\n",
       "      <td>1</td>\n",
       "      <td>1</td>\n",
       "    </tr>\n",
       "  </tbody>\n",
       "</table>\n",
       "<p>1259 rows × 12 columns</p>\n",
       "</div>"
      ],
      "text/plain": [
       "      index   Area  BHK  Bathroom  Parking     Price  Per_Sqft  Furnishing  \\\n",
       "0         0    800    3         2        1   6500000   11291.5           1   \n",
       "1         1    750    2         2        1   5000000    6667.0           1   \n",
       "2         2    950    2         2        1  15500000    6667.0           2   \n",
       "3         3    600    2         2        1   4200000    6667.0           1   \n",
       "4         4    650    2         2        1   6200000    6667.0           1   \n",
       "...     ...    ...  ...       ...      ...       ...       ...         ...   \n",
       "1254   1254   4118    4         5        3  55000000   12916.0           0   \n",
       "1255   1255   1050    3         2        3  12500000   12916.0           1   \n",
       "1256   1256    875    3         3        3  17500000   12916.0           1   \n",
       "1257   1257    990    2         2        1  11500000   12916.0           0   \n",
       "1258   1258  11050    3         3        1  18500000   12916.0           0   \n",
       "\n",
       "                                               Locality  Status  Transaction  \\\n",
       "0                                      Rohini Sector 25       1            1   \n",
       "1                J R Designers Floors, Rohini Sector 24       1            1   \n",
       "2                   Citizen Apartment, Rohini Sector 13       1            0   \n",
       "3                                      Rohini Sector 24       1            0   \n",
       "4     Rohini Sector 24 carpet area 650 sqft status R...       1            1   \n",
       "...                                                 ...     ...          ...   \n",
       "1254                                  Chittaranjan Park       1            1   \n",
       "1255                                  Chittaranjan Park       1            0   \n",
       "1256                                  Chittaranjan Park       1            1   \n",
       "1257                          Chittaranjan Park Block A       1            0   \n",
       "1258                                  Chittaranjan Park       1            1   \n",
       "\n",
       "      Builder_Floor  \n",
       "0                 1  \n",
       "1                 0  \n",
       "2                 0  \n",
       "3                 1  \n",
       "4                 1  \n",
       "...             ...  \n",
       "1254              1  \n",
       "1255              1  \n",
       "1256              1  \n",
       "1257              1  \n",
       "1258              1  \n",
       "\n",
       "[1259 rows x 12 columns]"
      ]
     },
     "execution_count": 57,
     "metadata": {},
     "output_type": "execute_result"
    }
   ],
   "source": [
    "df_main"
   ]
  },
  {
   "cell_type": "markdown",
   "id": "573bfb27",
   "metadata": {},
   "source": [
    "# Dropping Locality \n"
   ]
  },
  {
   "cell_type": "code",
   "execution_count": null,
   "id": "eb9bfa18",
   "metadata": {},
   "outputs": [],
   "source": [
    "##df_main.drop(columns='Locality',inplace=True)"
   ]
  },
  {
   "cell_type": "markdown",
   "id": "d0e952f5",
   "metadata": {},
   "source": [
    "# Performing Train Test Split"
   ]
  },
  {
   "cell_type": "code",
   "execution_count": 334,
   "id": "90d26d01",
   "metadata": {},
   "outputs": [],
   "source": [
    "X=df_main.drop(columns='Price')\n",
    "y=df_main['Price']"
   ]
  },
  {
   "cell_type": "code",
   "execution_count": 335,
   "id": "ecd0ba97",
   "metadata": {},
   "outputs": [
    {
     "data": {
      "text/html": [
       "<div>\n",
       "<style scoped>\n",
       "    .dataframe tbody tr th:only-of-type {\n",
       "        vertical-align: middle;\n",
       "    }\n",
       "\n",
       "    .dataframe tbody tr th {\n",
       "        vertical-align: top;\n",
       "    }\n",
       "\n",
       "    .dataframe thead th {\n",
       "        text-align: right;\n",
       "    }\n",
       "</style>\n",
       "<table border=\"1\" class=\"dataframe\">\n",
       "  <thead>\n",
       "    <tr style=\"text-align: right;\">\n",
       "      <th></th>\n",
       "      <th>Area</th>\n",
       "      <th>BHK</th>\n",
       "      <th>Bathroom</th>\n",
       "      <th>Parking</th>\n",
       "      <th>Per_Sqft</th>\n",
       "      <th>Furnishing</th>\n",
       "      <th>Status</th>\n",
       "      <th>Transaction</th>\n",
       "      <th>Builder_Floor</th>\n",
       "    </tr>\n",
       "  </thead>\n",
       "  <tbody>\n",
       "    <tr>\n",
       "      <th>0</th>\n",
       "      <td>800</td>\n",
       "      <td>3</td>\n",
       "      <td>2</td>\n",
       "      <td>1</td>\n",
       "      <td>11291.5</td>\n",
       "      <td>1</td>\n",
       "      <td>1</td>\n",
       "      <td>1</td>\n",
       "      <td>1</td>\n",
       "    </tr>\n",
       "    <tr>\n",
       "      <th>1</th>\n",
       "      <td>750</td>\n",
       "      <td>2</td>\n",
       "      <td>2</td>\n",
       "      <td>1</td>\n",
       "      <td>6667.0</td>\n",
       "      <td>1</td>\n",
       "      <td>1</td>\n",
       "      <td>1</td>\n",
       "      <td>0</td>\n",
       "    </tr>\n",
       "    <tr>\n",
       "      <th>2</th>\n",
       "      <td>950</td>\n",
       "      <td>2</td>\n",
       "      <td>2</td>\n",
       "      <td>1</td>\n",
       "      <td>6667.0</td>\n",
       "      <td>2</td>\n",
       "      <td>1</td>\n",
       "      <td>0</td>\n",
       "      <td>0</td>\n",
       "    </tr>\n",
       "    <tr>\n",
       "      <th>3</th>\n",
       "      <td>600</td>\n",
       "      <td>2</td>\n",
       "      <td>2</td>\n",
       "      <td>1</td>\n",
       "      <td>6667.0</td>\n",
       "      <td>1</td>\n",
       "      <td>1</td>\n",
       "      <td>0</td>\n",
       "      <td>1</td>\n",
       "    </tr>\n",
       "    <tr>\n",
       "      <th>4</th>\n",
       "      <td>650</td>\n",
       "      <td>2</td>\n",
       "      <td>2</td>\n",
       "      <td>1</td>\n",
       "      <td>6667.0</td>\n",
       "      <td>1</td>\n",
       "      <td>1</td>\n",
       "      <td>1</td>\n",
       "      <td>1</td>\n",
       "    </tr>\n",
       "    <tr>\n",
       "      <th>...</th>\n",
       "      <td>...</td>\n",
       "      <td>...</td>\n",
       "      <td>...</td>\n",
       "      <td>...</td>\n",
       "      <td>...</td>\n",
       "      <td>...</td>\n",
       "      <td>...</td>\n",
       "      <td>...</td>\n",
       "      <td>...</td>\n",
       "    </tr>\n",
       "    <tr>\n",
       "      <th>1254</th>\n",
       "      <td>4118</td>\n",
       "      <td>4</td>\n",
       "      <td>5</td>\n",
       "      <td>3</td>\n",
       "      <td>12916.0</td>\n",
       "      <td>0</td>\n",
       "      <td>1</td>\n",
       "      <td>1</td>\n",
       "      <td>1</td>\n",
       "    </tr>\n",
       "    <tr>\n",
       "      <th>1255</th>\n",
       "      <td>1050</td>\n",
       "      <td>3</td>\n",
       "      <td>2</td>\n",
       "      <td>3</td>\n",
       "      <td>12916.0</td>\n",
       "      <td>1</td>\n",
       "      <td>1</td>\n",
       "      <td>0</td>\n",
       "      <td>1</td>\n",
       "    </tr>\n",
       "    <tr>\n",
       "      <th>1256</th>\n",
       "      <td>875</td>\n",
       "      <td>3</td>\n",
       "      <td>3</td>\n",
       "      <td>3</td>\n",
       "      <td>12916.0</td>\n",
       "      <td>1</td>\n",
       "      <td>1</td>\n",
       "      <td>1</td>\n",
       "      <td>1</td>\n",
       "    </tr>\n",
       "    <tr>\n",
       "      <th>1257</th>\n",
       "      <td>990</td>\n",
       "      <td>2</td>\n",
       "      <td>2</td>\n",
       "      <td>1</td>\n",
       "      <td>12916.0</td>\n",
       "      <td>0</td>\n",
       "      <td>1</td>\n",
       "      <td>0</td>\n",
       "      <td>1</td>\n",
       "    </tr>\n",
       "    <tr>\n",
       "      <th>1258</th>\n",
       "      <td>11050</td>\n",
       "      <td>3</td>\n",
       "      <td>3</td>\n",
       "      <td>1</td>\n",
       "      <td>12916.0</td>\n",
       "      <td>0</td>\n",
       "      <td>1</td>\n",
       "      <td>1</td>\n",
       "      <td>1</td>\n",
       "    </tr>\n",
       "  </tbody>\n",
       "</table>\n",
       "<p>1259 rows × 9 columns</p>\n",
       "</div>"
      ],
      "text/plain": [
       "       Area  BHK  Bathroom  Parking  Per_Sqft  Furnishing  Status  \\\n",
       "0       800    3         2        1   11291.5           1       1   \n",
       "1       750    2         2        1    6667.0           1       1   \n",
       "2       950    2         2        1    6667.0           2       1   \n",
       "3       600    2         2        1    6667.0           1       1   \n",
       "4       650    2         2        1    6667.0           1       1   \n",
       "...     ...  ...       ...      ...       ...         ...     ...   \n",
       "1254   4118    4         5        3   12916.0           0       1   \n",
       "1255   1050    3         2        3   12916.0           1       1   \n",
       "1256    875    3         3        3   12916.0           1       1   \n",
       "1257    990    2         2        1   12916.0           0       1   \n",
       "1258  11050    3         3        1   12916.0           0       1   \n",
       "\n",
       "      Transaction  Builder_Floor  \n",
       "0               1              1  \n",
       "1               1              0  \n",
       "2               0              0  \n",
       "3               0              1  \n",
       "4               1              1  \n",
       "...           ...            ...  \n",
       "1254            1              1  \n",
       "1255            0              1  \n",
       "1256            1              1  \n",
       "1257            0              1  \n",
       "1258            1              1  \n",
       "\n",
       "[1259 rows x 9 columns]"
      ]
     },
     "execution_count": 335,
     "metadata": {},
     "output_type": "execute_result"
    }
   ],
   "source": [
    "X"
   ]
  },
  {
   "cell_type": "code",
   "execution_count": 312,
   "id": "f34d8f75",
   "metadata": {},
   "outputs": [
    {
     "data": {
      "text/plain": [
       "0        6500000\n",
       "1        5000000\n",
       "2       15500000\n",
       "3        4200000\n",
       "4        6200000\n",
       "          ...   \n",
       "1254    55000000\n",
       "1255    12500000\n",
       "1256    17500000\n",
       "1257    11500000\n",
       "1258    18500000\n",
       "Name: Price, Length: 1259, dtype: int64"
      ]
     },
     "execution_count": 312,
     "metadata": {},
     "output_type": "execute_result"
    }
   ],
   "source": [
    "y"
   ]
  },
  {
   "cell_type": "code",
   "execution_count": 313,
   "id": "f60467b9",
   "metadata": {},
   "outputs": [
    {
     "name": "stdout",
     "output_type": "stream",
     "text": [
      "Shape of X_train: (1007, 9)\n",
      "Shape of X_test: (252, 9)\n",
      "Shape of y_train: (1007,)\n",
      "Shape of y_test: (252,)\n"
     ]
    }
   ],
   "source": [
    "from sklearn.model_selection import train_test_split\n",
    "X_train, X_test, y_train, y_test = train_test_split(X, y, test_size=0.2, random_state=1)\n",
    "\n",
    "print(\"Shape of X_train:\", X_train.shape)\n",
    "print(\"Shape of X_test:\", X_test.shape)\n",
    "print(\"Shape of y_train:\", y_train.shape)\n",
    "print(\"Shape of y_test:\", y_test.shape)"
   ]
  },
  {
   "cell_type": "markdown",
   "id": "752ff62c",
   "metadata": {},
   "source": [
    "# Scaling the dataset"
   ]
  },
  {
   "cell_type": "code",
   "execution_count": 314,
   "id": "911feca6",
   "metadata": {},
   "outputs": [],
   "source": [
    "from sklearn.preprocessing import StandardScaler\n",
    "sc = StandardScaler()\n",
    "X_train = sc.fit_transform(X_train)\n",
    "X_test = sc.transform (X_test)"
   ]
  },
  {
   "cell_type": "code",
   "execution_count": 315,
   "id": "000fc58f",
   "metadata": {},
   "outputs": [],
   "source": [
    "from sklearn.ensemble import AdaBoostRegressor\n",
    "from sklearn.model_selection import train_test_split\n",
    "from sklearn.model_selection import cross_val_score, KFold\n",
    "from sklearn.metrics import mean_squared_error\n",
    "import matplotlib.pyplot as plt\n"
   ]
  },
  {
   "cell_type": "code",
   "execution_count": 316,
   "id": "e42b35ad",
   "metadata": {},
   "outputs": [],
   "source": [
    "from sklearn.ensemble import AdaBoostRegressor\n",
    "\n",
    "\n",
    "# Load the Boston dataset\n",
    "\n",
    "X = X_train\n",
    "y = y_train\n",
    "\n",
    "# Create an AdaBoost regressor\n",
    "regr = AdaBoostRegressor()\n",
    "\n",
    "# Fit the model\n",
    "regr.fit(X,y)\n",
    "\n",
    "# Make predictions\n",
    "predictions = regr.predict(X_test)"
   ]
  },
  {
   "cell_type": "code",
   "execution_count": 317,
   "id": "4428c8de",
   "metadata": {},
   "outputs": [
    {
     "data": {
      "text/plain": [
       "array([1.84218579e+07, 1.99436496e+07, 1.01572222e+07, 2.88567164e+07,\n",
       "       2.57470339e+07, 2.98756757e+07, 3.08765306e+07, 2.75857143e+07,\n",
       "       2.72469388e+07, 5.07627027e+07, 1.01572222e+07, 1.01572222e+07,\n",
       "       2.72469388e+07, 2.75857143e+07, 1.01572222e+07, 2.98756757e+07,\n",
       "       1.35450667e+07, 2.72469388e+07, 2.71206573e+07, 1.11779581e+07,\n",
       "       2.71206573e+07, 1.35450667e+07, 3.08765306e+07, 4.57571324e+07,\n",
       "       1.60137500e+07, 1.35450667e+07, 2.98756757e+07, 2.71206573e+07,\n",
       "       2.98756757e+07, 4.15868627e+07, 2.75857143e+07, 1.85941000e+07,\n",
       "       9.51318182e+07, 1.99436496e+07, 1.01572222e+07, 1.72967376e+07,\n",
       "       1.01572222e+07, 2.71206573e+07, 1.01572222e+07, 1.35450667e+07,\n",
       "       2.75857143e+07, 1.01572222e+07, 2.71206573e+07, 2.71206573e+07,\n",
       "       1.01572222e+07, 3.47315315e+07, 1.11779581e+07, 1.01572222e+07,\n",
       "       2.76521538e+07, 2.44986316e+07, 1.01572222e+07, 1.01572222e+07,\n",
       "       1.01572222e+07, 2.88567164e+07, 4.38449275e+07, 2.88567164e+07,\n",
       "       3.08765306e+07, 1.01572222e+07, 4.10773554e+07, 1.01572222e+07,\n",
       "       2.44986316e+07, 2.98756757e+07, 1.01572222e+07, 1.72967376e+07,\n",
       "       1.34440351e+07, 2.44986316e+07, 1.01572222e+07, 1.11779581e+07,\n",
       "       4.57571324e+07, 1.01572222e+07, 1.99436496e+07, 1.01572222e+07,\n",
       "       1.11779581e+07, 1.11779581e+07, 1.35450667e+07, 2.71206573e+07,\n",
       "       6.47013889e+07, 1.01572222e+07, 1.01572222e+07, 1.35450667e+07,\n",
       "       1.35450667e+07, 1.01572222e+07, 2.98756757e+07, 1.72967376e+07,\n",
       "       2.98124405e+07, 2.72469388e+07, 6.47013889e+07, 1.35450667e+07,\n",
       "       2.98756757e+07, 1.01572222e+07, 2.76521538e+07, 1.01572222e+07,\n",
       "       3.08765306e+07, 2.88567164e+07, 1.85941000e+07, 6.53205298e+07,\n",
       "       2.76521538e+07, 1.11779581e+07, 1.01572222e+07, 1.01572222e+07,\n",
       "       1.79478723e+08, 1.11779581e+07, 2.98756757e+07, 1.01572222e+07,\n",
       "       1.34440351e+07, 1.84218579e+07, 1.11779581e+07, 1.34440351e+07,\n",
       "       1.01572222e+07, 3.63733333e+07, 1.34440351e+07, 2.71206573e+07,\n",
       "       5.41860494e+07, 1.11779581e+07, 1.85941000e+07, 3.81086420e+07,\n",
       "       4.38449275e+07, 2.75857143e+07, 5.83514019e+07, 1.01572222e+07,\n",
       "       1.01572222e+07, 3.99904762e+07, 1.01572222e+07, 1.11779581e+07,\n",
       "       2.98756757e+07, 6.79293839e+07, 1.01572222e+07, 1.01572222e+07,\n",
       "       6.42753165e+07, 1.01572222e+07, 1.01572222e+07, 1.34440351e+07,\n",
       "       1.11779581e+07, 4.57571324e+07, 1.01572222e+07, 1.01572222e+07,\n",
       "       3.08765306e+07, 1.01572222e+07, 2.88567164e+07, 1.01572222e+07,\n",
       "       8.01173077e+07, 1.01572222e+07, 1.01572222e+07, 1.85941000e+07,\n",
       "       1.11779581e+07, 2.57470339e+07, 1.93529412e+08, 5.79564359e+07,\n",
       "       1.11779581e+07, 1.01572222e+07, 1.01572222e+07, 1.11779581e+07,\n",
       "       1.01572222e+07, 1.72967376e+07, 6.79293839e+07, 2.98756757e+07,\n",
       "       1.84218579e+07, 1.01572222e+07, 5.79564359e+07, 2.71206573e+07,\n",
       "       1.01572222e+07, 2.71206573e+07, 1.08000000e+08, 5.77038390e+07,\n",
       "       1.01572222e+07, 1.01572222e+07, 1.01572222e+07, 1.85941000e+07,\n",
       "       1.34440351e+07, 1.11779581e+07, 1.01572222e+07, 1.72967376e+07,\n",
       "       2.57470339e+07, 2.71206573e+07, 2.44986316e+07, 2.88567164e+07,\n",
       "       4.57571324e+07, 1.11779581e+07, 2.71206573e+07, 1.01572222e+07,\n",
       "       1.01572222e+07, 6.45654088e+07, 2.71206573e+07, 2.72469388e+07,\n",
       "       3.47315315e+07, 1.72967376e+07, 1.11779581e+07, 1.35450667e+07,\n",
       "       1.86582129e+07, 1.01572222e+07, 5.77038390e+07, 1.01572222e+07,\n",
       "       1.01572222e+07, 1.01572222e+07, 1.01572222e+07, 1.01572222e+07,\n",
       "       1.01572222e+07, 1.35450667e+07, 2.44986316e+07, 1.01572222e+07,\n",
       "       1.72967376e+07, 1.01572222e+07, 2.44986316e+07, 7.44678571e+07,\n",
       "       1.01572222e+07, 1.01572222e+07, 2.44986316e+07, 1.86121348e+07,\n",
       "       3.47315315e+07, 3.08765306e+07, 1.99436496e+07, 1.01572222e+07,\n",
       "       1.35450667e+07, 5.15386139e+07, 1.99436496e+07, 1.84218579e+07,\n",
       "       1.34440351e+07, 1.01572222e+07, 1.01572222e+07, 1.11779581e+07,\n",
       "       1.11779581e+07, 3.92296296e+07, 1.99436496e+07, 2.98756757e+07,\n",
       "       1.86121348e+07, 1.01572222e+07, 1.01572222e+07, 1.84218579e+07,\n",
       "       1.34440351e+07, 2.71206573e+07, 1.01572222e+07, 8.34294118e+07,\n",
       "       2.75857143e+07, 1.85941000e+07, 1.59960526e+08, 2.71206573e+07,\n",
       "       1.72967376e+07, 1.11779581e+07, 2.44986316e+07, 1.11779581e+07,\n",
       "       1.99436496e+07, 2.98756757e+07, 1.11779581e+07, 1.01572222e+07,\n",
       "       1.11779581e+07, 1.01572222e+07, 1.99436496e+07, 5.15386139e+07,\n",
       "       7.41845238e+07, 1.01572222e+07, 1.72967376e+07, 1.01572222e+07])"
      ]
     },
     "execution_count": 317,
     "metadata": {},
     "output_type": "execute_result"
    }
   ],
   "source": [
    "predictions"
   ]
  },
  {
   "cell_type": "code",
   "execution_count": 318,
   "id": "e6cf4d60",
   "metadata": {},
   "outputs": [
    {
     "name": "stdout",
     "output_type": "stream",
     "text": [
      "Mean cross-validataion score: 0.77\n"
     ]
    }
   ],
   "source": [
    "scores = cross_val_score(regr, X_train,y_train,cv=5)\n",
    "print(\"Mean cross-validataion score: %.2f\" % scores.mean())\n"
   ]
  },
  {
   "cell_type": "code",
   "execution_count": 319,
   "id": "ed89e636",
   "metadata": {},
   "outputs": [
    {
     "name": "stdout",
     "output_type": "stream",
     "text": [
      "K-fold CV average score: 0.76\n"
     ]
    }
   ],
   "source": [
    "kfold = KFold(n_splits=10, shuffle=True)\n",
    "kf_cv_scores = cross_val_score(regr, X_train, y_train, cv=kfold )\n",
    "print(\"K-fold CV average score: %.2f\" % kf_cv_scores.mean())"
   ]
  },
  {
   "cell_type": "code",
   "execution_count": 320,
   "id": "1ce6dc9d",
   "metadata": {},
   "outputs": [
    {
     "name": "stdout",
     "output_type": "stream",
     "text": [
      "MSE: 116826302628118.45\n",
      "RMSE: 10808621.68\n"
     ]
    }
   ],
   "source": [
    "ypred = regr.predict(X_test)\n",
    "mse = mean_squared_error(y_test,ypred)\n",
    "print(\"MSE: %.2f\" % mse)\n",
    "MSE: 15.82 \n",
    "print(\"RMSE: %.2f\" % np.sqrt(mse))\n",
    "RMSE: 3.98  "
   ]
  },
  {
   "cell_type": "code",
   "execution_count": 321,
   "id": "482a7854",
   "metadata": {},
   "outputs": [
    {
     "name": "stdout",
     "output_type": "stream",
     "text": [
      "{'learning_rate': 0.5, 'loss': 'square', 'n_estimators': 100}\n",
      "AdaBoostRegressor(learning_rate=0.5, loss='square', n_estimators=100)\n"
     ]
    }
   ],
   "source": [
    "from sklearn.model_selection import GridSearchCV\n",
    "\n",
    "# create a dictionary of all values we want to test\n",
    "param_grid = {'n_estimators':[100, 500, 1000], \n",
    "              'learning_rate': [0.001, 0.01, 0.1, 0.5, 1], \n",
    "              'loss':['linear', 'square', 'exponential']\n",
    "             }\n",
    "\n",
    "# use gridsearch to test all values\n",
    "grid = GridSearchCV(regr, param_grid, cv = 3)\n",
    "\n",
    "# fit model to data\n",
    "grid.fit(X_train, y_train)\n",
    "\n",
    "# print best parameter after tuning \n",
    "print(grid.best_params_)\n",
    "\n",
    "# print how our model looks after hyper-parameter tuning \n",
    "print(grid.best_estimator_)"
   ]
  },
  {
   "cell_type": "code",
   "execution_count": 322,
   "id": "2eddcd0a",
   "metadata": {},
   "outputs": [],
   "source": [
    "from sklearn.ensemble import AdaBoostRegressor\n",
    "\n",
    "\n",
    "# Load the Boston dataset\n",
    "\n",
    "X = X_train\n",
    "y = y_train\n",
    "\n",
    "# Create an AdaBoost regressor\n",
    "regr_final = AdaBoostRegressor(learning_rate=0.5, loss='square', n_estimators=100)\n",
    "\n",
    "# Fit the model\n",
    "regr_final.fit(X,y)\n",
    "\n",
    "# Make predictions\n",
    "predictions = regr_final.predict(X_test)"
   ]
  },
  {
   "cell_type": "code",
   "execution_count": 323,
   "id": "618f2896",
   "metadata": {},
   "outputs": [
    {
     "data": {
      "text/plain": [
       "array([1.89116901e+07, 1.70757407e+07, 1.06145783e+07, 2.17244713e+07,\n",
       "       1.81630159e+07, 2.57068182e+07, 3.23368224e+07, 2.24734862e+07,\n",
       "       2.17244713e+07, 5.81500000e+07, 1.06145783e+07, 1.29892857e+07,\n",
       "       2.24734862e+07, 2.62513333e+07, 1.06145783e+07, 2.50837313e+07,\n",
       "       1.14928854e+07, 2.17244713e+07, 2.09148148e+07, 1.10799000e+07,\n",
       "       2.08982759e+07, 1.35246914e+07, 3.31824000e+07, 4.74995833e+07,\n",
       "       2.19611111e+07, 1.35246914e+07, 2.53836923e+07, 2.09148148e+07,\n",
       "       2.57068182e+07, 3.76354167e+07, 2.25913043e+07, 1.81630159e+07,\n",
       "       8.69263158e+07, 1.70757407e+07, 1.06145783e+07, 1.52084112e+07,\n",
       "       1.11138182e+07, 2.09148148e+07, 1.29892857e+07, 1.94151737e+07,\n",
       "       2.25913043e+07, 1.06145783e+07, 2.03706897e+07, 2.05196078e+07,\n",
       "       1.09700000e+07, 3.73904762e+07, 1.10799000e+07, 1.10120290e+07,\n",
       "       2.52683824e+07, 2.14394571e+07, 1.29892857e+07, 1.06145783e+07,\n",
       "       1.06145783e+07, 2.24734862e+07, 4.74995833e+07, 2.32915385e+07,\n",
       "       2.89808989e+07, 1.14928854e+07, 3.76354167e+07, 1.18728409e+07,\n",
       "       2.23275472e+07, 2.52683824e+07, 1.10120290e+07, 1.35246914e+07,\n",
       "       1.94151737e+07, 1.79479167e+07, 1.06145783e+07, 1.09700000e+07,\n",
       "       4.84778481e+07, 1.06984925e+07, 1.70757407e+07, 1.27023364e+07,\n",
       "       1.10799000e+07, 1.41850847e+07, 1.32416084e+07, 2.14394571e+07,\n",
       "       5.99345794e+07, 1.27023364e+07, 1.06145783e+07, 1.80377682e+07,\n",
       "       1.62043860e+07, 1.06145783e+07, 2.57068182e+07, 1.32416084e+07,\n",
       "       2.25879581e+07, 2.23275472e+07, 6.12484733e+07, 1.71301987e+07,\n",
       "       2.53836923e+07, 1.06145783e+07, 2.41402344e+07, 1.06145783e+07,\n",
       "       2.96100000e+07, 2.24734862e+07, 2.10578261e+07, 6.35814480e+07,\n",
       "       2.24734862e+07, 1.10120290e+07, 1.06145783e+07, 1.06145783e+07,\n",
       "       1.94954128e+08, 1.09700000e+07, 2.50837313e+07, 1.06145783e+07,\n",
       "       1.32158730e+07, 1.85929091e+07, 1.10799000e+07, 1.50892727e+07,\n",
       "       1.26002597e+07, 3.39296226e+07, 1.21017188e+07, 2.05196078e+07,\n",
       "       5.01953797e+07, 1.10120290e+07, 1.89116901e+07, 3.34984848e+07,\n",
       "       4.84778481e+07, 2.52683824e+07, 5.46733990e+07, 1.06145783e+07,\n",
       "       1.06145783e+07, 2.41402344e+07, 1.06145783e+07, 1.10799000e+07,\n",
       "       2.46544910e+07, 6.51480263e+07, 1.29892857e+07, 1.06145783e+07,\n",
       "       6.34606383e+07, 1.06145783e+07, 1.10120290e+07, 1.35117647e+07,\n",
       "       1.41850847e+07, 5.01953797e+07, 1.06145783e+07, 1.06145783e+07,\n",
       "       2.97730233e+07, 1.11138182e+07, 2.32915385e+07, 1.10120290e+07,\n",
       "       7.71182033e+07, 1.26002597e+07, 1.06984925e+07, 1.85929091e+07,\n",
       "       1.27023364e+07, 2.19611111e+07, 2.00068493e+08, 5.65983740e+07,\n",
       "       1.09700000e+07, 1.10120290e+07, 1.26002597e+07, 1.06984925e+07,\n",
       "       1.06145783e+07, 1.54408511e+07, 6.51480263e+07, 2.46295620e+07,\n",
       "       1.51566316e+07, 1.09700000e+07, 5.65983740e+07, 2.09148148e+07,\n",
       "       1.06145783e+07, 2.17175439e+07, 1.08846220e+08, 5.71094595e+07,\n",
       "       1.06145783e+07, 1.06145783e+07, 1.06145783e+07, 1.89116901e+07,\n",
       "       1.94151737e+07, 1.10799000e+07, 1.26002597e+07, 1.89116901e+07,\n",
       "       2.14394571e+07, 2.09148148e+07, 2.14394571e+07, 2.24734862e+07,\n",
       "       4.74995833e+07, 1.18728409e+07, 2.03706897e+07, 1.06145783e+07,\n",
       "       1.29892857e+07, 6.34606383e+07, 2.09148148e+07, 2.17244713e+07,\n",
       "       3.76354167e+07, 1.52084112e+07, 1.27023364e+07, 1.62043860e+07,\n",
       "       1.66773973e+07, 1.06145783e+07, 5.68181132e+07, 1.06145783e+07,\n",
       "       1.06145783e+07, 1.06145783e+07, 1.06145783e+07, 1.06145783e+07,\n",
       "       1.06145783e+07, 1.62043860e+07, 1.94151737e+07, 1.06145783e+07,\n",
       "       1.32416084e+07, 1.06145783e+07, 2.23275472e+07, 7.31842105e+07,\n",
       "       1.06984925e+07, 1.26002597e+07, 1.94151737e+07, 2.03706897e+07,\n",
       "       3.18632353e+07, 3.18632353e+07, 1.65349593e+07, 1.10120290e+07,\n",
       "       1.30134228e+07, 5.10971292e+07, 2.17175439e+07, 1.89116901e+07,\n",
       "       1.80377682e+07, 1.06145783e+07, 1.06145783e+07, 1.06984925e+07,\n",
       "       1.41850847e+07, 3.71406667e+07, 1.70757407e+07, 2.52683824e+07,\n",
       "       2.03706897e+07, 1.27023364e+07, 1.14928854e+07, 1.85929091e+07,\n",
       "       1.32416084e+07, 2.05196078e+07, 1.06145783e+07, 7.58632075e+07,\n",
       "       2.62513333e+07, 1.85929091e+07, 1.55661654e+08, 2.08982759e+07,\n",
       "       1.81630159e+07, 1.10799000e+07, 2.19611111e+07, 1.10799000e+07,\n",
       "       1.70757407e+07, 2.62513333e+07, 1.06984925e+07, 1.27023364e+07,\n",
       "       1.09700000e+07, 1.26002597e+07, 1.70757407e+07, 5.58669492e+07,\n",
       "       7.24048544e+07, 1.06145783e+07, 1.67325000e+07, 1.06145783e+07])"
      ]
     },
     "execution_count": 323,
     "metadata": {},
     "output_type": "execute_result"
    }
   ],
   "source": [
    "predictions "
   ]
  },
  {
   "cell_type": "code",
   "execution_count": 324,
   "id": "e065e308",
   "metadata": {},
   "outputs": [
    {
     "name": "stdout",
     "output_type": "stream",
     "text": [
      "Mean cross-validataion score: 0.79\n"
     ]
    }
   ],
   "source": [
    "scores = cross_val_score(regr_final, X_train,y_train,cv=5)\n",
    "print(\"Mean cross-validataion score: %.2f\" % scores.mean())\n"
   ]
  },
  {
   "cell_type": "code",
   "execution_count": 360,
   "id": "9ca02baf",
   "metadata": {},
   "outputs": [],
   "source": [
    "ypred = regr_final.predict(X_test)"
   ]
  },
  {
   "cell_type": "code",
   "execution_count": 361,
   "id": "8c33dee9",
   "metadata": {},
   "outputs": [],
   "source": [
    "from sklearn.metrics import mean_absolute_error, mean_squared_error, r2_score"
   ]
  },
  {
   "cell_type": "code",
   "execution_count": 362,
   "id": "8580b07e",
   "metadata": {},
   "outputs": [
    {
     "name": "stdout",
     "output_type": "stream",
     "text": [
      "Mean Absolute Error: 7705989.55\n",
      "Mean Squared Error: 107730441677200.06\n",
      "R2 Score: 0.84\n"
     ]
    }
   ],
   "source": [
    "mae = mean_absolute_error(y_test, ypred)\n",
    "mse = mean_squared_error(y_test, ypred)\n",
    "r2 = r2_score(y_test, ypred)\n",
    "\n",
    "# Print the evaluation metrics\n",
    "print(\"Mean Absolute Error: %.2f\" % mae)\n",
    "print(\"Mean Squared Error: %.2f\" % mse)\n",
    "print(\"R2 Score: %.2f\" % r2)"
   ]
  },
  {
   "cell_type": "code",
   "execution_count": 368,
   "id": "20ffb8c8",
   "metadata": {},
   "outputs": [
    {
     "data": {
      "image/png": "[encoded data removed]",
      "text/plain": [
       "<Figure size 1080x576 with 1 Axes>"
      ]
     },
     "metadata": {
      "needs_background": "light"
     },
     "output_type": "display_data"
    }
   ],
   "source": [
    "x_ax = range(len(y_test))\n",
    "plt.scatter(x_ax, y_test, s=5, color=\"blue\", label=\"original\")\n",
    "plt.plot(x_ax, ypred, lw=0.8, color=\"red\", label=\"predicted\")\n",
    "plt.rcParams['figure.figsize'] = (12, 8)\n",
    "\n",
    "plt.legend()\n",
    "plt.show()\n"
   ]
  },
  {
   "cell_type": "code",
   "execution_count": 327,
   "id": "91f4a278",
   "metadata": {},
   "outputs": [
    {
     "name": "stdout",
     "output_type": "stream",
     "text": [
      "Feature ranking:\n",
      "1. feature 0 (0.555408)\n",
      "2. feature 2 (0.246014)\n",
      "3. feature 4 (0.108661)\n",
      "4. feature 3 (0.040995)\n",
      "5. feature 1 (0.024593)\n",
      "6. feature 7 (0.009608)\n",
      "7. feature 6 (0.006767)\n",
      "8. feature 5 (0.006633)\n",
      "9. feature 8 (0.001320)\n"
     ]
    }
   ],
   "source": [
    "# Calculate the feature importances\n",
    "importances = regr_final.feature_importances_\n",
    "\n",
    "# Sort the feature importances in descending order\n",
    "indices = np.argsort(importances)[::-1]\n",
    "\n",
    "# Print the feature ranking\n",
    "print(\"Feature ranking:\")\n",
    "\n",
    "for f in range(X.shape[1]):\n",
    "    print(\"%d. feature %d (%f)\" % (f + 1, indices[f], importances[indices[f]]))"
   ]
  },
  {
   "cell_type": "code",
   "execution_count": 364,
   "id": "bd836c39",
   "metadata": {
    "scrolled": true
   },
   "outputs": [
    {
     "data": {
      "image/png": "[encoded data removed]",
      "text/plain": [
       "<Figure size 1080x576 with 1 Axes>"
      ]
     },
     "metadata": {
      "needs_background": "light"
     },
     "output_type": "display_data"
    }
   ],
   "source": [
    "importances = regr_final.feature_importances_\n",
    "\n",
    "# Sort the feature importances in descending order\n",
    "indices = np.argsort(importances)[::-1]\n",
    "\n",
    "# Get the names of the features\n",
    "feature_names = X.columns[indices]\n",
    "\n",
    "# Plot the feature importances\n",
    "plt.figure(figsize=(15,8))\n",
    "plt.title(\"Feature importances\")\n",
    "plt.bar(range(X.shape[1]), importances[indices],\n",
    "       color=\"red\", align=\"center\")\n",
    "plt.xticks(range(X.shape[1]), feature_names, rotation=90)\n",
    "plt.xlim([-1, X.shape[1]])\n",
    "plt.show()\n"
   ]
  },
  {
   "cell_type": "raw",
   "id": "6571207f",
   "metadata": {},
   "source": [
    "From this Model we can conclude that Area , Bathroom and Per_Sqft seem to be the Most important features when it comes to predicting the price. The final r2 score for the Model is coming out to be around 0.84. "
   ]
  }
 ],
 "metadata": {
  "kernelspec": {
   "display_name": "Python 3 (ipykernel)",
   "language": "python",
   "name": "python3"
  },
  "language_info": {
   "codemirror_mode": {
    "name": "ipython",
    "version": 3
   },
   "file_extension": ".py",
   "mimetype": "text/x-python",
   "name": "python",
   "nbconvert_exporter": "python",
   "pygments_lexer": "ipython3",
   "version": "3.9.12"
  }
 },
 "nbformat": 4,
 "nbformat_minor": 5
}
