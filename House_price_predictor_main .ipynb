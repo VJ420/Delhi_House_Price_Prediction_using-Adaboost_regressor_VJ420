{
 "cells": [
  {
   "cell_type": "markdown",
   "id": "c24c4e6e",
   "metadata": {},
   "source": [
    "# Importing all the necessary libraries "
   ]
  },
  {
   "cell_type": "markdown",
   "id": "44e4a1c3",
   "metadata": {},
   "source": [
    "# Importing all libraries\n",
    "import pandas as pd\n",
    "import numpy as np \n",
    "import matplotlib.pyplot as plt\n",
    "import seaborn as sns\n",
    "from sklearn.model_selection import train_test_split\n",
    "from sklearn.linear_model import LinearRegression\n",
    "from sklearn.preprocessing import StandardScaler\n",
    "from sklearn.metrics import r2_score\n",
    "from sklearn.metrics import accuracy_score\n",
    "from sklearn.preprocessing import OneHotEncoder\n",
    "from sklearn.preprocessing import OrdinalEncoder\n",
    "from sklearn.compose import make_column_transformer\n",
    "from sklearn.pipeline import make_pipeline\n",
    "import pickle"
   ]
  },
  {
   "cell_type": "code",
   "execution_count": 2,
   "id": "9f4e28aa",
   "metadata": {},
   "outputs": [],
   "source": [
    "df=pd.read_csv('MagicBricks.csv')"
   ]
  },
  {
   "cell_type": "code",
   "execution_count": 3,
   "id": "2b807056",
   "metadata": {},
   "outputs": [
    {
     "data": {
      "text/plain": [
       "Index(['Area', 'BHK', 'Bathroom', 'Furnishing', 'Locality', 'Parking', 'Price',\n",
       "       'Status', 'Transaction', 'Type', 'Per_Sqft'],\n",
       "      dtype='object')"
      ]
     },
     "execution_count": 3,
     "metadata": {},
     "output_type": "execute_result"
    }
   ],
   "source": [
    "df.columns"
   ]
  },
  {
   "cell_type": "markdown",
   "id": "b746195b",
   "metadata": {},
   "source": [
    "# Data cleaning "
   ]
  },
  {
   "cell_type": "code",
   "execution_count": 5,
   "id": "4ac29d3f",
   "metadata": {},
   "outputs": [],
   "source": [
    "df_cat=df.select_dtypes(include='object')\n",
    "df_num=df.select_dtypes(include=np.number)"
   ]
  },
  {
   "cell_type": "code",
   "execution_count": 8,
   "id": "882ba99e",
   "metadata": {
    "scrolled": true
   },
   "outputs": [
    {
     "data": {
      "text/plain": [
       "Furnishing     5\n",
       "Locality       0\n",
       "Status         0\n",
       "Transaction    0\n",
       "Type           5\n",
       "dtype: int64"
      ]
     },
     "execution_count": 8,
     "metadata": {},
     "output_type": "execute_result"
    }
   ],
   "source": [
    "df_cat.isnull().sum()"
   ]
  },
  {
   "cell_type": "code",
   "execution_count": 10,
   "id": "cdf63abd",
   "metadata": {},
   "outputs": [],
   "source": [
    "\n",
    "def impute_nulls_with_mode(data):\n",
    "    for col in data.columns:\n",
    "        data[col].fillna(data[col].mode()[0], inplace=True)\n",
    "    return data"
   ]
  },
  {
   "cell_type": "code",
   "execution_count": 12,
   "id": "11456240",
   "metadata": {},
   "outputs": [],
   "source": [
    "df_cat_main=impute_nulls_with_mode(df_cat)"
   ]
  },
  {
   "cell_type": "code",
   "execution_count": 13,
   "id": "9316a86d",
   "metadata": {},
   "outputs": [
    {
     "data": {
      "text/plain": [
       "Furnishing     0\n",
       "Locality       0\n",
       "Status         0\n",
       "Transaction    0\n",
       "Type           0\n",
       "dtype: int64"
      ]
     },
     "execution_count": 13,
     "metadata": {},
     "output_type": "execute_result"
    }
   ],
   "source": [
    "df_cat_main.isnull().sum()"
   ]
  },
  {
   "cell_type": "code",
   "execution_count": 18,
   "id": "c27dd025",
   "metadata": {},
   "outputs": [],
   "source": [
    "def impute_median(data): \n",
    "    for col in data.columns:\n",
    "        data[col].fillna(data[col].median(), inplace = True)\n",
    "    return data"
   ]
  },
  {
   "cell_type": "code",
   "execution_count": 20,
   "id": "8a98c78c",
   "metadata": {},
   "outputs": [],
   "source": [
    "df_num_main=impute_median(df_num)"
   ]
  },
  {
   "cell_type": "code",
   "execution_count": 22,
   "id": "1b32b7ad",
   "metadata": {},
   "outputs": [
    {
     "data": {
      "text/plain": [
       "Area        0\n",
       "BHK         0\n",
       "Bathroom    0\n",
       "Parking     0\n",
       "Price       0\n",
       "Per_Sqft    0\n",
       "dtype: int64"
      ]
     },
     "execution_count": 22,
     "metadata": {},
     "output_type": "execute_result"
    }
   ],
   "source": [
    "df_num_main.isnull().sum()"
   ]
  },
  {
   "cell_type": "code",
   "execution_count": 23,
   "id": "bb453f9e",
   "metadata": {},
   "outputs": [],
   "source": [
    "df_main=pd.concat([df_num_main,df_cat_main],axis=1).reset_index()"
   ]
  },
  {
   "cell_type": "code",
   "execution_count": 25,
   "id": "a230f61a",
   "metadata": {},
   "outputs": [
    {
     "data": {
      "text/plain": [
       "index          0\n",
       "Area           0\n",
       "BHK            0\n",
       "Bathroom       0\n",
       "Parking        0\n",
       "Price          0\n",
       "Per_Sqft       0\n",
       "Furnishing     0\n",
       "Locality       0\n",
       "Status         0\n",
       "Transaction    0\n",
       "Type           0\n",
       "dtype: int64"
      ]
     },
     "execution_count": 25,
     "metadata": {},
     "output_type": "execute_result"
    }
   ],
   "source": [
    "df_main.isnull().sum()"
   ]
  },
  {
   "cell_type": "code",
   "execution_count": 27,
   "id": "e6b880a1",
   "metadata": {},
   "outputs": [],
   "source": [
    "## Checking for Duplicates \n",
    "\n",
    "def check_duplicate_values(dataset): \n",
    "  seen_values = set() \n",
    "  for value in dataset: \n",
    "    if value in seen_values: \n",
    "      return True\n",
    "    else: \n",
    "      seen_values.add(value) \n",
    "  return False"
   ]
  },
  {
   "cell_type": "code",
   "execution_count": 28,
   "id": "4a2b7153",
   "metadata": {},
   "outputs": [
    {
     "data": {
      "text/plain": [
       "False"
      ]
     },
     "execution_count": 28,
     "metadata": {},
     "output_type": "execute_result"
    }
   ],
   "source": [
    "check_duplicate_values(df_main)"
   ]
  },
  {
   "cell_type": "code",
   "execution_count": 29,
   "id": "5808a036",
   "metadata": {},
   "outputs": [],
   "source": [
    "## No duplicate values found "
   ]
  },
  {
   "cell_type": "markdown",
   "id": "edcb1c29",
   "metadata": {},
   "source": [
    "# #Performing feature encoding on the dataset \n"
   ]
  },
  {
   "cell_type": "code",
   "execution_count": 32,
   "id": "8abe397b",
   "metadata": {},
   "outputs": [],
   "source": [
    "df_dummy=pd.get_dummies(df_main.Type,drop_first=True)"
   ]
  },
  {
   "cell_type": "code",
   "execution_count": 35,
   "id": "d890fcd2",
   "metadata": {},
   "outputs": [],
   "source": [
    "df_main.drop(columns='Type',inplace=True)"
   ]
  },
  {
   "cell_type": "code",
   "execution_count": 37,
   "id": "44af940a",
   "metadata": {},
   "outputs": [],
   "source": [
    "df_main=pd.concat([df_main,df_dummy],axis=1)"
   ]
  },
  {
   "cell_type": "code",
   "execution_count": 39,
   "id": "b3cafce1",
   "metadata": {},
   "outputs": [],
   "source": [
    "df_main.Area=df_main.Area.astype(int)"
   ]
  },
  {
   "cell_type": "code",
   "execution_count": 41,
   "id": "94b3bb53",
   "metadata": {},
   "outputs": [],
   "source": [
    "df_main.Bathroom=df_main.Bathroom.astype(int)"
   ]
  },
  {
   "cell_type": "code",
   "execution_count": 43,
   "id": "3877dce4",
   "metadata": {},
   "outputs": [],
   "source": [
    "df_main.Parking=df_main.Parking.astype(int)"
   ]
  },
  {
   "cell_type": "code",
   "execution_count": 45,
   "id": "09289991",
   "metadata": {},
   "outputs": [
    {
     "data": {
      "text/plain": [
       "array(['Semi-Furnished', 'Furnished', 'Unfurnished'], dtype=object)"
      ]
     },
     "execution_count": 45,
     "metadata": {},
     "output_type": "execute_result"
    }
   ],
   "source": [
    "df_main.Furnishing.unique()"
   ]
  },
  {
   "cell_type": "code",
   "execution_count": 47,
   "id": "91b85f92",
   "metadata": {},
   "outputs": [],
   "source": [
    "df_main.Furnishing=df_main.Furnishing.map({'Semi-Furnished':1,'Furnished':2,'Unfurnished':0})"
   ]
  },
  {
   "cell_type": "code",
   "execution_count": 52,
   "id": "e2a14fd0",
   "metadata": {},
   "outputs": [
    {
     "data": {
      "text/plain": [
       "array(['Ready_to_move', 'Almost_ready'], dtype=object)"
      ]
     },
     "execution_count": 52,
     "metadata": {},
     "output_type": "execute_result"
    }
   ],
   "source": [
    "df_main.Status.unique()"
   ]
  },
  {
   "cell_type": "code",
   "execution_count": 53,
   "id": "6bf57052",
   "metadata": {},
   "outputs": [],
   "source": [
    "df_main.Status=df_main.Status.map({'Ready_to_move':1,'Almost_ready':0})"
   ]
  },
  {
   "cell_type": "code",
   "execution_count": 55,
   "id": "ac637a57",
   "metadata": {},
   "outputs": [
    {
     "data": {
      "text/plain": [
       "array(['New_Property', 'Resale'], dtype=object)"
      ]
     },
     "execution_count": 55,
     "metadata": {},
     "output_type": "execute_result"
    }
   ],
   "source": [
    "df_main.Transaction.unique()"
   ]
  },
  {
   "cell_type": "code",
   "execution_count": 56,
   "id": "acf39bf6",
   "metadata": {},
   "outputs": [],
   "source": [
    "df_main.Transaction=df_main.Transaction.map({'New_Property':1,'Resale':0})"
   ]
  },
  {
   "cell_type": "code",
   "execution_count": 57,
   "id": "2528df6c",
   "metadata": {},
   "outputs": [
    {
     "data": {
      "text/html": [
       "<div>\n",
       "<style scoped>\n",
       "    .dataframe tbody tr th:only-of-type {\n",
       "        vertical-align: middle;\n",
       "    }\n",
       "\n",
       "    .dataframe tbody tr th {\n",
       "        vertical-align: top;\n",
       "    }\n",
       "\n",
       "    .dataframe thead th {\n",
       "        text-align: right;\n",
       "    }\n",
       "</style>\n",
       "<table border=\"1\" class=\"dataframe\">\n",
       "  <thead>\n",
       "    <tr style=\"text-align: right;\">\n",
       "      <th></th>\n",
       "      <th>index</th>\n",
       "      <th>Area</th>\n",
       "      <th>BHK</th>\n",
       "      <th>Bathroom</th>\n",
       "      <th>Parking</th>\n",
       "      <th>Price</th>\n",
       "      <th>Per_Sqft</th>\n",
       "      <th>Furnishing</th>\n",
       "      <th>Locality</th>\n",
       "      <th>Status</th>\n",
       "      <th>Transaction</th>\n",
       "      <th>Builder_Floor</th>\n",
       "    </tr>\n",
       "  </thead>\n",
       "  <tbody>\n",
       "    <tr>\n",
       "      <th>0</th>\n",
       "      <td>0</td>\n",
       "      <td>800</td>\n",
       "      <td>3</td>\n",
       "      <td>2</td>\n",
       "      <td>1</td>\n",
       "      <td>6500000</td>\n",
       "      <td>11291.5</td>\n",
       "      <td>1</td>\n",
       "      <td>Rohini Sector 25</td>\n",
       "      <td>1</td>\n",
       "      <td>1</td>\n",
       "      <td>1</td>\n",
       "    </tr>\n",
       "    <tr>\n",
       "      <th>1</th>\n",
       "      <td>1</td>\n",
       "      <td>750</td>\n",
       "      <td>2</td>\n",
       "      <td>2</td>\n",
       "      <td>1</td>\n",
       "      <td>5000000</td>\n",
       "      <td>6667.0</td>\n",
       "      <td>1</td>\n",
       "      <td>J R Designers Floors, Rohini Sector 24</td>\n",
       "      <td>1</td>\n",
       "      <td>1</td>\n",
       "      <td>0</td>\n",
       "    </tr>\n",
       "    <tr>\n",
       "      <th>2</th>\n",
       "      <td>2</td>\n",
       "      <td>950</td>\n",
       "      <td>2</td>\n",
       "      <td>2</td>\n",
       "      <td>1</td>\n",
       "      <td>15500000</td>\n",
       "      <td>6667.0</td>\n",
       "      <td>2</td>\n",
       "      <td>Citizen Apartment, Rohini Sector 13</td>\n",
       "      <td>1</td>\n",
       "      <td>0</td>\n",
       "      <td>0</td>\n",
       "    </tr>\n",
       "    <tr>\n",
       "      <th>3</th>\n",
       "      <td>3</td>\n",
       "      <td>600</td>\n",
       "      <td>2</td>\n",
       "      <td>2</td>\n",
       "      <td>1</td>\n",
       "      <td>4200000</td>\n",
       "      <td>6667.0</td>\n",
       "      <td>1</td>\n",
       "      <td>Rohini Sector 24</td>\n",
       "      <td>1</td>\n",
       "      <td>0</td>\n",
       "      <td>1</td>\n",
       "    </tr>\n",
       "    <tr>\n",
       "      <th>4</th>\n",
       "      <td>4</td>\n",
       "      <td>650</td>\n",
       "      <td>2</td>\n",
       "      <td>2</td>\n",
       "      <td>1</td>\n",
       "      <td>6200000</td>\n",
       "      <td>6667.0</td>\n",
       "      <td>1</td>\n",
       "      <td>Rohini Sector 24 carpet area 650 sqft status R...</td>\n",
       "      <td>1</td>\n",
       "      <td>1</td>\n",
       "      <td>1</td>\n",
       "    </tr>\n",
       "    <tr>\n",
       "      <th>...</th>\n",
       "      <td>...</td>\n",
       "      <td>...</td>\n",
       "      <td>...</td>\n",
       "      <td>...</td>\n",
       "      <td>...</td>\n",
       "      <td>...</td>\n",
       "      <td>...</td>\n",
       "      <td>...</td>\n",
       "      <td>...</td>\n",
       "      <td>...</td>\n",
       "      <td>...</td>\n",
       "      <td>...</td>\n",
       "    </tr>\n",
       "    <tr>\n",
       "      <th>1254</th>\n",
       "      <td>1254</td>\n",
       "      <td>4118</td>\n",
       "      <td>4</td>\n",
       "      <td>5</td>\n",
       "      <td>3</td>\n",
       "      <td>55000000</td>\n",
       "      <td>12916.0</td>\n",
       "      <td>0</td>\n",
       "      <td>Chittaranjan Park</td>\n",
       "      <td>1</td>\n",
       "      <td>1</td>\n",
       "      <td>1</td>\n",
       "    </tr>\n",
       "    <tr>\n",
       "      <th>1255</th>\n",
       "      <td>1255</td>\n",
       "      <td>1050</td>\n",
       "      <td>3</td>\n",
       "      <td>2</td>\n",
       "      <td>3</td>\n",
       "      <td>12500000</td>\n",
       "      <td>12916.0</td>\n",
       "      <td>1</td>\n",
       "      <td>Chittaranjan Park</td>\n",
       "      <td>1</td>\n",
       "      <td>0</td>\n",
       "      <td>1</td>\n",
       "    </tr>\n",
       "    <tr>\n",
       "      <th>1256</th>\n",
       "      <td>1256</td>\n",
       "      <td>875</td>\n",
       "      <td>3</td>\n",
       "      <td>3</td>\n",
       "      <td>3</td>\n",
       "      <td>17500000</td>\n",
       "      <td>12916.0</td>\n",
       "      <td>1</td>\n",
       "      <td>Chittaranjan Park</td>\n",
       "      <td>1</td>\n",
       "      <td>1</td>\n",
       "      <td>1</td>\n",
       "    </tr>\n",
       "    <tr>\n",
       "      <th>1257</th>\n",
       "      <td>1257</td>\n",
       "      <td>990</td>\n",
       "      <td>2</td>\n",
       "      <td>2</td>\n",
       "      <td>1</td>\n",
       "      <td>11500000</td>\n",
       "      <td>12916.0</td>\n",
       "      <td>0</td>\n",
       "      <td>Chittaranjan Park Block A</td>\n",
       "      <td>1</td>\n",
       "      <td>0</td>\n",
       "      <td>1</td>\n",
       "    </tr>\n",
       "    <tr>\n",
       "      <th>1258</th>\n",
       "      <td>1258</td>\n",
       "      <td>11050</td>\n",
       "      <td>3</td>\n",
       "      <td>3</td>\n",
       "      <td>1</td>\n",
       "      <td>18500000</td>\n",
       "      <td>12916.0</td>\n",
       "      <td>0</td>\n",
       "      <td>Chittaranjan Park</td>\n",
       "      <td>1</td>\n",
       "      <td>1</td>\n",
       "      <td>1</td>\n",
       "    </tr>\n",
       "  </tbody>\n",
       "</table>\n",
       "<p>1259 rows × 12 columns</p>\n",
       "</div>"
      ],
      "text/plain": [
       "      index   Area  BHK  Bathroom  Parking     Price  Per_Sqft  Furnishing  \\\n",
       "0         0    800    3         2        1   6500000   11291.5           1   \n",
       "1         1    750    2         2        1   5000000    6667.0           1   \n",
       "2         2    950    2         2        1  15500000    6667.0           2   \n",
       "3         3    600    2         2        1   4200000    6667.0           1   \n",
       "4         4    650    2         2        1   6200000    6667.0           1   \n",
       "...     ...    ...  ...       ...      ...       ...       ...         ...   \n",
       "1254   1254   4118    4         5        3  55000000   12916.0           0   \n",
       "1255   1255   1050    3         2        3  12500000   12916.0           1   \n",
       "1256   1256    875    3         3        3  17500000   12916.0           1   \n",
       "1257   1257    990    2         2        1  11500000   12916.0           0   \n",
       "1258   1258  11050    3         3        1  18500000   12916.0           0   \n",
       "\n",
       "                                               Locality  Status  Transaction  \\\n",
       "0                                      Rohini Sector 25       1            1   \n",
       "1                J R Designers Floors, Rohini Sector 24       1            1   \n",
       "2                   Citizen Apartment, Rohini Sector 13       1            0   \n",
       "3                                      Rohini Sector 24       1            0   \n",
       "4     Rohini Sector 24 carpet area 650 sqft status R...       1            1   \n",
       "...                                                 ...     ...          ...   \n",
       "1254                                  Chittaranjan Park       1            1   \n",
       "1255                                  Chittaranjan Park       1            0   \n",
       "1256                                  Chittaranjan Park       1            1   \n",
       "1257                          Chittaranjan Park Block A       1            0   \n",
       "1258                                  Chittaranjan Park       1            1   \n",
       "\n",
       "      Builder_Floor  \n",
       "0                 1  \n",
       "1                 0  \n",
       "2                 0  \n",
       "3                 1  \n",
       "4                 1  \n",
       "...             ...  \n",
       "1254              1  \n",
       "1255              1  \n",
       "1256              1  \n",
       "1257              1  \n",
       "1258              1  \n",
       "\n",
       "[1259 rows x 12 columns]"
      ]
     },
     "execution_count": 57,
     "metadata": {},
     "output_type": "execute_result"
    }
   ],
   "source": [
    "df_main"
   ]
  },
  {
   "cell_type": "markdown",
   "id": "573bfb27",
   "metadata": {},
   "source": [
    "# Dropping Locality \n"
   ]
  },
  {
   "cell_type": "code",
   "execution_count": null,
   "id": "eb9bfa18",
   "metadata": {},
   "outputs": [],
   "source": [
    "##df_main.drop(columns='Locality',inplace=True)"
   ]
  },
  {
   "cell_type": "markdown",
   "id": "d0e952f5",
   "metadata": {},
   "source": [
    "# Performing Train Test Split"
   ]
  },
  {
   "cell_type": "code",
   "execution_count": 78,
   "id": "90d26d01",
   "metadata": {},
   "outputs": [],
   "source": [
    "X=df_main.drop(columns='Price')\n",
    "y=df_main['Price']"
   ]
  },
  {
   "cell_type": "code",
   "execution_count": 81,
   "id": "ecd0ba97",
   "metadata": {},
   "outputs": [
    {
     "data": {
      "text/html": [
       "<div>\n",
       "<style scoped>\n",
       "    .dataframe tbody tr th:only-of-type {\n",
       "        vertical-align: middle;\n",
       "    }\n",
       "\n",
       "    .dataframe tbody tr th {\n",
       "        vertical-align: top;\n",
       "    }\n",
       "\n",
       "    .dataframe thead th {\n",
       "        text-align: right;\n",
       "    }\n",
       "</style>\n",
       "<table border=\"1\" class=\"dataframe\">\n",
       "  <thead>\n",
       "    <tr style=\"text-align: right;\">\n",
       "      <th></th>\n",
       "      <th>Area</th>\n",
       "      <th>BHK</th>\n",
       "      <th>Bathroom</th>\n",
       "      <th>Parking</th>\n",
       "      <th>Per_Sqft</th>\n",
       "      <th>Furnishing</th>\n",
       "      <th>Status</th>\n",
       "      <th>Transaction</th>\n",
       "      <th>Builder_Floor</th>\n",
       "    </tr>\n",
       "  </thead>\n",
       "  <tbody>\n",
       "    <tr>\n",
       "      <th>0</th>\n",
       "      <td>800</td>\n",
       "      <td>3</td>\n",
       "      <td>2</td>\n",
       "      <td>1</td>\n",
       "      <td>11291.5</td>\n",
       "      <td>1</td>\n",
       "      <td>1</td>\n",
       "      <td>1</td>\n",
       "      <td>1</td>\n",
       "    </tr>\n",
       "    <tr>\n",
       "      <th>1</th>\n",
       "      <td>750</td>\n",
       "      <td>2</td>\n",
       "      <td>2</td>\n",
       "      <td>1</td>\n",
       "      <td>6667.0</td>\n",
       "      <td>1</td>\n",
       "      <td>1</td>\n",
       "      <td>1</td>\n",
       "      <td>0</td>\n",
       "    </tr>\n",
       "    <tr>\n",
       "      <th>2</th>\n",
       "      <td>950</td>\n",
       "      <td>2</td>\n",
       "      <td>2</td>\n",
       "      <td>1</td>\n",
       "      <td>6667.0</td>\n",
       "      <td>2</td>\n",
       "      <td>1</td>\n",
       "      <td>0</td>\n",
       "      <td>0</td>\n",
       "    </tr>\n",
       "    <tr>\n",
       "      <th>3</th>\n",
       "      <td>600</td>\n",
       "      <td>2</td>\n",
       "      <td>2</td>\n",
       "      <td>1</td>\n",
       "      <td>6667.0</td>\n",
       "      <td>1</td>\n",
       "      <td>1</td>\n",
       "      <td>0</td>\n",
       "      <td>1</td>\n",
       "    </tr>\n",
       "    <tr>\n",
       "      <th>4</th>\n",
       "      <td>650</td>\n",
       "      <td>2</td>\n",
       "      <td>2</td>\n",
       "      <td>1</td>\n",
       "      <td>6667.0</td>\n",
       "      <td>1</td>\n",
       "      <td>1</td>\n",
       "      <td>1</td>\n",
       "      <td>1</td>\n",
       "    </tr>\n",
       "    <tr>\n",
       "      <th>...</th>\n",
       "      <td>...</td>\n",
       "      <td>...</td>\n",
       "      <td>...</td>\n",
       "      <td>...</td>\n",
       "      <td>...</td>\n",
       "      <td>...</td>\n",
       "      <td>...</td>\n",
       "      <td>...</td>\n",
       "      <td>...</td>\n",
       "    </tr>\n",
       "    <tr>\n",
       "      <th>1254</th>\n",
       "      <td>4118</td>\n",
       "      <td>4</td>\n",
       "      <td>5</td>\n",
       "      <td>3</td>\n",
       "      <td>12916.0</td>\n",
       "      <td>0</td>\n",
       "      <td>1</td>\n",
       "      <td>1</td>\n",
       "      <td>1</td>\n",
       "    </tr>\n",
       "    <tr>\n",
       "      <th>1255</th>\n",
       "      <td>1050</td>\n",
       "      <td>3</td>\n",
       "      <td>2</td>\n",
       "      <td>3</td>\n",
       "      <td>12916.0</td>\n",
       "      <td>1</td>\n",
       "      <td>1</td>\n",
       "      <td>0</td>\n",
       "      <td>1</td>\n",
       "    </tr>\n",
       "    <tr>\n",
       "      <th>1256</th>\n",
       "      <td>875</td>\n",
       "      <td>3</td>\n",
       "      <td>3</td>\n",
       "      <td>3</td>\n",
       "      <td>12916.0</td>\n",
       "      <td>1</td>\n",
       "      <td>1</td>\n",
       "      <td>1</td>\n",
       "      <td>1</td>\n",
       "    </tr>\n",
       "    <tr>\n",
       "      <th>1257</th>\n",
       "      <td>990</td>\n",
       "      <td>2</td>\n",
       "      <td>2</td>\n",
       "      <td>1</td>\n",
       "      <td>12916.0</td>\n",
       "      <td>0</td>\n",
       "      <td>1</td>\n",
       "      <td>0</td>\n",
       "      <td>1</td>\n",
       "    </tr>\n",
       "    <tr>\n",
       "      <th>1258</th>\n",
       "      <td>11050</td>\n",
       "      <td>3</td>\n",
       "      <td>3</td>\n",
       "      <td>1</td>\n",
       "      <td>12916.0</td>\n",
       "      <td>0</td>\n",
       "      <td>1</td>\n",
       "      <td>1</td>\n",
       "      <td>1</td>\n",
       "    </tr>\n",
       "  </tbody>\n",
       "</table>\n",
       "<p>1259 rows × 9 columns</p>\n",
       "</div>"
      ],
      "text/plain": [
       "       Area  BHK  Bathroom  Parking  Per_Sqft  Furnishing  Status  \\\n",
       "0       800    3         2        1   11291.5           1       1   \n",
       "1       750    2         2        1    6667.0           1       1   \n",
       "2       950    2         2        1    6667.0           2       1   \n",
       "3       600    2         2        1    6667.0           1       1   \n",
       "4       650    2         2        1    6667.0           1       1   \n",
       "...     ...  ...       ...      ...       ...         ...     ...   \n",
       "1254   4118    4         5        3   12916.0           0       1   \n",
       "1255   1050    3         2        3   12916.0           1       1   \n",
       "1256    875    3         3        3   12916.0           1       1   \n",
       "1257    990    2         2        1   12916.0           0       1   \n",
       "1258  11050    3         3        1   12916.0           0       1   \n",
       "\n",
       "      Transaction  Builder_Floor  \n",
       "0               1              1  \n",
       "1               1              0  \n",
       "2               0              0  \n",
       "3               0              1  \n",
       "4               1              1  \n",
       "...           ...            ...  \n",
       "1254            1              1  \n",
       "1255            0              1  \n",
       "1256            1              1  \n",
       "1257            0              1  \n",
       "1258            1              1  \n",
       "\n",
       "[1259 rows x 9 columns]"
      ]
     },
     "execution_count": 81,
     "metadata": {},
     "output_type": "execute_result"
    }
   ],
   "source": [
    "X"
   ]
  },
  {
   "cell_type": "code",
   "execution_count": 82,
   "id": "f34d8f75",
   "metadata": {},
   "outputs": [
    {
     "data": {
      "text/plain": [
       "0        6500000\n",
       "1        5000000\n",
       "2       15500000\n",
       "3        4200000\n",
       "4        6200000\n",
       "          ...   \n",
       "1254    55000000\n",
       "1255    12500000\n",
       "1256    17500000\n",
       "1257    11500000\n",
       "1258    18500000\n",
       "Name: Price, Length: 1259, dtype: int64"
      ]
     },
     "execution_count": 82,
     "metadata": {},
     "output_type": "execute_result"
    }
   ],
   "source": [
    "y"
   ]
  },
  {
   "cell_type": "code",
   "execution_count": 83,
   "id": "f60467b9",
   "metadata": {},
   "outputs": [
    {
     "name": "stdout",
     "output_type": "stream",
     "text": [
      "Shape of X_train: (1007, 9)\n",
      "Shape of X_test: (252, 9)\n",
      "Shape of y_train: (1007,)\n",
      "Shape of y_test: (252,)\n"
     ]
    }
   ],
   "source": [
    "from sklearn.model_selection import train_test_split\n",
    "X_train, X_test, y_train, y_test = train_test_split(X, y, test_size=0.2, random_state=1)\n",
    "\n",
    "print(\"Shape of X_train:\", X_train.shape)\n",
    "print(\"Shape of X_test:\", X_test.shape)\n",
    "print(\"Shape of y_train:\", y_train.shape)\n",
    "print(\"Shape of y_test:\", y_test.shape)"
   ]
  },
  {
   "cell_type": "markdown",
   "id": "752ff62c",
   "metadata": {},
   "source": [
    "# Scaling the dataset"
   ]
  },
  {
   "cell_type": "code",
   "execution_count": 86,
   "id": "911feca6",
   "metadata": {},
   "outputs": [],
   "source": [
    "from sklearn.preprocessing import StandardScaler\n",
    "sc = StandardScaler()\n",
    "X_train = sc.fit_transform(X_train)\n",
    "X_test = sc.transform (X_test)"
   ]
  },
  {
   "cell_type": "code",
   "execution_count": 93,
   "id": "000fc58f",
   "metadata": {},
   "outputs": [],
   "source": [
    "from sklearn.ensemble import AdaBoostRegressor\n",
    "from sklearn.model_selection import train_test_split\n",
    "from sklearn.model_selection import cross_val_score, KFold\n",
    "from sklearn.metrics import mean_squared_error\n",
    "import matplotlib.pyplot as plt\n"
   ]
  },
  {
   "cell_type": "code",
   "execution_count": 91,
   "id": "e42b35ad",
   "metadata": {},
   "outputs": [],
   "source": [
    "from sklearn.ensemble import AdaBoostRegressor\n",
    "\n",
    "\n",
    "# Load the Boston dataset\n",
    "\n",
    "X = X_train\n",
    "y = y_train\n",
    "\n",
    "# Create an AdaBoost regressor\n",
    "regr = AdaBoostRegressor()\n",
    "\n",
    "# Fit the model\n",
    "regr.fit(X,y)\n",
    "\n",
    "# Make predictions\n",
    "predictions = regr.predict(X_test)"
   ]
  },
  {
   "cell_type": "code",
   "execution_count": 92,
   "id": "4428c8de",
   "metadata": {},
   "outputs": [
    {
     "data": {
      "text/plain": [
       "array([1.98578295e+07, 1.98578295e+07, 1.28330986e+07, 2.93741667e+07,\n",
       "       2.30035202e+07, 3.05826484e+07, 3.27488189e+07, 2.84753425e+07,\n",
       "       2.79545455e+07, 6.00354545e+07, 1.28330986e+07, 1.59788000e+07,\n",
       "       2.79545455e+07, 3.12636364e+07, 1.21129231e+07, 2.95035714e+07,\n",
       "       1.54205185e+07, 2.75567708e+07, 2.28017172e+07, 1.54205185e+07,\n",
       "       2.30035202e+07, 1.94506481e+07, 3.27488189e+07, 4.84312808e+07,\n",
       "       2.28017172e+07, 1.94506481e+07, 3.05826484e+07, 2.28017172e+07,\n",
       "       2.95035714e+07, 4.06981013e+07, 2.84753425e+07, 2.02088710e+07,\n",
       "       1.07151678e+08, 1.98392405e+07, 1.21129231e+07, 1.94506481e+07,\n",
       "       1.28330986e+07, 2.30035202e+07, 1.28330986e+07, 2.30035202e+07,\n",
       "       2.93741667e+07, 1.21129231e+07, 2.28017172e+07, 2.29511111e+07,\n",
       "       1.21129231e+07, 4.29495876e+07, 1.54205185e+07, 1.28330986e+07,\n",
       "       3.05826484e+07, 2.61013393e+07, 1.59788000e+07, 1.21129231e+07,\n",
       "       1.21129231e+07, 2.80781356e+07, 4.65567164e+07, 2.93741667e+07,\n",
       "       3.25632353e+07, 1.21129231e+07, 3.94634328e+07, 1.21129231e+07,\n",
       "       2.75567708e+07, 2.95035714e+07, 1.28330986e+07, 1.94506481e+07,\n",
       "       1.98578295e+07, 2.12785366e+07, 1.11595000e+07, 1.54205185e+07,\n",
       "       4.65567164e+07, 1.11595000e+07, 1.98578295e+07, 1.40354464e+07,\n",
       "       1.51536782e+07, 1.61896053e+07, 1.67337778e+07, 2.30035202e+07,\n",
       "       6.22514286e+07, 1.40354464e+07, 1.11595000e+07, 1.99229371e+07,\n",
       "       1.94916525e+07, 1.21129231e+07, 2.95035714e+07, 1.90512000e+07,\n",
       "       2.79545455e+07, 2.79545455e+07, 6.73167364e+07, 1.98392405e+07,\n",
       "       2.95035714e+07, 1.11595000e+07, 2.93741667e+07, 1.21129231e+07,\n",
       "       3.25632353e+07, 2.93741667e+07, 2.28017172e+07, 6.93954128e+07,\n",
       "       2.79545455e+07, 1.40354464e+07, 1.21129231e+07, 1.11595000e+07,\n",
       "       1.84750000e+08, 1.51536782e+07, 2.95035714e+07, 1.11595000e+07,\n",
       "       1.21129231e+07, 1.95671127e+07, 1.51536782e+07, 1.67337778e+07,\n",
       "       1.21129231e+07, 3.48247934e+07, 1.21129231e+07, 2.29511111e+07,\n",
       "       5.17185759e+07, 1.51536782e+07, 2.12785366e+07, 3.59626263e+07,\n",
       "       4.65567164e+07, 3.05826484e+07, 4.79534483e+07, 1.21129231e+07,\n",
       "       1.28330986e+07, 2.79545455e+07, 1.11595000e+07, 1.54205185e+07,\n",
       "       2.95035714e+07, 6.93954128e+07, 1.59788000e+07, 1.21129231e+07,\n",
       "       6.37526718e+07, 1.28330986e+07, 1.28330986e+07, 1.28330986e+07,\n",
       "       1.59788000e+07, 4.84312808e+07, 1.21129231e+07, 1.28330986e+07,\n",
       "       3.25632353e+07, 1.28330986e+07, 2.95035714e+07, 1.28330986e+07,\n",
       "       7.59748804e+07, 1.21129231e+07, 1.11595000e+07, 1.95671127e+07,\n",
       "       1.40354464e+07, 2.75567708e+07, 1.98703704e+08, 5.85852029e+07,\n",
       "       1.51536782e+07, 1.28330986e+07, 1.21129231e+07, 1.54205185e+07,\n",
       "       1.21129231e+07, 1.94506481e+07, 6.99970954e+07, 2.93741667e+07,\n",
       "       1.95671127e+07, 1.21129231e+07, 6.22514286e+07, 2.28017172e+07,\n",
       "       1.21129231e+07, 2.79545455e+07, 1.09930556e+08, 5.85852029e+07,\n",
       "       1.28330986e+07, 1.21129231e+07, 1.21129231e+07, 1.98392405e+07,\n",
       "       1.94601493e+07, 1.54205185e+07, 1.21129231e+07, 2.28017172e+07,\n",
       "       2.75567708e+07, 2.30035202e+07, 2.79545455e+07, 2.93741667e+07,\n",
       "       4.84312808e+07, 1.61896053e+07, 2.28017172e+07, 1.11595000e+07,\n",
       "       1.59788000e+07, 6.93954128e+07, 2.30035202e+07, 2.75567708e+07,\n",
       "       4.06981013e+07, 1.90512000e+07, 1.42313725e+07, 1.95671127e+07,\n",
       "       1.95671127e+07, 1.21129231e+07, 5.85852029e+07, 1.11595000e+07,\n",
       "       1.11595000e+07, 1.21129231e+07, 1.11595000e+07, 1.11595000e+07,\n",
       "       1.21129231e+07, 1.95671127e+07, 2.18358716e+07, 1.11595000e+07,\n",
       "       1.90512000e+07, 1.21129231e+07, 2.75567708e+07, 7.17857143e+07,\n",
       "       1.21129231e+07, 1.28330986e+07, 2.18358716e+07, 2.18358716e+07,\n",
       "       3.77630952e+07, 3.22353659e+07, 1.98578295e+07, 1.28330986e+07,\n",
       "       1.54205185e+07, 4.91618421e+07, 2.27652941e+07, 1.95671127e+07,\n",
       "       1.95671127e+07, 1.21129231e+07, 1.11595000e+07, 1.54205185e+07,\n",
       "       1.91501639e+07, 4.02553571e+07, 1.98578295e+07, 2.95035714e+07,\n",
       "       2.18358716e+07, 1.40354464e+07, 1.28330986e+07, 1.95671127e+07,\n",
       "       1.90512000e+07, 2.29511111e+07, 1.21129231e+07, 7.34660465e+07,\n",
       "       3.12636364e+07, 1.98392405e+07, 1.57171642e+08, 2.28017172e+07,\n",
       "       2.09132645e+07, 1.51536782e+07, 2.75567708e+07, 1.54205185e+07,\n",
       "       1.98578295e+07, 2.95035714e+07, 1.54205185e+07, 1.40354464e+07,\n",
       "       1.51536782e+07, 1.28330986e+07, 1.98392405e+07, 6.00354545e+07,\n",
       "       6.37526718e+07, 1.28330986e+07, 1.99229371e+07, 1.11595000e+07])"
      ]
     },
     "execution_count": 92,
     "metadata": {},
     "output_type": "execute_result"
    }
   ],
   "source": [
    "predictions"
   ]
  },
  {
   "cell_type": "code",
   "execution_count": 97,
   "id": "e6cf4d60",
   "metadata": {},
   "outputs": [
    {
     "name": "stdout",
     "output_type": "stream",
     "text": [
      "Mean cross-validataion score: 0.76\n"
     ]
    }
   ],
   "source": [
    "scores = cross_val_score(regr, X_train,y_train,cv=5)\n",
    "print(\"Mean cross-validataion score: %.2f\" % scores.mean())\n"
   ]
  },
  {
   "cell_type": "code",
   "execution_count": 98,
   "id": "ed89e636",
   "metadata": {},
   "outputs": [
    {
     "name": "stdout",
     "output_type": "stream",
     "text": [
      "K-fold CV average score: 0.73\n"
     ]
    }
   ],
   "source": [
    "kfold = KFold(n_splits=10, shuffle=True)\n",
    "kf_cv_scores = cross_val_score(regr, X_train, y_train, cv=kfold )\n",
    "print(\"K-fold CV average score: %.2f\" % kf_cv_scores.mean())"
   ]
  },
  {
   "cell_type": "code",
   "execution_count": 103,
   "id": "1ce6dc9d",
   "metadata": {},
   "outputs": [
    {
     "name": "stdout",
     "output_type": "stream",
     "text": [
      "MSE: 135146312533854.20\n",
      "RMSE: 11625244.62\n"
     ]
    }
   ],
   "source": [
    "ypred = regr.predict(X_test)\n",
    "mse = mean_squared_error(y_test,ypred)\n",
    "print(\"MSE: %.2f\" % mse)\n",
    "MSE: 15.82 \n",
    "print(\"RMSE: %.2f\" % np.sqrt(mse))\n",
    "RMSE: 3.98  "
   ]
  },
  {
   "cell_type": "code",
   "execution_count": 109,
   "id": "482a7854",
   "metadata": {},
   "outputs": [
    {
     "name": "stdout",
     "output_type": "stream",
     "text": [
      "{'learning_rate': 0.5, 'loss': 'square', 'n_estimators': 100}\n",
      "AdaBoostRegressor(learning_rate=0.5, loss='square', n_estimators=100)\n"
     ]
    }
   ],
   "source": [
    "from sklearn.model_selection import GridSearchCV\n",
    "\n",
    "# create a dictionary of all values we want to test\n",
    "param_grid = {'n_estimators':[100, 500, 1000], \n",
    "              'learning_rate': [0.001, 0.01, 0.1, 0.5, 1], \n",
    "              'loss':['linear', 'square', 'exponential']\n",
    "             }\n",
    "\n",
    "# use gridsearch to test all values\n",
    "grid = GridSearchCV(regr, param_grid, cv = 3)\n",
    "\n",
    "# fit model to data\n",
    "grid.fit(X_train, y_train)\n",
    "\n",
    "# print best parameter after tuning \n",
    "print(grid.best_params_)\n",
    "\n",
    "# print how our model looks after hyper-parameter tuning \n",
    "print(grid.best_estimator_)"
   ]
  },
  {
   "cell_type": "code",
   "execution_count": 110,
   "id": "2eddcd0a",
   "metadata": {},
   "outputs": [],
   "source": [
    "from sklearn.ensemble import AdaBoostRegressor\n",
    "\n",
    "\n",
    "# Load the Boston dataset\n",
    "\n",
    "X = X_train\n",
    "y = y_train\n",
    "\n",
    "# Create an AdaBoost regressor\n",
    "regr_final = AdaBoostRegressor(learning_rate=0.5, loss='square', n_estimators=100)\n",
    "\n",
    "# Fit the model\n",
    "regr_final.fit(X,y)\n",
    "\n",
    "# Make predictions\n",
    "predictions = regr_final.predict(X_test)"
   ]
  },
  {
   "cell_type": "code",
   "execution_count": 111,
   "id": "618f2896",
   "metadata": {},
   "outputs": [
    {
     "data": {
      "text/plain": [
       "array([1.75767857e+07, 1.84797590e+07, 1.14165766e+07, 2.24011494e+07,\n",
       "       2.23495808e+07, 2.74854922e+07, 3.31321678e+07, 2.35231707e+07,\n",
       "       2.38356881e+07, 5.50108421e+07, 1.12767220e+07, 1.29341885e+07,\n",
       "       2.47336634e+07, 2.72298851e+07, 1.12767220e+07, 2.74854922e+07,\n",
       "       1.19923377e+07, 2.35231707e+07, 2.23495808e+07, 1.26639303e+07,\n",
       "       2.16420290e+07, 1.35749660e+07, 3.12000000e+07, 4.95093023e+07,\n",
       "       2.09147541e+07, 1.39220354e+07, 2.75751381e+07, 2.23495808e+07,\n",
       "       2.75338710e+07, 4.00698701e+07, 2.38356881e+07, 1.68041463e+07,\n",
       "       7.35137931e+07, 1.84797590e+07, 1.07179688e+07, 1.55425641e+07,\n",
       "       1.14165766e+07, 2.23495808e+07, 1.26639303e+07, 1.87309346e+07,\n",
       "       2.56140678e+07, 1.12767220e+07, 2.11296970e+07, 2.09147541e+07,\n",
       "       1.12767220e+07, 3.56694215e+07, 1.26639303e+07, 1.14165766e+07,\n",
       "       2.47336634e+07, 2.05829738e+07, 1.29341885e+07, 1.08257724e+07,\n",
       "       1.08257724e+07, 2.24011494e+07, 4.91542857e+07, 2.56140678e+07,\n",
       "       2.85381443e+07, 1.15738017e+07, 4.33740566e+07, 1.26639303e+07,\n",
       "       2.16420290e+07, 2.74854922e+07, 1.22056566e+07, 1.35749660e+07,\n",
       "       1.55425641e+07, 1.89637500e+07, 1.08257724e+07, 1.26639303e+07,\n",
       "       4.95093023e+07, 1.08257724e+07, 1.84797590e+07, 1.26506667e+07,\n",
       "       1.26639303e+07, 1.43649505e+07, 1.34134483e+07, 2.23495808e+07,\n",
       "       6.01274052e+07, 1.26506667e+07, 1.08257724e+07, 1.64044262e+07,\n",
       "       1.50477778e+07, 1.14165766e+07, 2.74854922e+07, 1.33870000e+07,\n",
       "       2.58048035e+07, 2.47336634e+07, 6.14990323e+07, 1.55425641e+07,\n",
       "       2.75338710e+07, 1.08257724e+07, 2.60088660e+07, 1.08257724e+07,\n",
       "       2.85381443e+07, 2.48884615e+07, 2.02910801e+07, 6.29500000e+07,\n",
       "       2.58048035e+07, 1.19923377e+07, 1.08257724e+07, 1.08257724e+07,\n",
       "       1.94117647e+08, 1.26639303e+07, 2.74854922e+07, 1.08257724e+07,\n",
       "       1.26506667e+07, 1.73714286e+07, 1.26639303e+07, 1.30350617e+07,\n",
       "       1.22056566e+07, 3.48288430e+07, 1.12767220e+07, 2.09147541e+07,\n",
       "       5.12862500e+07, 1.23501613e+07, 1.73714286e+07, 3.64647959e+07,\n",
       "       4.73092105e+07, 2.58613483e+07, 5.11604348e+07, 1.07179688e+07,\n",
       "       1.12767220e+07, 2.75751381e+07, 1.08257724e+07, 1.26639303e+07,\n",
       "       2.74854922e+07, 6.54044601e+07, 1.29341885e+07, 1.08257724e+07,\n",
       "       6.13814815e+07, 1.12767220e+07, 1.15738017e+07, 1.26639303e+07,\n",
       "       1.43649505e+07, 5.13265306e+07, 1.08257724e+07, 1.14165766e+07,\n",
       "       2.85381443e+07, 1.16130000e+07, 2.74706468e+07, 1.22056566e+07,\n",
       "       7.52829861e+07, 1.22056566e+07, 1.07179688e+07, 1.73714286e+07,\n",
       "       1.37064516e+07, 2.05829738e+07, 1.99729730e+08, 5.70231707e+07,\n",
       "       1.26639303e+07, 1.14165766e+07, 1.22056566e+07, 1.19923377e+07,\n",
       "       1.14165766e+07, 1.57863158e+07, 6.54044601e+07, 2.74706468e+07,\n",
       "       1.50338710e+07, 1.08257724e+07, 5.76037572e+07, 2.16420290e+07,\n",
       "       1.14165766e+07, 2.35231707e+07, 1.06844186e+08, 5.76680000e+07,\n",
       "       1.12767220e+07, 1.12767220e+07, 1.12767220e+07, 1.83406452e+07,\n",
       "       1.55425641e+07, 1.26639303e+07, 1.15738017e+07, 1.89637500e+07,\n",
       "       2.09147541e+07, 2.23495808e+07, 2.11296970e+07, 2.48884615e+07,\n",
       "       4.95093023e+07, 1.33870000e+07, 2.11296970e+07, 1.07179688e+07,\n",
       "       1.26639303e+07, 6.29500000e+07, 2.16420290e+07, 2.31491083e+07,\n",
       "       3.56694215e+07, 1.55425641e+07, 1.37064516e+07, 1.50477778e+07,\n",
       "       1.66681000e+07, 1.08257724e+07, 5.71124074e+07, 1.08257724e+07,\n",
       "       1.08257724e+07, 1.14165766e+07, 1.08257724e+07, 1.08257724e+07,\n",
       "       1.14165766e+07, 1.50477778e+07, 2.05829738e+07, 1.08257724e+07,\n",
       "       1.33870000e+07, 1.14165766e+07, 2.16420290e+07, 7.31746575e+07,\n",
       "       1.14165766e+07, 1.22056566e+07, 2.05829738e+07, 1.98264026e+07,\n",
       "       3.31321678e+07, 2.81167832e+07, 1.83406452e+07, 1.14165766e+07,\n",
       "       1.26914504e+07, 5.22871044e+07, 1.90982456e+07, 1.83406452e+07,\n",
       "       1.50477778e+07, 1.08257724e+07, 1.08257724e+07, 1.19923377e+07,\n",
       "       1.37064516e+07, 3.56694215e+07, 1.83406452e+07, 2.75338710e+07,\n",
       "       1.95902564e+07, 1.23501613e+07, 1.16130000e+07, 1.68041463e+07,\n",
       "       1.29341885e+07, 2.09147541e+07, 1.12767220e+07, 7.80323741e+07,\n",
       "       2.72298851e+07, 1.68041463e+07, 1.51533069e+08, 2.11296970e+07,\n",
       "       1.81742857e+07, 1.26639303e+07, 2.05829738e+07, 1.26639303e+07,\n",
       "       1.83406452e+07, 2.75338710e+07, 1.19923377e+07, 1.23501613e+07,\n",
       "       1.23501613e+07, 1.22056566e+07, 1.84797590e+07, 5.76412088e+07,\n",
       "       6.92258065e+07, 1.12767220e+07, 1.66681000e+07, 1.07179688e+07])"
      ]
     },
     "execution_count": 111,
     "metadata": {},
     "output_type": "execute_result"
    }
   ],
   "source": [
    "predictions "
   ]
  },
  {
   "cell_type": "code",
   "execution_count": 112,
   "id": "e065e308",
   "metadata": {},
   "outputs": [
    {
     "name": "stdout",
     "output_type": "stream",
     "text": [
      "Mean cross-validataion score: 0.79\n"
     ]
    }
   ],
   "source": [
    "scores = cross_val_score(regr_final, X_train,y_train,cv=5)\n",
    "print(\"Mean cross-validataion score: %.2f\" % scores.mean())\n"
   ]
  },
  {
   "cell_type": "code",
   "execution_count": 115,
   "id": "9ca02baf",
   "metadata": {},
   "outputs": [
    {
     "name": "stdout",
     "output_type": "stream",
     "text": [
      "MSE: 109608518982921.94\n",
      "RMSE: 10469408.72\n"
     ]
    }
   ],
   "source": [
    "ypred = regr_final.predict(X_test)\n",
    "mse = mean_squared_error(y_test,ypred)\n",
    "print(\"MSE: %.2f\" % mse)\n",
    "\n",
    "print(\"RMSE: %.2f\" % np.sqrt(mse))\n"
   ]
  },
  {
   "cell_type": "code",
   "execution_count": 119,
   "id": "20ffb8c8",
   "metadata": {},
   "outputs": [
    {
     "data": {
      "image/png": "[encoded data removed]",
      "text/plain": [
       "<Figure size 432x288 with 1 Axes>"
      ]
     },
     "metadata": {
      "needs_background": "light"
     },
     "output_type": "display_data"
    }
   ],
   "source": [
    "x_ax = range(len(y_test))\n",
    "plt.scatter(x_ax, y_test, s=5, color=\"blue\", label=\"original\")\n",
    "plt.plot(x_ax, ypred, lw=0.8, color=\"red\", label=\"predicted\")\n",
    "plt.legend()\n",
    "plt.show()\n"
   ]
  },
  {
   "cell_type": "code",
   "execution_count": null,
   "id": "91f4a278",
   "metadata": {},
   "outputs": [],
   "source": []
  }
 ],
 "metadata": {
  "kernelspec": {
   "display_name": "Python 3 (ipykernel)",
   "language": "python",
   "name": "python3"
  },
  "language_info": {
   "codemirror_mode": {
    "name": "ipython",
    "version": 3
   },
   "file_extension": ".py",
   "mimetype": "text/x-python",
   "name": "python",
   "nbconvert_exporter": "python",
   "pygments_lexer": "ipython3",
   "version": "3.9.12"
  }
 },
 "nbformat": 4,
 "nbformat_minor": 5
}
